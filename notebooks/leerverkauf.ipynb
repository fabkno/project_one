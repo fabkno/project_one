{
 "cells": [
  {
   "cell_type": "code",
   "execution_count": 148,
   "metadata": {
    "collapsed": false
   },
   "outputs": [
    {
     "name": "stdout",
     "output_type": "stream",
     "text": [
      "The autoreload extension is already loaded. To reload it, use:\n",
      "  %reload_ext autoreload\n"
     ]
    }
   ],
   "source": [
    "import numpy as np\n",
    "import requests\n",
    "import csv\n",
    "from bs4 import BeautifulSoup\n",
    "import matplotlib.pyplot as plt\n",
    "%matplotlib inline\n",
    "import pandas as pd\n",
    "import sys\n",
    "sys.path.append('/home/fabian/project_one/update/')\n",
    "import util\n",
    "%load_ext autoreload\n",
    "%autoreload 2\n",
    "from shorts import ShortsUpdater"
   ]
  },
  {
   "cell_type": "code",
   "execution_count": 94,
   "metadata": {
    "collapsed": false
   },
   "outputs": [
    {
     "name": "stdout",
     "output_type": "stream",
     "text": [
      "             Positionsinhaber                          Emittent          ISIN  \\\n",
      "0  Bridgewater Associates, LP  DEUTSCHE BANK AKTIENGESELLSCHAFT  DE0005140008   \n",
      "1  Bridgewater Associates, LP                  Deutsche Post AG  DE0005552004   \n",
      "2  Bridgewater Associates, LP               Deutsche Telekom AG  DE0005557508   \n",
      "3             AKO Capital LLP           Dürr Aktiengesellschaft  DE0005565204   \n",
      "4            AHL Partners LLP                         Evotec AG  DE0005664809   \n",
      "\n",
      "   Position       Datum  \n",
      "0      0.81  2018-02-08  \n",
      "1      0.70  2018-02-08  \n",
      "2      0.61  2018-02-08  \n",
      "3      1.00  2018-02-08  \n",
      "4      1.36  2018-02-08  \n",
      "Empty DataFrame\n",
      "Columns: [Name, URL, ISIN, WKN, SymbolFinanzen.net, Country, Yahoo Ticker, Yahoo online]\n",
      "Index: []\n"
     ]
    }
   ],
   "source": [
    "x = pd.read_csv('/home/fabian/project_one/data/shorts/shorts_list.csv',decimal=\",\")\n",
    "\n",
    "print x.head(5)\n",
    "\n",
    "comp = pd.read_csv('/home/fabian/project_one/data/company_lists/full_list.csv',index_col='Unnamed: 0')\n",
    "print comp.loc[comp['Y'] == \"DE0007664005\"]"
   ]
  },
  {
   "cell_type": "code",
   "execution_count": 90,
   "metadata": {
    "collapsed": false
   },
   "outputs": [
    {
     "name": "stdout",
     "output_type": "stream",
     "text": [
      "Label found for ISIN CEC.DE\n",
      "ISIN DE0005558662  for stock:  Global PVQ SE  not found in data base\n",
      "ISIN DE0005215107  for stock:  Clere AG  not found in data base\n",
      "ISIN DE000A1K0300  for stock:  euromicron Aktiengesellschaft communication & control technology  not found in data base\n",
      "ISIN DE0008032004  for stock:  COMMERZBANK Aktiengesellschaft - Rechtsabteilung-  not found in data base\n",
      "Label found for ISIN SIX2.DE\n",
      "ISIN DE000A1PHBB5  for stock:  R. Stahl Aktiengesellschaft  not found in data base\n",
      "Label found for ISIN KGX.F\n",
      "ISIN DE0007203705  for stock:  SNP Schneider-Neureither & Partner AG  not found in data base\n",
      "ISIN US00771V1089  for stock:  Aerie Pharmaceuticals Inc  not found in data base\n",
      "ISIN DE0006205701  for stock:  IVG Immobilien AG  not found in data base\n",
      "ISIN NL0000240000  for stock:  Qiagen NV  not found in data base\n",
      "ISIN CA26154A1066  for stock:  DREAM GLOBAL REIT  not found in data base\n",
      "ISIN US4532041096  for stock:  IMPINJ, Inc.  not found in data base\n",
      "ISIN DE0007664005  for stock:  VOLKSWAGEN AKTIENGESELLSCHAFT  not found in data base\n",
      "Label found for ISIN WDI.F\n",
      "Label found for ISIN FNTN.DE\n",
      "Label found for ISIN DRI.DE\n",
      "Label found for ISIN RWE.DE\n",
      "ISIN US7750431022  for stock:  Rofin-Sinar Technologies Inc.  not found in data base\n"
     ]
    },
    {
     "ename": "TypeError",
     "evalue": "to_pickle() takes at least 2 arguments (1 given)",
     "output_type": "error",
     "traceback": [
      "\u001b[1;31m---------------------------------------------------------------------------\u001b[0m",
      "\u001b[1;31mTypeError\u001b[0m                                 Traceback (most recent call last)",
      "\u001b[1;32m<ipython-input-90-61455b628e7e>\u001b[0m in \u001b[0;36m<module>\u001b[1;34m()\u001b[0m\n\u001b[0;32m      1\u001b[0m \u001b[0mob\u001b[0m \u001b[1;33m=\u001b[0m \u001b[0mUpdateShorts\u001b[0m\u001b[1;33m(\u001b[0m\u001b[0mPathData\u001b[0m\u001b[1;33m=\u001b[0m\u001b[1;34m'/home/fabian/project_one/data/'\u001b[0m\u001b[1;33m)\u001b[0m\u001b[1;33m\u001b[0m\u001b[0m\n\u001b[1;32m----> 2\u001b[1;33m \u001b[0mob\u001b[0m\u001b[1;33m.\u001b[0m\u001b[0mupdate_from_file\u001b[0m\u001b[1;33m(\u001b[0m\u001b[1;33m)\u001b[0m\u001b[1;33m\u001b[0m\u001b[0m\n\u001b[0m\u001b[0;32m      3\u001b[0m \u001b[1;33m\u001b[0m\u001b[0m\n\u001b[0;32m      4\u001b[0m \u001b[1;31m#isin = x['ISIN'].tolist()\u001b[0m\u001b[1;33m\u001b[0m\u001b[1;33m\u001b[0m\u001b[0m\n\u001b[0;32m      5\u001b[0m \u001b[1;31m#print len(list(set(isin)))\u001b[0m\u001b[1;33m\u001b[0m\u001b[1;33m\u001b[0m\u001b[0m\n",
      "\u001b[1;32m/home/fabian/project_one/update/shorts.py\u001b[0m in \u001b[0;36mupdate_from_file\u001b[1;34m(self, filename)\u001b[0m\n\u001b[0;32m     62\u001b[0m \u001b[1;33m\u001b[0m\u001b[0m\n\u001b[0;32m     63\u001b[0m \u001b[1;33m\u001b[0m\u001b[0m\n\u001b[1;32m---> 64\u001b[1;33m                 \u001b[0mpd\u001b[0m\u001b[1;33m.\u001b[0m\u001b[0mto_pickle\u001b[0m\u001b[1;33m(\u001b[0m\u001b[0mself\u001b[0m\u001b[1;33m.\u001b[0m\u001b[0mPathData\u001b[0m\u001b[1;33m+\u001b[0m\u001b[1;34m'shorts/list.p'\u001b[0m\u001b[1;33m)\u001b[0m\u001b[1;33m\u001b[0m\u001b[0m\n\u001b[0m\u001b[0;32m     65\u001b[0m \u001b[1;33m\u001b[0m\u001b[0m\n\u001b[0;32m     66\u001b[0m \u001b[1;33m\u001b[0m\u001b[0m\n",
      "\u001b[1;31mTypeError\u001b[0m: to_pickle() takes at least 2 arguments (1 given)"
     ]
    }
   ],
   "source": [
    "ob = UpdateShorts(PathData='/home/fabian/project_one/data/')\n",
    "ob.update_from_file()\n",
    "\n",
    "#isin = x['ISIN'].tolist()\n",
    "#print len(list(set(isin)))"
   ]
  },
  {
   "cell_type": "code",
   "execution_count": 50,
   "metadata": {
    "collapsed": false
   },
   "outputs": [
    {
     "name": "stdout",
     "output_type": "stream",
     "text": [
      "                         Positionsinhaber  Position       Datum\n",
      "4                        AHL Partners LLP      1.36  2018-02-08\n",
      "33                      Marshall Wace LLP      0.83  2018-02-07\n",
      "34                        WorldQuant, LLC      0.97  2018-02-07\n",
      "64                       AHL Partners LLP      1.44  2018-02-06\n",
      "65   BlueMountain Capital Management, LLC      0.78  2018-02-06\n",
      "125                       WorldQuant, LLC      1.09  2018-02-01\n",
      "142                     Marshall Wace LLP      0.94  2018-01-31\n",
      "168                       WorldQuant, LLC      1.17  2018-01-30\n",
      "188  BlueMountain Capital Management, LLC      0.86  2018-01-29\n",
      "207                      AHL Partners LLP      1.58  2018-01-26\n",
      "\n",
      "\n",
      "           Date  position\n",
      "5429 2018-02-04     11.29\n",
      "5430 2018-02-05     11.29\n",
      "5431 2018-02-06     11.07\n",
      "5432 2018-02-07     10.84\n",
      "5433 2018-02-08     10.76\n"
     ]
    }
   ],
   "source": [
    "\n",
    "test =  x.loc[x['ISIN'] == 'DE0005664809']\n",
    "\n",
    "print test.head(10)[['Positionsinhaber','Position','Datum']]\n",
    "owners = list(set(test['Positionsinhaber'].tolist()))\n",
    "\n",
    "#print owners\n",
    "\n",
    "one = test.loc[test['Positionsinhaber'] == owners[0]]\n",
    "two = test.loc[test['Positionsinhaber'] == owners[1]]\n",
    "#print one\n",
    "\n",
    "print \"\\n\"\n",
    "#print two\n",
    "amount = pd.DataFrame(columns=['Date','position'])\n",
    "\n",
    "amount['Date'] = pd.date_range(x.tail(1)['Datum'].values[0],x.head(1)['Datum'].values[0])\n",
    "\n",
    "amount['position'] = 0\n",
    "for owner in owners:\n",
    "    tmp = test.loc[test['Positionsinhaber'] == owner]\n",
    "    \n",
    "    for i in range(1,len(tmp)+1):\n",
    "        if i == len(tmp):\n",
    "            amount.loc[amount['Date'] >= tmp['Datum'].tail(i).values[0],'position'] += tmp.tail(i)['Position'].values[0]  \n",
    "        else:\n",
    "            amount.loc[(amount['Date'] >= tmp['Datum'].tail(i).values[0]) &(amount['Date'] < tmp['Datum'].tail(i+1).values[0]),'position'] += tmp.tail(i)['Position'].values[0]\n",
    "\n",
    "print amount.loc[amount['Date']>'2018-1-1'].tail(5)"
   ]
  },
  {
   "cell_type": "code",
   "execution_count": 135,
   "metadata": {
    "collapsed": false
   },
   "outputs": [
    {
     "name": "stdout",
     "output_type": "stream",
     "text": [
      "['Date', 'CEC.DE', 'SIX2.DE', 'KGX.F', 'WDI.F', 'FNTN.DE', 'DRI.DE', 'RWE.DE', 'VOS.DE', 'SDF.DE', 'DBK.DE', 'EVK.F', 'HDD.DE', 'RHM.DE', 'UN01.DE', 'SNH.DE', 'SAP.DE', 'MTX.DE', 'UTDI.DE', 'LHA.DE', 'BOSS.DE', 'BDT.DE', 'GXI.DE', 'BAYN.DE', 'EVT.DE', 'WCH.DE', 'HOT.DE', 'SGL.DE', 'GMM.DE', 'COK.DE', 'BVB.DE', 'KRN.DE', 'BIO3.DE', 'SZU.DE', 'SAZ.DE', 'MRK.DE', 'SPR.DE', 'VNA.DE', 'MDG1.DE', 'FIE.F', 'AIXA.DE', 'SIE.DE', 'DRW3.DE', 'CAP.DE', 'GFT.DE', 'ZIL2.F', 'NDX1.DE', 'ADV.DE', 'PSM.DE', 'ARL.DE', 'SKB.DE', 'FRE.DE', 'SY1.DE', 'HEI.DE', 'ALV.DE', 'B4B.F', 'DEZ.DE', 'ZO1.DE', 'MUV2.DE', 'TLG.DE', 'JUN3.DE', 'TEG.DE', 'PBB.DE', 'TLX.DE', 'SRT3.DE', 'S92.F', 'INH.DE', 'LIN.DE', 'LXS.DE', 'FRA.DE', 'FPE3.DE', 'KCO.DE', 'RIB.DE', 'ADL.F', 'NOEJ.DE', 'LBTYA', 'BAS.DE', 'DAI.DE', 'AM3D.DE', 'NEM.DE', 'MOR.DE', 'GIL.DE', 'VT9.DE', 'PFV.DE', 'G1A.DE', 'DUE.DE', 'VOW3.DE', 'DEQ.DE', 'AOX.DE', 'GBF.DE', 'IFX.DE', 'SANT.DE', 'DLG.DE', 'P1Z.DE', 'WIN.DE', 'SAX.F', '1COV.DE', 'OSR.DE', 'QIA.DE', 'DPW.DE', 'TC1.DE', 'FME.DE', 'DWNI.F', 'DIC.DE', 'LEG.F', 'CBK.DE', 'SZG.DE', 'NDA.DE', 'EOAN.DE', 'RKET.DE', 'GWI1.DE', 'SOW.DE', 'SFQ.DE', 'RHK.DE', 'HYQ.DE', 'HAB.F', 'HNR1.DE', 'ZAL.DE', 'DTE.DE', 'ACX.F', 'TKA.DE', 'EVD.DE', 'ADS.DE', 'LEO.DE', 'HHFA.DE', 'O2D.DE', 'GYC.F']\n"
     ]
    },
    {
     "data": {
      "image/png": "[encoded data removed]",
      "text/plain": [
       "<matplotlib.figure.Figure at 0x7f29bebd1b50>"
      ]
     },
     "metadata": {},
     "output_type": "display_data"
    }
   ],
   "source": [
    "data = pd.read_pickle('/home/fabian/project_one/data/shorts/list.p')\n",
    "print data.columns.tolist()\n",
    "plt.plot(data['Date'],data['WCH.DE'])\n",
    "plt.show()"
   ]
  },
  {
   "cell_type": "code",
   "execution_count": 3,
   "metadata": {
    "collapsed": false
   },
   "outputs": [
    {
     "name": "stdout",
     "output_type": "stream",
     "text": [
      "https://www.bundesanzeiger.de/ebanzwww/wexsservlet?page.navid=to_nlp_start&session.sessionid=55fac717318ccbeac4f630e900b297f4&global_data.designmode=eb\n"
     ]
    }
   ],
   "source": [
    "url = 'https://www.bundesanzeiger.de/'\n",
    "\n",
    "s = requests.Session()\n",
    "\n",
    "\n",
    "r = s.get(url)\n",
    "soup = BeautifulSoup(r.content, 'html.parser')\n",
    "\n",
    "for link in list(soup.find_all('a')):\n",
    "    if \"Leerverkaufspositionen\" in str(link):\n",
    "        \n",
    "        string = str(link.get('href'))\n",
    "        start=  util.find_str(string,\"session.sessionid\",return_ind='start')\n",
    "        end = util.find_str(string[start:],\"&\",return_ind='end')\n",
    "        seassionid= string[start:start+end-2]\n",
    "        \n",
    "        \n",
    "        new =\"https://www.bundesanzeiger.de\"+link.get('href')\n",
    "        print new\n",
    "        r1 = s.get(new)\n",
    "\n"
   ]
  },
  {
   "cell_type": "code",
   "execution_count": 71,
   "metadata": {
    "collapsed": false
   },
   "outputs": [
    {
     "name": "stdout",
     "output_type": "stream",
     "text": [
      "0,81 %\n"
     ]
    }
   ],
   "source": [
    "\n",
    "l1 = list(soup.findAll(\"td\", {\"class\": \"first\"}))\n",
    "l2 = list(soup.findAll(\"td\", {\"class\": \"col_nlp_position\"}))\n",
    "#print soup.findAll(\"td\", {\"class\":\"col_nlp_position\"})\n",
    "\n",
    "print l2[0].get_text()"
   ]
  },
  {
   "cell_type": "code",
   "execution_count": 100,
   "metadata": {
    "collapsed": true
   },
   "outputs": [],
   "source": [
    "soup =BeautifulSoup(r1.content,'html.parser')\n",
    "l = soup.findAll(\"table\", {\"class\": \"result\"})[0]\n",
    "names = l.findAll(\"td\",{\"class\":\"first\"})\n",
    "pos = l.findAll(\"td\",{\"class\":\"col_nlp_position\"})\n",
    "date = l.findAll(\"td\",{\"class\":\"last\"})\n",
    "comp_data = l.findAll(\"td\",{\"class\":None})\n"
   ]
  },
  {
   "cell_type": "code",
   "execution_count": 159,
   "metadata": {
    "collapsed": false
   },
   "outputs": [
    {
     "name": "stdout",
     "output_type": "stream",
     "text": [
      "                         Positionsinhaber                       Emittent  \\\n",
      "5  Millennium International Management LP  Salzgitter Aktiengesellschaft   \n",
      "6  Millennium International Management LP                     Aurubis AG   \n",
      "7                        AHL Partners LLP         RWE Aktiengesellschaft   \n",
      "8              Bridgewater Associates, LP                     Daimler AG   \n",
      "9              Bridgewater Associates, LP                         SAP SE   \n",
      "\n",
      "           ISIN Position       Datum  \n",
      "5  DE0006202005     1,30  2018-02-08  \n",
      "6  DE0006766504     0,91  2018-02-08  \n",
      "7  DE0007037129     0,47  2018-02-08  \n",
      "8  DE0007100000     0,84  2018-02-08  \n",
      "9  DE0007164600     0,74  2018-02-08  \n",
      "             Positionsinhaber                          Emittent          ISIN  \\\n",
      "0  Bridgewater Associates, LP  DEUTSCHE BANK AKTIENGESELLSCHAFT  DE0005140008   \n",
      "1  Bridgewater Associates, LP                  Deutsche Post AG  DE0005552004   \n",
      "2  Bridgewater Associates, LP               Deutsche Telekom AG  DE0005557508   \n",
      "3             AKO Capital LLP           Dürr Aktiengesellschaft  DE0005565204   \n",
      "4            AHL Partners LLP                         Evotec AG  DE0005664809   \n",
      "\n",
      "  Position       Datum  \n",
      "0     0,81  2018-02-08  \n",
      "1     0,70  2018-02-08  \n",
      "2     0,61  2018-02-08  \n",
      "3     1,00  2018-02-08  \n",
      "4     1,36  2018-02-08  \n"
     ]
    }
   ],
   "source": [
    "tmp = pd.DataFrame(columns=['Positionsinhaber','Emittent','ISIN','Position','Datum'],dtype=object)\n",
    "for i in range(len(names)):\n",
    "\n",
    "    tmp = tmp.append({'Positionsinhaber':names[i].get_text(),\n",
    "     'Position':pos[i].get_text()[0:-2],\n",
    "     'Datum':date[i].get_text(),\n",
    "     'ISIN':comp_data[i*2+1].get_text(),\n",
    "     'Emittent':comp_data[i*2].get_text()[0:util.find_str(comp_data[i*2].get_text(),\"Historie\",return_ind=\"start\")-2]},ignore_index=True)\n",
    "\n",
    "d = pd.read_csv('/home/fabian/project_one/data/shorts/shorts_list.csv')[5:]\n",
    "\n",
    "print d.head(5)\n",
    "print tmp.head(5)"
   ]
  },
  {
   "cell_type": "code",
   "execution_count": 160,
   "metadata": {
    "collapsed": false
   },
   "outputs": [
    {
     "name": "stdout",
     "output_type": "stream",
     "text": [
      "['Millennium International Management LP' 'Salzgitter Aktiengesellschaft'\n",
      " 'DE0006202005' '1,30' '2018-02-08']\n",
      "[u'Bridgewater Associates, LP' u'DEUTSCHE BANK AKTIENGESELLSCHAFT'\n",
      " u'DE0005140008' u'0,81' u'2018-02-08']\n",
      "5\n",
      "             Positionsinhaber                          Emittent          ISIN  \\\n",
      "0  Bridgewater Associates, LP  DEUTSCHE BANK AKTIENGESELLSCHAFT  DE0005140008   \n",
      "1  Bridgewater Associates, LP                  Deutsche Post AG  DE0005552004   \n",
      "\n",
      "  Position       Datum  \n",
      "0     0,81  2018-02-08  \n",
      "1     0,70  2018-02-08  \n"
     ]
    }
   ],
   "source": [
    "#print tmp.head(2)\n",
    "print d.head(1).values[0]\n",
    "print tmp.head(1).values[0]\n",
    "#print tmp.columns\n",
    "try:\n",
    "    idx_in_tmp = np.where(util.find_mask(tmp,d.head(1).values[0],d.columns) ==True)[0][0]\n",
    "    print idx_in_tmp\n",
    "    if idx_in_tmp == 0:\n",
    "        print \"no new data to append\"\n",
    "    else:\n",
    "        d = pd.concat([tmp[0:idx_in_tmp],d],ignore_index=True)\n",
    "    print d.head(2)\n",
    "except IndexError:\n",
    "    print \"more than 20 new entries found, download new list from bundesanzeiger.de\"\n"
   ]
  },
  {
   "cell_type": "code",
   "execution_count": 176,
   "metadata": {
    "collapsed": false
   },
   "outputs": [
    {
     "name": "stdout",
     "output_type": "stream",
     "text": [
      "2 new found short positions saved\n"
     ]
    }
   ],
   "source": [
    "ob = ShortsUpdater(PathData='/home/fabian/project_one/data/')\n",
    "ob.update_from_web()"
   ]
  }
 ],
 "metadata": {
  "kernelspec": {
   "display_name": "Python 2",
   "language": "python",
   "name": "python2"
  }
 },
 "nbformat": 4,
 "nbformat_minor": 2
}
