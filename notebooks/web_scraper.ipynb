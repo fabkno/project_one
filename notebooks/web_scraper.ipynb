{
 "cells": [
  {
   "cell_type": "code",
   "execution_count": 69,
   "metadata": {
    "collapsed": false
   },
   "outputs": [],
   "source": [
    "import numpy as np\n",
    "import pandas as pd\n",
    "import matplotlib.pyplot as plt\n",
    "import datetime\n",
    "%matplotlib inline\n",
    "import sys\n",
    "sys.path.append('/home/fabian/project_one/update/')\n",
    "from util import find_str"
   ]
  },
  {
   "cell_type": "code",
   "execution_count": 2,
   "metadata": {
    "collapsed": false
   },
   "outputs": [],
   "source": [
    "import requests"
   ]
  },
  {
   "cell_type": "code",
   "execution_count": 7,
   "metadata": {
    "collapsed": false
   },
   "outputs": [],
   "source": [
    "page = requests.get(\"https://www.finanzen.net/analysen/adidas-Analysen@intpagenr_1\")\n",
    "\n",
    "from bs4 import BeautifulSoup\n",
    "soup = BeautifulSoup(page.content, 'html.parser')\n"
   ]
  },
  {
   "cell_type": "code",
   "execution_count": 164,
   "metadata": {
    "collapsed": false
   },
   "outputs": [
    {
     "name": "stdout",
     "output_type": "stream",
     "text": [
      "Empty DataFrame\n",
      "Columns: [Date, Category, Analyst, Phrase]\n",
      "Index: []\n"
     ]
    }
   ],
   "source": [
    "X = pd.DataFrame(columns=['Date','Category','Analyst','Phrase'])\n",
    "print X"
   ]
  },
  {
   "cell_type": "code",
   "execution_count": 160,
   "metadata": {
    "collapsed": false
   },
   "outputs": [
    {
     "name": "stdout",
     "output_type": "stream",
     "text": [
      "LONDON (dpa-AFX Analyser) - Die britische Investmentbank HSBC hat die Einstufung für Adidas vor Zahlen auf \"Buy\" mit einem Kursziel von 231 Euro belassen. Nach den jüngsten Kursverlusten rechne er damit, dass der Sportartikelhersteller zur Zahlenvorlage am 14. März den Markt mit seiner Bilanz für 2017 und einem ersten Ausblick auf 2018 wieder überzeugen könne, schrieb Analyst Erwan Rambourg in einer am Dienstag vorliegenden Studie. Der Fokuswechsel weg von Umsatzsteigerungen und hin zur Margenverbesserung sei gesund./ck/glDatum der Analyse: 23.01.2018 Hinweis: Informationen zur Offenlegungspflicht bei Interessenkonflikten im Sinne von § 34 b WpHG für das genannte Analysten-Haus finden Sie unter http://web.dpa-afx.de/offenlegungspflicht/offenlegungs_pflicht.html.\n",
      "von 231 Euro belassen.\n"
     ]
    }
   ],
   "source": [
    "def get_phrase(string):\n",
    "    \n",
    "    ListOfStrings=  string.split(\" \")\n",
    "    ind = ListOfStrings.index(\"Euro\")\n",
    "    \n",
    "    if ListOfStrings[ind-3].isdigit() is True:\n",
    "        phrase = \" \".join(ListOfStrings[ind-4:ind+2])\n",
    "    \n",
    "    else:\n",
    "        phrase = \" \".join(ListOfStrings[ind-2:ind+2])\n",
    " \n",
    "    return phrase\n",
    "\n",
    "\n",
    "print string\n",
    "print get_phrase(string)"
   ]
  },
  {
   "cell_type": "code",
   "execution_count": 165,
   "metadata": {
    "collapsed": false
   },
   "outputs": [],
   "source": [
    "\n",
    "for num,l in enumerate(soup.findAll(\"table\")[1].findAll(\"tr\")):\n",
    "    \n",
    "        url =  \"https://www.finanzen.net\"+l.findAll('a')[0].get('href')\n",
    "    \n",
    "        tds = l.findAll('td')\n",
    "        Category = tds[1].get_text().split(' ')[1]\n",
    "    \n",
    "        Analyst = tds[2].get_text()\n",
    "        \n",
    "        detailedPage = requests.get(url)\n",
    "        soupNew = BeautifulSoup(detailedPage.content,'html.parser')\n",
    "    \n",
    "        string= soupNew.findAll(\"p\")[0].get_text()\n",
    "    \n",
    "        n_analyse= find_str(string,\"Datum der Analyse: \")\n",
    "        date= datetime.datetime.strptime(string[n_analyse-1:n_analyse+9],'%d.%m.%Y').date()\n",
    "        \n",
    "        phrase = get_phrase(string)\n",
    "\n",
    "    \n",
    "        X = X.append({'Date':date,'Category':Category,'Analyst':Analyst,'Phrase':phrase},ignore_index=True)\n",
    "    #print Category\n",
    "    \n",
    "    #print Analyst\n",
    "    #print date\n",
    "        \n",
    "\n",
    "\n",
    "#https://www.finanzen.net/analyse/adidas_Hold-Hauck__Aufhaeuser_Privatbankiers_KGaA_638612"
   ]
  },
  {
   "cell_type": "code",
   "execution_count": 163,
   "metadata": {
    "collapsed": false
   },
   "outputs": [
    {
     "name": "stdout",
     "output_type": "stream",
     "text": [
      "          Date Category                                            Analyst  \\\n",
      "0   2018-03-12      NaN              Hauck & Aufhäuser Privatbankiers KGaA   \n",
      "1   2018-03-08      NaN                          Merrill Lynch & Co., Inc.   \n",
      "2   2018-03-08      NaN                          Merrill Lynch & Co., Inc.   \n",
      "3   2018-03-07      NaN                                   Kepler Cheuvreux   \n",
      "4   2018-02-26      NaN                                        Baader Bank   \n",
      "5   2018-02-22      NaN                                Credit Suisse Group   \n",
      "6   2018-02-20      NaN                                             UBS AG   \n",
      "7   2018-02-14      NaN                                     Commerzbank AG   \n",
      "8   2018-02-07      NaN                                RBC Capital Markets   \n",
      "9   2018-01-30      NaN  Joh. Berenberg, Gossler & Co. KG (Berenberg Bank)   \n",
      "10  2018-01-29      NaN                           Goldman Sachs Group Inc.   \n",
      "11  2018-01-23      NaN                                             UBS AG   \n",
      "12  2018-01-23      NaN                                               HSBC   \n",
      "13  2018-01-22      NaN                                     Commerzbank AG   \n",
      "14  2018-01-19      NaN                                 Macquarie Research   \n",
      "15  2018-01-15      NaN                                     Commerzbank AG   \n",
      "16  2018-01-12      NaN                  Norddeutsche Landesbank (Nord/LB)   \n",
      "17  2018-01-09      NaN                          Independent Research GmbH   \n",
      "18  2017-12-22      NaN                                 Macquarie Research   \n",
      "19  2017-12-22      NaN                                   Warburg Research   \n",
      "20  2017-12-21      NaN                                        Baader Bank   \n",
      "21  2017-12-19      NaN                                   Kepler Cheuvreux   \n",
      "22  2017-12-06      NaN                                             UBS AG   \n",
      "23  2017-11-14      NaN                                               HSBC   \n",
      "24  2017-11-13      NaN                                 Macquarie Research   \n",
      "25  2017-11-13      NaN                                             UBS AG   \n",
      "26  2017-11-10      NaN                                    S&P; Capital IQ   \n",
      "27  2017-11-10      NaN                                        Baader Bank   \n",
      "28  2017-11-10      NaN  Joh. Berenberg, Gossler & Co. KG (Berenberg Bank)   \n",
      "29  2017-11-10      NaN                                            DZ BANK   \n",
      "30  2017-11-10      NaN                                   Kepler Cheuvreux   \n",
      "31  2017-11-10      NaN                                             UBS AG   \n",
      "32  2017-11-10      NaN                                   Deutsche Bank AG   \n",
      "33  2017-11-10      NaN                              JP Morgan Chase & Co.   \n",
      "34  2017-11-09      NaN                                             UBS AG   \n",
      "35  2017-11-09      NaN                          Independent Research GmbH   \n",
      "36  2017-11-09      NaN                                   Kepler Cheuvreux   \n",
      "37  2017-11-09      NaN                                   Warburg Research   \n",
      "38  2017-11-09      NaN                              JP Morgan Chase & Co.   \n",
      "39  2017-11-09      NaN                                         equinet AG   \n",
      "\n",
      "                             Phrase     Cateory  \n",
      "0   von 130 auf 170 Euro angehoben.        Hold  \n",
      "1   von 195 auf 240 Euro angehoben.         buy  \n",
      "2   von 195 auf 240 Euro angehoben.         buy  \n",
      "3            von 215 Euro belassen.         buy  \n",
      "4            von 220 Euro belassen.         buy  \n",
      "5   von 180 auf 223 Euro angehoben.  Outperform  \n",
      "6            von 225 Euro belassen.         buy  \n",
      "7            von 226 Euro belassen.         buy  \n",
      "8            von 215 Euro belassen.  Outperform  \n",
      "9            von 200 Euro belassen.        Hold  \n",
      "10           von 215 Euro belassen.         buy  \n",
      "11           von 225 Euro belassen.         buy  \n",
      "12           von 231 Euro belassen.         buy  \n",
      "13           von 226 Euro belassen.         buy  \n",
      "14   von 220 auf 223 Euro angehoben  Outperform  \n",
      "15           von 226 Euro belassen.         buy  \n",
      "16           von 198 Euro belassen.      Halten  \n",
      "17    von 205 auf 190 Euro gesenkt,      Halten  \n",
      "18    von 230 auf 220 Euro gesenkt,  Outperform  \n",
      "19           von 205 Euro belassen.        Hold  \n",
      "20           von 220 Euro belassen.         buy  \n",
      "21           von 215 Euro belassen.         buy  \n",
      "22           von 225 Euro belassen.         buy  \n",
      "23   von 227 auf 231 Euro angehoben         buy  \n",
      "24           von 230 Euro belassen.  Outperform  \n",
      "25           von 225 Euro belassen.         buy  \n",
      "26           von 205 Euro belassen.        Hold  \n",
      "27           von 220 Euro belassen.         buy  \n",
      "28           von 200 Euro belassen.        Hold  \n",
      "29           von 215 Euro belassen.      kaufen  \n",
      "30    von 220 auf 215 Euro gesenkt,         buy  \n",
      "31   von 220 auf 225 Euro angehoben         buy  \n",
      "32           von 210 Euro belassen.        Hold  \n",
      "33           von 195 Euro belassen.     Neutral  \n",
      "34           von 220 Euro belassen.         buy  \n",
      "35     von 208 auf 205 Euro gesenkt     neutral  \n",
      "36           von 220 Euro belassen.         buy  \n",
      "37           von 205 Euro belassen.        Hold  \n",
      "38           von 195 Euro belassen.     Neutral  \n",
      "39           von 211 Euro belassen.  accumulate  \n"
     ]
    }
   ],
   "source": [
    "print X"
   ]
  },
  {
   "cell_type": "code",
   "execution_count": 83,
   "metadata": {
    "collapsed": false
   },
   "outputs": [
    {
     "name": "stdout",
     "output_type": "stream",
     "text": [
      "2018-03-12\n"
     ]
    }
   ],
   "source": [
    "date= string[n_analyse-1:n_analyse+9]\n",
    "\n",
    "print datetime.datetime.strptime(date,'%d.%m.%Y').date()"
   ]
  },
  {
   "cell_type": "code",
   "execution_count": 102,
   "metadata": {
    "collapsed": false
   },
   "outputs": [
    {
     "name": "stdout",
     "output_type": "stream",
     "text": [
      "NEW YORK (dpa-AFX Analyser) - Die US-Investmentbank Merrill Lynch hat Adidas  von \"Neutral\" auf \"Buy\" hochgestuft und das Kursziel von 195 auf 240 Euro angehoben. Nach einer Periode starken Umsatzwachstums trete der Sportartikelkonzern nun in die Phase höherer Profitabilität ein, schrieb Analystin Sophie Park in einer am Donnerstag vorliegenden Studie. Das gute Margenpotenzial werde vom Markt noch unterschätzt. Die Expertin rechnet für 2018 und 2019 mit einem Gewinnwachstum (EPS) von gut 20 beziehungsweise fast 26 Prozent. Für die Aktie sieht sie derzeit ein Aufwärtspotenzial von 35 Prozent./edh/agDatum der Analyse: 08.03.2018 Hinweis: Informationen zur Offenlegungspflicht bei Interessenkonflikten im Sinne von § 34 b WpHG für das genannte Analysten-Haus finden Sie unter http://web.dpa-afx.de/offenlegungspflicht/offenlegungs_pflicht.html.\n",
      "\n",
      "161 .\n",
      "von 195 auf 240 Euro angehoben\n"
     ]
    }
   ],
   "source": [
    "print string\n",
    "\n",
    "\n",
    "n_kursziel_from =  find_str(string,\"Kursziel\")\n",
    "\n",
    "n_kursziel_end = n_kursziel_from + find_str(string[n_kursziel_from:],char='.',return_ind=\"start\")\n",
    "print \"\\n\", n_kursziel_end,string[n_kursziel_end]\n",
    "print string[n_kursziel_from:n_kursziel_end]"
   ]
  },
  {
   "cell_type": "code",
   "execution_count": 90,
   "metadata": {
    "collapsed": false
   },
   "outputs": [
    {
     "name": "stdout",
     "output_type": "stream",
     "text": [
      "/branchen/Anlagen__Maschinenbau \t\tAnlagen- / Maschinenbau\n",
      "/branchen/Automobilproduktion \t\tAutomobilproduktion\n",
      "/branchen/Automobilzulieferer \t\tAutomobilzulieferer\n",
      "/branchen/Banken \t\tBanken\n",
      "/branchen/Bau_Zulieferer__Baustoffe \t\tBau-Zulieferer / Baustoffe\n",
      "/branchen/Baudienstleister \t\tBaudienstleister\n",
      "/branchen/Bauhauptgewerbe \t\tBauhauptgewerbe\n",
      "/branchen/Bekleidung__Textilien__Schuhe \t\tBekleidung / Textilien / Schuhe\n",
      "/branchen/Bildung_und_Forschung \t\tBildung und Forschung\n",
      "/branchen/Biotechnologie \t\tBiotechnologie\n",
      "/branchen/Boersenmantel__Gesellschaft_in_Liquidation \t\tBörsenmantel / Gesellschaft in Liquidation\n",
      "/branchen/Brief__Paketdienste \t\tBrief- / Paketdienste\n",
      "/branchen/Broadcasting \t\tBroadcasting\n",
      "/branchen/Chemie \t\tChemie\n",
      "/branchen/Chiphersteller__Halbleiter \t\tChiphersteller / Halbleiter\n",
      "/branchen/Datenspeicherung_Hardware \t\tDatenspeicherung (Hardware)\n",
      "/branchen/Dienstleistungen \t\tDienstleistungen\n",
      "/branchen/E_Commerce_Software \t\tE-Commerce-Software\n",
      "/branchen/Einzelhandel \t\tEinzelhandel\n",
      "/branchen/Elektroausstattung \t\tElektroausstattung\n",
      "/branchen/Elektronische_Bauelemente \t\tElektronische Bauelemente\n",
      "/branchen/Elektrotechnologie \t\tElektrotechnologie\n",
      "/branchen/Energie \t\tEnergie\n",
      "/branchen/Erneuerbare_Energien \t\tErneuerbare Energien\n",
      "/branchen/Filialen \t\tFilialen\n",
      "/branchen/Finanzdienstleister \t\tFinanzdienstleister\n",
      "/branchen/Fluggesellschaften \t\tFluggesellschaften\n",
      "/branchen/Freizeitparks \t\tFreizeitparks\n",
      "/branchen/Geraetehersteller \t\tGerätehersteller\n",
      "/branchen/Gesundheitsdienstleister \t\tGesundheitsdienstleister\n",
      "/branchen/Getraenke__Tabak \t\tGetränke / Tabak\n",
      "/branchen/Grosshandel \t\tGroßhandel\n",
      "/branchen/Handel \t\tHandel\n",
      "/branchen/Hardware \t\tHardware\n",
      "/branchen/Holdings__Mischkonzerne \t\tHoldings / Mischkonzerne\n",
      "/branchen/Holzindustrie__Holzverarbeitung \t\tHolzindustrie / Holzverarbeitung\n",
      "/branchen/Hotels \t\tHotels\n",
      "/branchen/Immobilien \t\tImmobilien\n",
      "/branchen/Industrie \t\tIndustrie\n",
      "/branchen/Industriedienstleister \t\tIndustriedienstleister\n",
      "/branchen/Informationstechnologie \t\tInformationstechnologie\n",
      "/branchen/Ingenieurdienstleister \t\tIngenieurdienstleister\n",
      "/branchen/Internet_Dienstleister \t\tInternet-Dienstleister\n",
      "/branchen/Internethandel_B2B_B2C \t\tInternethandel (B2B, B2C)\n",
      "/branchen/Investmentbanken__Broker \t\tInvestmentbanken / Broker\n",
      "/branchen/IT_Beratung_Hardware \t\tIT-Beratung Hardware\n",
      "/branchen/IT_Dienstleister \t\tIT-Dienstleister\n",
      "/branchen/Kaufhaeuser \t\tKaufhäuser\n",
      "/branchen/Konsumgueter \t\tKonsumgüter\n",
      "/branchen/Kunststoffe \t\tKunststoffe\n",
      "/branchen/LifeScience \t\tLifeScience\n",
      "/branchen/Logistik \t\tLogistik\n",
      "/branchen/Luft_und_Raumfahrt \t\tLuft- und Raumfahrt\n",
      "/branchen/Luxusgueter \t\tLuxusgüter\n",
      "/branchen/Medien__Entertainment \t\tMedien / Entertainment\n",
      "/branchen/Medizinische_Produkte__Medizintechnik \t\tMedizinische Produkte / Medizintechnik\n",
      "/branchen/Moebel__Einrichtung__Haushaltsgeraete \t\tMöbel / Einrichtung / Haushaltsgeräte\n",
      "/branchen/Mobilkommunikation \t\tMobilkommunikation\n",
      "/branchen/Nahrung__Restaurant \t\tNahrung / Restaurant\n",
      "/branchen/Netzbetreiber_Carrier \t\tNetzbetreiber (Carrier)\n",
      "/branchen/Netzwerkaufbau__ausruester \t\tNetzwerkaufbau / -ausrüster\n",
      "/branchen/Netzwerktechnik_Hardware \t\tNetzwerktechnik (Hardware)\n",
      "/branchen/Nutzfahrzeuge \t\tNutzfahrzeuge\n",
      "/branchen/Oel__Gas_Versorger \t\tÖl / Gas (Versorger)\n",
      "/branchen/Oel_und_Gas \t\tÖl und Gas\n",
      "/branchen/Outsourcing \t\tOutsourcing\n",
      "/branchen/Papier_Kartonindustrie \t\tPapier-/Kartonindustrie\n",
      "/branchen/PCs__Handhelds \t\tPCs / Handhelds\n",
      "/branchen/Personaldienstleister \t\tPersonaldienstleister\n",
      "/branchen/Pharma \t\tPharma\n",
      "/branchen/Pharmahandel \t\tPharmahandel\n",
      "/branchen/Rechte \t\tRechte\n",
      "/branchen/Recycling \t\tRecycling\n",
      "/branchen/Rohstoffe \t\tRohstoffe\n",
      "/branchen/Rohstofffoerderung_Diamanten_Edelmetalle \t\tRohstoffförderung (Diamanten/Edelmetalle)\n",
      "/branchen/Rohstofffoerderung_Metalle_Kohle \t\tRohstoffförderung (Metalle/Kohle)\n",
      "/branchen/Rohstofffoerderung_Oel__Gas \t\tRohstoffförderung (Öl / Gas)\n",
      "/branchen/Rueckversicherungen \t\tRückversicherungen\n",
      "/branchen/Ruestungsindustrie \t\tRüstungsindustrie\n",
      "/branchen/Schiffbau \t\tSchiffbau\n",
      "/branchen/Schifffahrt \t\tSchifffahrt\n",
      "/branchen/Server__Grossrechner_Hardware \t\tServer- / Großrechner (Hardware)\n",
      "/branchen/Server__Grossrechner_Software \t\tServer-/ Großrechner (Software)\n",
      "/branchen/Software \t\tSoftware\n",
      "/branchen/Spezialchemie \t\tSpezialchemie\n",
      "/branchen/Sport__Spiel \t\tSport / Spiel\n",
      "/branchen/Sportartikel \t\tSportartikel\n",
      "/branchen/Stahl__Metallindustrie \t\tStahl- / Metallindustrie\n",
      "/branchen/Standard_Software_PC \t\tStandard-Software (PC)\n",
      "/branchen/Strassen__Schienen \t\tStraßen / Schienen\n",
      "/branchen/Supermaerkte \t\tSupermärkte\n",
      "/branchen/Telekommunikation \t\tTelekommunikation\n",
      "/branchen/Touristik \t\tTouristik\n",
      "/branchen/Umwelt_Dienstleister \t\tUmwelt-Dienstleister\n",
      "/branchen/Umweltschutztechnologie \t\tUmweltschutztechnologie\n",
      "/branchen/Unterhaltungselektronik \t\tUnterhaltungselektronik\n",
      "/branchen/Unternehmensberatung \t\tUnternehmensberatung\n",
      "/branchen/Unternehmensbeteiligungen \t\tUnternehmensbeteiligungen\n",
      "/branchen/Venture_Capital \t\tVenture Capital\n",
      "/branchen/Verpackungsindustrie \t\tVerpackungsindustrie\n",
      "/branchen/Versicherungen \t\tVersicherungen\n",
      "/branchen/Versorger \t\tVersorger\n",
      "/branchen/Werbung__PR__Marketing \t\tWerbung / PR / Marketing\n"
     ]
    }
   ],
   "source": [
    "allLinks=  list(soup.findAll('a'))\n",
    "\n",
    "for i in range(len(allLinks)):\n",
    "    if '/branchen/' in str(allLinks[i]) and '/branchen/\"' not in str(allLinks[i]):\n",
    "        print allLinks[i].get('href'), \"\\t\\t\",allLinks[i].get_text()"
   ]
  },
  {
   "cell_type": "code",
   "execution_count": null,
   "metadata": {
    "collapsed": true
   },
   "outputs": [],
   "source": []
  }
 ],
 "metadata": {
  "kernelspec": {
   "display_name": "Python 2",
   "language": "python",
   "name": "python2"
  },
  "language_info": {
   "codemirror_mode": {
    "name": "ipython",
    "version": 2
   },
   "file_extension": ".py",
   "mimetype": "text/x-python",
   "name": "python",
   "nbconvert_exporter": "python",
   "pygments_lexer": "ipython2",
   "version": "2.7.13"
  }
 },
 "nbformat": 4,
 "nbformat_minor": 0
}
