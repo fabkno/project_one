{
 "cells": [
  {
   "cell_type": "code",
   "execution_count": 232,
   "metadata": {},
   "outputs": [
    {
     "name": "stdout",
     "output_type": "stream",
     "text": [
      "The autoreload extension is already loaded. To reload it, use:\n",
      "  %reload_ext autoreload\n"
     ]
    }
   ],
   "source": [
    "import numpy as np\n",
    "import pandas as pd\n",
    "import matplotlib.pyplot as plt\n",
    "import datetime\n",
    "%matplotlib inline\n",
    "import sys\n",
    "sys.path.append('/localscratch/data/project_one/update/')\n",
    "from util import find_str\n",
    "%load_ext autoreload\n",
    "%autoreload 2#\n",
    "import requests\n",
    "\n",
    "from analysts_comments import AnalystsComments\n",
    "from shorts import ShortsUpdater"
   ]
  },
  {
   "cell_type": "code",
   "execution_count": 316,
   "metadata": {},
   "outputs": [],
   "source": [
    "ob = AnalystsComments(FileNameListOfCompanies='DowJones.csv',PathData='/localscratch/data/project_one/data/')"
   ]
  },
  {
   "cell_type": "code",
   "execution_count": 319,
   "metadata": {},
   "outputs": [
    {
     "name": "stdout",
     "output_type": "stream",
     "text": [
      "Start Stock: MMM\n",
      "1 None None\n"
     ]
    },
    {
     "ename": "KeyboardInterrupt",
     "evalue": "",
     "output_type": "error",
     "traceback": [
      "\u001b[0;31m---------------------------------------------------------------------------\u001b[0m",
      "\u001b[0;31mKeyboardInterrupt\u001b[0m                         Traceback (most recent call last)",
      "\u001b[0;32m<ipython-input-319-185b6ae57b30>\u001b[0m in \u001b[0;36m<module>\u001b[0;34m()\u001b[0m\n\u001b[0;32m----> 1\u001b[0;31m \u001b[0mob\u001b[0m\u001b[0;34m.\u001b[0m\u001b[0mweb_updater\u001b[0m\u001b[0;34m(\u001b[0m\u001b[0;34m[\u001b[0m\u001b[0;34m'MMM'\u001b[0m\u001b[0;34m]\u001b[0m\u001b[0;34m)\u001b[0m\u001b[0;34m\u001b[0m\u001b[0m\n\u001b[0m\u001b[1;32m      2\u001b[0m \u001b[0;34m\u001b[0m\u001b[0m\n",
      "\u001b[0;32m/localscratch/data/project_one/update/analysts_comments.py\u001b[0m in \u001b[0;36mweb_updater\u001b[0;34m(self, ListOfTickers)\u001b[0m\n\u001b[1;32m    121\u001b[0m                                         \u001b[0msoupNew\u001b[0m \u001b[0;34m=\u001b[0m \u001b[0mBeautifulSoup\u001b[0m\u001b[0;34m(\u001b[0m\u001b[0mdetailedPage\u001b[0m\u001b[0;34m.\u001b[0m\u001b[0mcontent\u001b[0m\u001b[0;34m,\u001b[0m\u001b[0;34m'html.parser'\u001b[0m\u001b[0;34m)\u001b[0m\u001b[0;34m\u001b[0m\u001b[0m\n\u001b[1;32m    122\u001b[0m \u001b[0;34m\u001b[0m\u001b[0m\n\u001b[0;32m--> 123\u001b[0;31m                                         \u001b[0mstring\u001b[0m\u001b[0;34m=\u001b[0m \u001b[0msoupNew\u001b[0m\u001b[0;34m.\u001b[0m\u001b[0mfindAll\u001b[0m\u001b[0;34m(\u001b[0m\u001b[0;34m\"div\"\u001b[0m\u001b[0;34m,\u001b[0m\u001b[0;34m{\u001b[0m\u001b[0;34m\"class\"\u001b[0m\u001b[0;34m:\u001b[0m\u001b[0;34m\" teaser teaser-xs color-news\"\u001b[0m\u001b[0;34m}\u001b[0m\u001b[0;34m)\u001b[0m\u001b[0;34m[\u001b[0m\u001b[0;36m0\u001b[0m\u001b[0;34m]\u001b[0m\u001b[0;34m.\u001b[0m\u001b[0mget_text\u001b[0m\u001b[0;34m(\u001b[0m\u001b[0;34m)\u001b[0m\u001b[0;34m\u001b[0m\u001b[0m\n\u001b[0m\u001b[1;32m    124\u001b[0m \u001b[0;34m\u001b[0m\u001b[0m\n\u001b[1;32m    125\u001b[0m                                         \u001b[0mdic\u001b[0m \u001b[0;34m=\u001b[0m \u001b[0mself\u001b[0m\u001b[0;34m.\u001b[0m\u001b[0m_get_phrase\u001b[0m\u001b[0;34m(\u001b[0m\u001b[0mstring\u001b[0m\u001b[0;34m,\u001b[0m\u001b[0mcurrency\u001b[0m\u001b[0;34m)\u001b[0m\u001b[0;34m\u001b[0m\u001b[0m\n",
      "\u001b[0;32m/fs01/ma08/homes/fknoch/anaconda/lib/python2.7/site-packages/bs4/element.pyc\u001b[0m in \u001b[0;36mfind_all\u001b[0;34m(self, name, attrs, recursive, text, limit, **kwargs)\u001b[0m\n\u001b[1;32m   1178\u001b[0m         \u001b[0;32mif\u001b[0m \u001b[0;32mnot\u001b[0m \u001b[0mrecursive\u001b[0m\u001b[0;34m:\u001b[0m\u001b[0;34m\u001b[0m\u001b[0m\n\u001b[1;32m   1179\u001b[0m             \u001b[0mgenerator\u001b[0m \u001b[0;34m=\u001b[0m \u001b[0mself\u001b[0m\u001b[0;34m.\u001b[0m\u001b[0mchildren\u001b[0m\u001b[0;34m\u001b[0m\u001b[0m\n\u001b[0;32m-> 1180\u001b[0;31m         \u001b[0;32mreturn\u001b[0m \u001b[0mself\u001b[0m\u001b[0;34m.\u001b[0m\u001b[0m_find_all\u001b[0m\u001b[0;34m(\u001b[0m\u001b[0mname\u001b[0m\u001b[0;34m,\u001b[0m \u001b[0mattrs\u001b[0m\u001b[0;34m,\u001b[0m \u001b[0mtext\u001b[0m\u001b[0;34m,\u001b[0m \u001b[0mlimit\u001b[0m\u001b[0;34m,\u001b[0m \u001b[0mgenerator\u001b[0m\u001b[0;34m,\u001b[0m \u001b[0;34m**\u001b[0m\u001b[0mkwargs\u001b[0m\u001b[0;34m)\u001b[0m\u001b[0;34m\u001b[0m\u001b[0m\n\u001b[0m\u001b[1;32m   1181\u001b[0m     \u001b[0mfindAll\u001b[0m \u001b[0;34m=\u001b[0m \u001b[0mfind_all\u001b[0m       \u001b[0;31m# BS3\u001b[0m\u001b[0;34m\u001b[0m\u001b[0m\n\u001b[1;32m   1182\u001b[0m     \u001b[0mfindChildren\u001b[0m \u001b[0;34m=\u001b[0m \u001b[0mfind_all\u001b[0m  \u001b[0;31m# BS2\u001b[0m\u001b[0;34m\u001b[0m\u001b[0m\n",
      "\u001b[0;32m/fs01/ma08/homes/fknoch/anaconda/lib/python2.7/site-packages/bs4/element.pyc\u001b[0m in \u001b[0;36m_find_all\u001b[0;34m(self, name, attrs, text, limit, generator, **kwargs)\u001b[0m\n\u001b[1;32m    503\u001b[0m                 \u001b[0;32mbreak\u001b[0m\u001b[0;34m\u001b[0m\u001b[0m\n\u001b[1;32m    504\u001b[0m             \u001b[0;32mif\u001b[0m \u001b[0mi\u001b[0m\u001b[0;34m:\u001b[0m\u001b[0;34m\u001b[0m\u001b[0m\n\u001b[0;32m--> 505\u001b[0;31m                 \u001b[0mfound\u001b[0m \u001b[0;34m=\u001b[0m \u001b[0mstrainer\u001b[0m\u001b[0;34m.\u001b[0m\u001b[0msearch\u001b[0m\u001b[0;34m(\u001b[0m\u001b[0mi\u001b[0m\u001b[0;34m)\u001b[0m\u001b[0;34m\u001b[0m\u001b[0m\n\u001b[0m\u001b[1;32m    506\u001b[0m                 \u001b[0;32mif\u001b[0m \u001b[0mfound\u001b[0m\u001b[0;34m:\u001b[0m\u001b[0;34m\u001b[0m\u001b[0m\n\u001b[1;32m    507\u001b[0m                     \u001b[0mresults\u001b[0m\u001b[0;34m.\u001b[0m\u001b[0mappend\u001b[0m\u001b[0;34m(\u001b[0m\u001b[0mfound\u001b[0m\u001b[0;34m)\u001b[0m\u001b[0;34m\u001b[0m\u001b[0m\n",
      "\u001b[0;32m/fs01/ma08/homes/fknoch/anaconda/lib/python2.7/site-packages/bs4/element.pyc\u001b[0m in \u001b[0;36msearch\u001b[0;34m(self, markup)\u001b[0m\n\u001b[1;32m   1538\u001b[0m         \u001b[0;32melif\u001b[0m \u001b[0misinstance\u001b[0m\u001b[0;34m(\u001b[0m\u001b[0mmarkup\u001b[0m\u001b[0;34m,\u001b[0m \u001b[0mTag\u001b[0m\u001b[0;34m)\u001b[0m\u001b[0;34m:\u001b[0m\u001b[0;34m\u001b[0m\u001b[0m\n\u001b[1;32m   1539\u001b[0m             \u001b[0;32mif\u001b[0m \u001b[0;32mnot\u001b[0m \u001b[0mself\u001b[0m\u001b[0;34m.\u001b[0m\u001b[0mtext\u001b[0m \u001b[0;32mor\u001b[0m \u001b[0mself\u001b[0m\u001b[0;34m.\u001b[0m\u001b[0mname\u001b[0m \u001b[0;32mor\u001b[0m \u001b[0mself\u001b[0m\u001b[0;34m.\u001b[0m\u001b[0mattrs\u001b[0m\u001b[0;34m:\u001b[0m\u001b[0;34m\u001b[0m\u001b[0m\n\u001b[0;32m-> 1540\u001b[0;31m                 \u001b[0mfound\u001b[0m \u001b[0;34m=\u001b[0m \u001b[0mself\u001b[0m\u001b[0;34m.\u001b[0m\u001b[0msearch_tag\u001b[0m\u001b[0;34m(\u001b[0m\u001b[0mmarkup\u001b[0m\u001b[0;34m)\u001b[0m\u001b[0;34m\u001b[0m\u001b[0m\n\u001b[0m\u001b[1;32m   1541\u001b[0m         \u001b[0;31m# If it's text, make sure the text matches.\u001b[0m\u001b[0;34m\u001b[0m\u001b[0;34m\u001b[0m\u001b[0m\n\u001b[1;32m   1542\u001b[0m         \u001b[0;32melif\u001b[0m \u001b[0misinstance\u001b[0m\u001b[0;34m(\u001b[0m\u001b[0mmarkup\u001b[0m\u001b[0;34m,\u001b[0m \u001b[0mNavigableString\u001b[0m\u001b[0;34m)\u001b[0m \u001b[0;32mor\u001b[0m\u001b[0;31m \u001b[0m\u001b[0;31m\\\u001b[0m\u001b[0;34m\u001b[0m\u001b[0m\n",
      "\u001b[0;32m/fs01/ma08/homes/fknoch/anaconda/lib/python2.7/site-packages/bs4/element.pyc\u001b[0m in \u001b[0;36msearch_tag\u001b[0;34m(self, markup_name, markup_attrs)\u001b[0m\n\u001b[1;32m   1494\u001b[0m         if ((not self.name)\n\u001b[1;32m   1495\u001b[0m             \u001b[0;32mor\u001b[0m \u001b[0mcall_function_with_tag_data\u001b[0m\u001b[0;34m\u001b[0m\u001b[0m\n\u001b[0;32m-> 1496\u001b[0;31m             \u001b[0;32mor\u001b[0m \u001b[0;34m(\u001b[0m\u001b[0mmarkup\u001b[0m \u001b[0;32mand\u001b[0m \u001b[0mself\u001b[0m\u001b[0;34m.\u001b[0m\u001b[0m_matches\u001b[0m\u001b[0;34m(\u001b[0m\u001b[0mmarkup\u001b[0m\u001b[0;34m,\u001b[0m \u001b[0mself\u001b[0m\u001b[0;34m.\u001b[0m\u001b[0mname\u001b[0m\u001b[0;34m)\u001b[0m\u001b[0;34m)\u001b[0m\u001b[0;34m\u001b[0m\u001b[0m\n\u001b[0m\u001b[1;32m   1497\u001b[0m             or (not markup and self._matches(markup_name, self.name))):\n\u001b[1;32m   1498\u001b[0m             \u001b[0;32mif\u001b[0m \u001b[0mcall_function_with_tag_data\u001b[0m\u001b[0;34m:\u001b[0m\u001b[0;34m\u001b[0m\u001b[0m\n",
      "\u001b[0;32m/fs01/ma08/homes/fknoch/anaconda/lib/python2.7/site-packages/bs4/element.pyc\u001b[0m in \u001b[0;36m_matches\u001b[0;34m(self, markup, match_against)\u001b[0m\n\u001b[1;32m   1581\u001b[0m         \u001b[0;31m# other ways of matching match the tag name as a string.\u001b[0m\u001b[0;34m\u001b[0m\u001b[0;34m\u001b[0m\u001b[0m\n\u001b[1;32m   1582\u001b[0m         \u001b[0;32mif\u001b[0m \u001b[0misinstance\u001b[0m\u001b[0;34m(\u001b[0m\u001b[0mmarkup\u001b[0m\u001b[0;34m,\u001b[0m \u001b[0mTag\u001b[0m\u001b[0;34m)\u001b[0m\u001b[0;34m:\u001b[0m\u001b[0;34m\u001b[0m\u001b[0m\n\u001b[0;32m-> 1583\u001b[0;31m             \u001b[0mmarkup\u001b[0m \u001b[0;34m=\u001b[0m \u001b[0mmarkup\u001b[0m\u001b[0;34m.\u001b[0m\u001b[0mname\u001b[0m\u001b[0;34m\u001b[0m\u001b[0m\n\u001b[0m\u001b[1;32m   1584\u001b[0m \u001b[0;34m\u001b[0m\u001b[0m\n\u001b[1;32m   1585\u001b[0m         \u001b[0;31m# Ensure that `markup` is either a Unicode string, or None.\u001b[0m\u001b[0;34m\u001b[0m\u001b[0;34m\u001b[0m\u001b[0m\n",
      "\u001b[0;31mKeyboardInterrupt\u001b[0m: "
     ]
    }
   ],
   "source": [
    "ob.web_updater(['MMM'])\n",
    "\n"
   ]
  },
  {
   "cell_type": "code",
   "execution_count": 274,
   "metadata": {},
   "outputs": [
    {
     "data": {
      "text/html": [
       "<div>\n",
       "<style scoped>\n",
       "    .dataframe tbody tr th:only-of-type {\n",
       "        vertical-align: middle;\n",
       "    }\n",
       "\n",
       "    .dataframe tbody tr th {\n",
       "        vertical-align: top;\n",
       "    }\n",
       "\n",
       "    .dataframe thead th {\n",
       "        text-align: right;\n",
       "    }\n",
       "</style>\n",
       "<table border=\"1\" class=\"dataframe\">\n",
       "  <thead>\n",
       "    <tr style=\"text-align: right;\">\n",
       "      <th></th>\n",
       "      <th>Date</th>\n",
       "      <th>TargetPrize</th>\n",
       "      <th>FormerTargetPrize</th>\n",
       "      <th>Category</th>\n",
       "      <th>Analyst</th>\n",
       "      <th>Phrase</th>\n",
       "    </tr>\n",
       "  </thead>\n",
       "  <tbody>\n",
       "    <tr>\n",
       "      <th>0</th>\n",
       "      <td>2018-03-07</td>\n",
       "      <td>194.0</td>\n",
       "      <td>194.0</td>\n",
       "      <td>Neutral</td>\n",
       "      <td>Merrill Lynch &amp; Co., Inc.</td>\n",
       "      <td>auf 194 Euro belassen.</td>\n",
       "    </tr>\n",
       "    <tr>\n",
       "      <th>1</th>\n",
       "      <td>2018-03-01</td>\n",
       "      <td>220.0</td>\n",
       "      <td>220.0</td>\n",
       "      <td>buy</td>\n",
       "      <td>Goldman Sachs Group Inc.</td>\n",
       "      <td>von 220 Euro belassen.</td>\n",
       "    </tr>\n",
       "    <tr>\n",
       "      <th>2</th>\n",
       "      <td>2018-02-26</td>\n",
       "      <td>190.0</td>\n",
       "      <td>190.0</td>\n",
       "      <td>Halten</td>\n",
       "      <td>Norddeutsche Landesbank (Nord/LB)</td>\n",
       "      <td>von 190 Euro belassen.</td>\n",
       "    </tr>\n",
       "    <tr>\n",
       "      <th>3</th>\n",
       "      <td>2018-02-22</td>\n",
       "      <td>195.0</td>\n",
       "      <td>195.0</td>\n",
       "      <td>Hold</td>\n",
       "      <td>Société Générale Group S.A. (SG)</td>\n",
       "      <td>von 195 Euro in</td>\n",
       "    </tr>\n",
       "    <tr>\n",
       "      <th>4</th>\n",
       "      <td>2018-02-20</td>\n",
       "      <td>176.0</td>\n",
       "      <td>167.0</td>\n",
       "      <td>Neutral</td>\n",
       "      <td>Macquarie Research</td>\n",
       "      <td>von 167 auf 176 Euro angehoben.</td>\n",
       "    </tr>\n",
       "  </tbody>\n",
       "</table>\n",
       "</div>"
      ],
      "text/plain": [
       "         Date  TargetPrize  FormerTargetPrize Category  \\\n",
       "0  2018-03-07        194.0              194.0  Neutral   \n",
       "1  2018-03-01        220.0              220.0      buy   \n",
       "2  2018-02-26        190.0              190.0   Halten   \n",
       "3  2018-02-22        195.0              195.0     Hold   \n",
       "4  2018-02-20        176.0              167.0  Neutral   \n",
       "\n",
       "                             Analyst                           Phrase  \n",
       "0          Merrill Lynch & Co., Inc.           auf 194 Euro belassen.  \n",
       "1           Goldman Sachs Group Inc.           von 220 Euro belassen.  \n",
       "2  Norddeutsche Landesbank (Nord/LB)           von 190 Euro belassen.  \n",
       "3   Société Générale Group S.A. (SG)                  von 195 Euro in  \n",
       "4                 Macquarie Research  von 167 auf 176 Euro angehoben.  "
      ]
     },
     "execution_count": 274,
     "metadata": {},
     "output_type": "execute_result"
    }
   ],
   "source": [
    "\n",
    "#ob.web_updater(['DAI.DE'])\n",
    "\n",
    "#x = pd.read_pickle('/localscratch/data/project_one/data/analysts_comments/stocks/DAI.DE.p2')\n",
    "\n",
    "\n",
    "#print x.head(5)\n",
    "\n",
    "#x = x.loc[5:]\n",
    "\n",
    "#x.to_pickle('/localscratch/data/project_one/data/analysts_comments/stocks/DAI.DE.p')\n",
    "\n",
    "x = pd.read_pickle('/localscratch/data/project_one/data/analysts_comments/stocks/ALV.DE.p')\n",
    "x.head(5)\n",
    "\n",
    "# x[['TargetPrize','FormerTargetPrize']]\n",
    "\n",
    "#plt.scatter(x['TargetPrize'],x['FormerTargetPrize'])\n",
    "#plt.show()"
   ]
  },
  {
   "cell_type": "code",
   "execution_count": 329,
   "metadata": {},
   "outputs": [
    {
     "name": "stdout",
     "output_type": "stream",
     "text": [
      "London (www.aktiencheck.de) - Shannon O'Callaghan, John Walsh und Christopher Belfiore, Analysten von Nomura Equity Research, stufen die Aktie von 3M Company (ISIN US88579Y1010/ WKN 851745) von \"reduce\" auf \"neutral\" hoch. Das Kursziel werde von 88 USD auf 96 USD angehoben. (Analyse vom 09.11.2012) (12.11.2012/ac/a/a)\n",
      "\n",
      "\n",
      "\n",
      "[35, 38]\n",
      "{'Phrase': u'von 88 USD auf', 'TargetPrize': 88.0, 'FormerTargetPrize': 88.0}\n"
     ]
    }
   ],
   "source": [
    "def get_phrase(string):\n",
    "    \n",
    "    \n",
    "    string = string.replace(',','.')\n",
    "       \n",
    "    ListOfStrings=  string.split(\" \")\n",
    "\n",
    "    indices = [i for i, x in enumerate(ListOfStrings) if x == \"US-Dollar\" or x =='USD']\n",
    "    \n",
    "    print indices\n",
    "    if len(indices) == 0:\n",
    "        print(\"No currency string found \")\n",
    "        return None\n",
    "    \n",
    "    else:\n",
    "        for ind in indices:                             \n",
    "            try:\n",
    "                float(ListOfStrings[ind-1])\n",
    "                break\n",
    "                    \n",
    "            except ValueError:\n",
    "                if ind == indices[-1]:\n",
    "                    return None\n",
    "                \n",
    "                else:\n",
    "                    continue\n",
    "                    \n",
    "\n",
    "    target = float(ListOfStrings[ind-1])\n",
    "    formerTarget = None\n",
    "            \n",
    "    if ListOfStrings[ind-3].isdigit() is True:\n",
    "        phrase = \" \".join(ListOfStrings[ind-4:ind+2])       \n",
    "        formerTarget = float(ListOfStrings[ind-3])\n",
    "    else:\n",
    "        phrase = \" \".join(ListOfStrings[ind-2:ind+2])\n",
    "        formerTarget = target\n",
    "    return {\"Phrase\":phrase,\"TargetPrize\":target,'FormerTargetPrize':formerTarget}\n",
    "\n",
    "print string\n",
    "print \"\\n\"\n",
    "print get_phrase(string)"
   ]
  },
  {
   "cell_type": "code",
   "execution_count": 21,
   "metadata": {},
   "outputs": [
    {
     "name": "stdout",
     "output_type": "stream",
     "text": [
      "Empty DataFrame\n",
      "Columns: [Date, Category, Analyst, Phrase, TargetPrize, FormerTargetPrize]\n",
      "Index: []\n"
     ]
    }
   ],
   "source": [
    "35 bei intpa = 9"
   ]
  },
  {
   "cell_type": "code",
   "execution_count": 330,
   "metadata": {},
   "outputs": [],
   "source": [
    "page = requests.get(\"https://www.finanzen.net/analysen/Apple-Analysen@intpagenr_1\")\n",
    "\n",
    "from bs4 import BeautifulSoup\n",
    "soup = BeautifulSoup(page.content, 'html.parser')\n"
   ]
  },
  {
   "cell_type": "code",
   "execution_count": 332,
   "metadata": {
    "scrolled": false
   },
   "outputs": [
    {
     "name": "stdout",
     "output_type": "stream",
     "text": [
      "Empty DataFrame\n",
      "Columns: [Date, TargetPrize, FormerTargetPrize, Category, Analyst, Phrase]\n",
      "Index: []\n",
      "[20]\n",
      "[23]\n",
      "[27]\n",
      "[23]\n",
      "[21]\n",
      "[18]\n",
      "[19]\n",
      "[17]\n",
      "[18]\n",
      "[19]\n",
      "[20]\n",
      "[19]\n",
      "[19]\n",
      "[28]\n",
      "[15]\n",
      "[20]\n",
      "[20]\n",
      "[21]\n",
      "[15]\n",
      "[18]\n",
      "[25]\n",
      "[14]\n",
      "[21, 55]\n",
      "[15]\n",
      "[20]\n",
      "[32]\n",
      "[22]\n",
      "[20]\n",
      "[20]\n",
      "[20]\n",
      "[20]\n",
      "[17]\n",
      "[22]\n",
      "[25]\n",
      "[23]\n",
      "[24]\n",
      "[22]\n",
      "[24]\n",
      "[26]\n",
      "          Date  TargetPrize  FormerTargetPrize        Category  \\\n",
      "0   2018-02-06        190.0              190.0             buy   \n",
      "1   2018-02-05        203.0              203.0      overweight   \n",
      "2   2018-02-05        205.0              205.0      Outperform   \n",
      "3   2018-02-02        170.0              195.0  market-perform   \n",
      "4   2018-02-02        162.0              199.0          Market   \n",
      "5   2018-02-02        170.0              163.0            Hold   \n",
      "6   2018-02-02        200.0              190.0          kaufen   \n",
      "7   2018-02-02        170.0              174.0           Equal   \n",
      "8   2018-02-02        210.0              200.0             buy   \n",
      "9   2018-02-02        190.0              190.0             buy   \n",
      "10  2018-02-02        205.0              200.0      Outperform   \n",
      "11  2018-01-30        204.0              193.0             buy   \n",
      "12  2018-01-30        152.0              152.0            Hold   \n",
      "13  2018-01-29        195.0              195.0      Outperform   \n",
      "14  2018-01-29        220.0              220.0             Buy   \n",
      "15  2018-01-26        188.0              188.0      Outperform   \n",
      "16  2018-01-25        200.0              205.0      overweight   \n",
      "17  2018-01-24        195.0              195.0      Outperform   \n",
      "18  2018-01-24        200.0              200.0             Buy   \n",
      "19  2018-01-23        205.0              200.0      overweight   \n",
      "20  2018-01-22        190.0              190.0         Neutral   \n",
      "21  2018-01-19        175.0              175.0         Neutral   \n",
      "22  2018-01-18        174.0              162.0           Equal   \n",
      "23  2018-01-12        204.0              204.0             Buy   \n",
      "24  2018-01-05        190.0              190.0             buy   \n",
      "25  2018-01-03        162.0              162.0           Equal   \n",
      "26  2017-12-19        175.0              185.0         Neutral   \n",
      "27  2017-11-30        190.0              190.0             buy   \n",
      "28  2017-11-27        190.0              190.0             buy   \n",
      "29  2017-11-27        185.0              185.0             buy   \n",
      "30  2017-11-14        190.0              190.0             buy   \n",
      "31  2017-11-06        190.0              190.0             buy   \n",
      "32  2017-11-03        190.0              180.0             buy   \n",
      "33  2017-11-03        190.0              175.0      overweight   \n",
      "34  2017-11-03        200.0              175.0             buy   \n",
      "35  2017-11-03        188.0              180.0      Outperform   \n",
      "36  2017-11-03        185.0              185.0             buy   \n",
      "37  2017-11-03        195.0              175.0      Outperform   \n",
      "38  2017-11-03        200.0              199.0      overweight   \n",
      "\n",
      "                   Analyst                                Phrase  \n",
      "0                   UBS AG           von 190 US-Dollar belassen.  \n",
      "1           Morgan Stanley           von 203 US-Dollar belassen.  \n",
      "2      RBC Capital Markets           von 205 US-Dollar belassen.  \n",
      "3       Bernstein Research    von 195 auf 170 US-Dollar gesenkt.  \n",
      "4      BMO Capital Markets          von 199 auf 162 USD gesenkt.  \n",
      "5              Morningstar   von 163 auf 170 US-Dollar angehoben  \n",
      "6      RBC Capital Markets   von 190 auf 200 US-Dollar angehoben  \n",
      "7         Barclays Capital     von 174 auf 170 US-Dollar gesenkt  \n",
      "8   Needham & Company, LLC   von 200 auf 210 US-Dollar angehoben  \n",
      "9                   UBS AG           von 190 US-Dollar belassen.  \n",
      "10     RBC Capital Markets   von 200 auf 205 US-Dollar angehoben  \n",
      "11                    HSBC  von 193 auf 204 US-Dollar angehoben.  \n",
      "12        Deutsche Bank AG           von 152 US-Dollar belassen.  \n",
      "13      Bernstein Research           von 195 US-Dollar belassen.  \n",
      "14      Cascend Securities                auf 220 USD angehoben.  \n",
      "15      Macquarie Research           von 188 US-Dollar belassen.  \n",
      "16          Morgan Stanley    von 205 auf 200 US-Dollar gesenkt.  \n",
      "17      Bernstein Research           von 195 US-Dollar belassen.  \n",
      "18         Canaccord Adams                auf 200 USD angehoben.  \n",
      "19          Morgan Stanley   von 200 auf 205 US-Dollar angehoben  \n",
      "20       Atlantic Equities           auf 190 US-Dollar belassen.  \n",
      "21                  Mizuho                auf 175 USD angehoben.  \n",
      "22        Barclays Capital  von 162 auf 174 US-Dollar angehoben.  \n",
      "23             Maxim Group                auf 204 USD angehoben.  \n",
      "24                  UBS AG           von 190 US-Dollar belassen.  \n",
      "25        Barclays Capital           von 162 US-Dollar belassen.  \n",
      "26                  Nomura    von 185 auf 175 US-Dollar gesenkt.  \n",
      "27                  UBS AG           von 190 US-Dollar belassen.  \n",
      "28                  UBS AG           von 190 US-Dollar belassen.  \n",
      "29                  Nomura           von 185 US-Dollar belassen.  \n",
      "30                  UBS AG           von 190 US-Dollar belassen.  \n",
      "31                  UBS AG           von 190 US-Dollar belassen.  \n",
      "32                  UBS AG   von 180 auf 190 US-Dollar angehoben  \n",
      "33       Atlantic Equities   von 175 auf 190 US-Dollar angehoben  \n",
      "34  Needham & Company, LLC   von 175 auf 200 US-Dollar angehoben  \n",
      "35      Macquarie Research   von 180 auf 188 US-Dollar angehoben  \n",
      "36                  Nomura           von 185 US-Dollar belassen.  \n",
      "37      Bernstein Research   von 175 auf 195 US-Dollar angehoben  \n",
      "38          Morgan Stanley   von 199 auf 200 US-Dollar angehoben  \n"
     ]
    }
   ],
   "source": [
    "\n",
    "X = pd.DataFrame(columns=['Date','TargetPrize','FormerTargetPrize','Category','Analyst','Phrase'])\n",
    "print X\n",
    "\n",
    "\n",
    "for num,l in enumerate(soup.findAll(\"table\")[1].findAll(\"tr\")):\n",
    "        \n",
    "    if num >0:\n",
    "        #print num\n",
    "        \n",
    "        url =  \"https://www.finanzen.net\"+l.findAll('a')[0].get('href')\n",
    "        \n",
    "        tds = l.findAll('td')\n",
    "\n",
    "        s = tds[0].get_text().split('.')\n",
    "      \n",
    "        if s[0][-3:] == 'Uhr':\n",
    "            date = datetime.datetime.today().date()\n",
    "        else:\n",
    "            if len(s[2]) == 2:\n",
    "                s[2] = \"20\"+s[2]\n",
    "            \n",
    "            date = datetime.datetime(int(s[2]),int(s[1]),int(s[0])).date()\n",
    "            \n",
    "        \n",
    "        Category = tds[1].get_text().split(' ')[1]\n",
    "    \n",
    "        Analyst = tds[2].get_text()\n",
    "        \n",
    "        #print date, Category, Analyst\n",
    "                  \n",
    "        detailedPage = requests.get(url)\n",
    "        soupNew = BeautifulSoup(detailedPage.content,'html.parser')\n",
    "    \n",
    "        string= soupNew.findAll(\"div\",{\"class\":\" teaser teaser-xs color-news\"})[0].get_text()\n",
    "        #print soupNew.findAll(\"p\")\n",
    "        dic = get_phrase(string)\n",
    "        if dic is None:\n",
    "            continue\n",
    "        \n",
    "        \n",
    "        X = X.append({'Date':date,'Category':Category,'Analyst':Analyst,\n",
    "                      'Phrase':dic['Phrase'],'TargetPrize':dic['TargetPrize'],\n",
    "                     'FormerTargetPrize':dic['FormerTargetPrize']},ignore_index=True)\n",
    "        \n",
    "        \n",
    "    #X.drop_duplicates(inplace=True)\n",
    "    #X.reset_index(drop=True,inplace=True)\n",
    "print X\n",
    "        \n"
   ]
  },
  {
   "cell_type": "code",
   "execution_count": 315,
   "metadata": {},
   "outputs": [
    {
     "name": "stdout",
     "output_type": "stream",
     "text": [
      "[u'Der', u'Analyst', u'Barclays', u'Capital', u'hat', u'die', u'Einstufung', u'f\\xfcr', u'3M', u'Co.', u'auf', u'\"Underweight\"', u'mit', u'einem', u'Kursziel', u'von', u'235', u'USD', u'belassen.']\n",
      "[17]\n"
     ]
    }
   ],
   "source": [
    "\n",
    "X.drop_duplicates()\n",
    "string = string.replace(\",\",\".\")\n",
    "ListOfStrings = string.split(\" \")\n",
    "\n",
    "print ListOfStrings\n",
    "print [i for i,x in enumerate(ListOfStrings) if x in ['US-Dollar','USD']]"
   ]
  },
  {
   "cell_type": "code",
   "execution_count": 310,
   "metadata": {},
   "outputs": [],
   "source": [
    "url = \"https://www.finanzen.net/analyse/3M_Underweight-Barclays_Capital_636363\"\n",
    "url = \"https://www.finanzen.net/analyse/Volkswagen_VW_vz_buy-Deutsche_Bank_AG_638969\"\n",
    "detailedPage = requests.get(url)\n",
    "soupNew = BeautifulSoup(detailedPage.content,'html.parser')"
   ]
  },
  {
   "cell_type": "code",
   "execution_count": 311,
   "metadata": {},
   "outputs": [
    {
     "name": "stdout",
     "output_type": "stream",
     "text": [
      "FRANKFURT (dpa-AFX Analyser) - Die Deutsche Bank hat die Einstufung für Volkswagen nach Zahlen auf \"Buy\" belassen. Die Kostenkontrolle laufe beim Autobauer weiterhin gut, schrieb Analyst Tim Rokossa in einer am Donnerstag vorliegenden Studie. Er lobte zudem die erreichte Wende bei der Kernmarke VW. /tav/zbDatum der Analyse: 15.03.2018 Hinweis: Informationen zur Offenlegungspflicht bei Interessenkonflikten im Sinne von § 34 b WpHG für das genannte Analysten-Haus finden Sie unter http://web.dpa-afx.de/offenlegungspflicht/offenlegungs_pflicht.html.\n"
     ]
    }
   ],
   "source": [
    "l = soupNew.findAll(\"div\",{\"class\":\" teaser teaser-xs color-news\"})\n",
    "print l[0].get_text()"
   ]
  },
  {
   "cell_type": "code",
   "execution_count": 323,
   "metadata": {},
   "outputs": [
    {
     "name": "stdout",
     "output_type": "stream",
     "text": [
      "<div class=\"box\"><h2 class=\"box-headline\">Zusammenfassung: 3M reduce</h2><div class=\"spacer-10\"></div><table class=\"table\"><colgroup><col><col width=\"33%\"><col width=\"33%\"></col></col></col></colgroup><tr><td><strong>Unternehmen:</strong><br>3M Co.</br></td><td><strong>Analyst:</strong><br>Nomura</br></td><td><strong>Kursziel:</strong><br>88,00 USD</br></td></tr><tr><td><strong>Rating jetzt:</strong><br>reduce</br></td><td><strong>Kurs*:</strong><br>91,28 USD</br></td><td><strong>Abst. Kursziel*:</strong><br>-</br></td></tr><tr><td><strong>Rating vorher:</strong><br>neutral</br></td><td><strong>Kurs aktuell:</strong><br>234,29 USD</br></td><td><strong>Abst. Kursziel aktuell:</strong><br>-</br></td></tr><tr><td><strong>Analyst Name:</strong><br>-</br></td><td><strong>KGV*:</strong><br>14,3</br></td><td><a href=\"/Kursziele/3M\">Ø Kursziel</a>:<br/>240,60 USD</td></tr></table><div class=\"spacer-5\"></div><div class=\"medium-font light-grey\">*zum Zeitpunkt der Analyse</div></div>\n",
      "[u'Unternehmen', u'3M Co.Analyst', u'NomuraKursziel', u'88,00 USD']\n"
     ]
    }
   ],
   "source": [
    "\n",
    "l = soupNew.findAll(\"div\",{\"class\":\"box\"})\n",
    "print l[2]\n",
    "x= l[2].findAll(\"tr\")\n",
    "\n",
    "string = x[0].get_text()\n",
    "print string.split(':')\n",
    "\n"
   ]
  },
  {
   "cell_type": "code",
   "execution_count": null,
   "metadata": {},
   "outputs": [],
   "source": []
  }
 ],
 "metadata": {
  "kernelspec": {
   "display_name": "Python 2",
   "language": "python",
   "name": "python2"
  },
  "language_info": {
   "codemirror_mode": {
    "name": "ipython",
    "version": 2
   },
   "file_extension": ".py",
   "mimetype": "text/x-python",
   "name": "python",
   "nbconvert_exporter": "python",
   "pygments_lexer": "ipython2",
   "version": "2.7.12"
  }
 },
 "nbformat": 4,
 "nbformat_minor": 1
}
