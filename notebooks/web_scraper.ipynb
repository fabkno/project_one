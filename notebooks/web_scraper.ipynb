{
 "cells": [
  {
   "cell_type": "code",
   "execution_count": 17,
   "metadata": {
    "collapsed": true
   },
   "outputs": [],
   "source": [
    "import numpy as np\n",
    "import pandas as pd\n",
    "import matplotlib.pyplot as plt\n",
    "%matplotlib qt"
   ]
  },
  {
   "cell_type": "code",
   "execution_count": 2,
   "metadata": {
    "collapsed": true
   },
   "outputs": [],
   "source": [
    "data = pd.read_csv('linear_ramp_data.csv',index_col='Unnamed: 0')"
   ]
  },
  {
   "cell_type": "code",
   "execution_count": 15,
   "metadata": {
    "collapsed": false
   },
   "outputs": [
    {
     "name": "stdout",
     "output_type": "stream",
     "text": [
      "Index([u'time', u'5mK linear z', u'5mK linear T', u'5mK linear T_r',\n",
      "       u'4mK linear z', u'4mK linear T', u'4mK linear T_r',\n",
      "       u'5mK linear deacc z', u'5mK linear deacc T', u'5mK linear deacc T_r',\n",
      "       u'4mK linear deacc z', u'4mK linear deacc T', u'4mK linear deacc T_r',\n",
      "       u'5mk linear z', u'5mk linear T', u'5mk linear T_r', u'4mk linear z',\n",
      "       u'4mk linear T', u'4mk linear T_r', u'5mk linear deacc z',\n",
      "       u'5mk linear deacc T', u'5mk linear deacc T_r', u'4mk linear deacc z',\n",
      "       u'4mk linear deacc T', u'4mk linear deacc T_r'],\n",
      "      dtype='object')\n"
     ]
    }
   ],
   "source": [
    "print data.keys()\n",
    "x = data[['time','5mk linear z','4mk linear z','5mk linear deacc z']].values\n"
   ]
  },
  {
   "cell_type": "code",
   "execution_count": 19,
   "metadata": {
    "collapsed": false
   },
   "outputs": [],
   "source": [
    "plt.plot(x[:,0],x[:,1])\n",
    "plt.plot(x[:,0],x[:,3])\n",
    "plt.show()\n"
   ]
  },
  {
   "cell_type": "code",
   "execution_count": 23,
   "metadata": {
    "collapsed": false
   },
   "outputs": [],
   "source": [
    "import requests"
   ]
  },
  {
   "cell_type": "code",
   "execution_count": 36,
   "metadata": {
    "collapsed": false
   },
   "outputs": [
    {
     "name": "stdout",
     "output_type": "stream",
     "text": [
      "<listiterator object at 0x7f8e080d20d0>\n"
     ]
    }
   ],
   "source": [
    "page = requests.get(\"https://www.finanzen.net/branchen/\")\n",
    "\n",
    "from bs4 import BeautifulSoup\n",
    "soup = BeautifulSoup(page.content, 'html.parser')\n"
   ]
  },
  {
   "cell_type": "code",
   "execution_count": 59,
   "metadata": {
    "collapsed": false
   },
   "outputs": [
    {
     "name": "stdout",
     "output_type": "stream",
     "text": [
      "True\n"
     ]
    }
   ],
   "source": [
    "s = \"ASSADSA asdasd BBBB as\"\n",
    "print \"SSAD\" in s"
   ]
  },
  {
   "cell_type": "code",
   "execution_count": 74,
   "metadata": {
    "collapsed": false
   },
   "outputs": [
    {
     "name": "stdout",
     "output_type": "stream",
     "text": [
      "29 10\n"
     ]
    }
   ],
   "source": [
    "html = list(soup.children)[4]\n",
    "\n",
    "\n",
    "print len(list(html.children)),\n",
    "\n",
    "for i in range(29):\n",
    "    if \"Automobilproduktion\" in str(list(html.children)[i]):\n",
    "        print i"
   ]
  },
  {
   "cell_type": "code",
   "execution_count": 77,
   "metadata": {
    "collapsed": false
   },
   "outputs": [],
   "source": [
    "x = list(html.children)[10]\n",
    "#print x\n"
   ]
  },
  {
   "cell_type": "code",
   "execution_count": 90,
   "metadata": {
    "collapsed": false
   },
   "outputs": [
    {
     "name": "stdout",
     "output_type": "stream",
     "text": [
      "/branchen/Anlagen__Maschinenbau \t\tAnlagen- / Maschinenbau\n",
      "/branchen/Automobilproduktion \t\tAutomobilproduktion\n",
      "/branchen/Automobilzulieferer \t\tAutomobilzulieferer\n",
      "/branchen/Banken \t\tBanken\n",
      "/branchen/Bau_Zulieferer__Baustoffe \t\tBau-Zulieferer / Baustoffe\n",
      "/branchen/Baudienstleister \t\tBaudienstleister\n",
      "/branchen/Bauhauptgewerbe \t\tBauhauptgewerbe\n",
      "/branchen/Bekleidung__Textilien__Schuhe \t\tBekleidung / Textilien / Schuhe\n",
      "/branchen/Bildung_und_Forschung \t\tBildung und Forschung\n",
      "/branchen/Biotechnologie \t\tBiotechnologie\n",
      "/branchen/Boersenmantel__Gesellschaft_in_Liquidation \t\tBörsenmantel / Gesellschaft in Liquidation\n",
      "/branchen/Brief__Paketdienste \t\tBrief- / Paketdienste\n",
      "/branchen/Broadcasting \t\tBroadcasting\n",
      "/branchen/Chemie \t\tChemie\n",
      "/branchen/Chiphersteller__Halbleiter \t\tChiphersteller / Halbleiter\n",
      "/branchen/Datenspeicherung_Hardware \t\tDatenspeicherung (Hardware)\n",
      "/branchen/Dienstleistungen \t\tDienstleistungen\n",
      "/branchen/E_Commerce_Software \t\tE-Commerce-Software\n",
      "/branchen/Einzelhandel \t\tEinzelhandel\n",
      "/branchen/Elektroausstattung \t\tElektroausstattung\n",
      "/branchen/Elektronische_Bauelemente \t\tElektronische Bauelemente\n",
      "/branchen/Elektrotechnologie \t\tElektrotechnologie\n",
      "/branchen/Energie \t\tEnergie\n",
      "/branchen/Erneuerbare_Energien \t\tErneuerbare Energien\n",
      "/branchen/Filialen \t\tFilialen\n",
      "/branchen/Finanzdienstleister \t\tFinanzdienstleister\n",
      "/branchen/Fluggesellschaften \t\tFluggesellschaften\n",
      "/branchen/Freizeitparks \t\tFreizeitparks\n",
      "/branchen/Geraetehersteller \t\tGerätehersteller\n",
      "/branchen/Gesundheitsdienstleister \t\tGesundheitsdienstleister\n",
      "/branchen/Getraenke__Tabak \t\tGetränke / Tabak\n",
      "/branchen/Grosshandel \t\tGroßhandel\n",
      "/branchen/Handel \t\tHandel\n",
      "/branchen/Hardware \t\tHardware\n",
      "/branchen/Holdings__Mischkonzerne \t\tHoldings / Mischkonzerne\n",
      "/branchen/Holzindustrie__Holzverarbeitung \t\tHolzindustrie / Holzverarbeitung\n",
      "/branchen/Hotels \t\tHotels\n",
      "/branchen/Immobilien \t\tImmobilien\n",
      "/branchen/Industrie \t\tIndustrie\n",
      "/branchen/Industriedienstleister \t\tIndustriedienstleister\n",
      "/branchen/Informationstechnologie \t\tInformationstechnologie\n",
      "/branchen/Ingenieurdienstleister \t\tIngenieurdienstleister\n",
      "/branchen/Internet_Dienstleister \t\tInternet-Dienstleister\n",
      "/branchen/Internethandel_B2B_B2C \t\tInternethandel (B2B, B2C)\n",
      "/branchen/Investmentbanken__Broker \t\tInvestmentbanken / Broker\n",
      "/branchen/IT_Beratung_Hardware \t\tIT-Beratung Hardware\n",
      "/branchen/IT_Dienstleister \t\tIT-Dienstleister\n",
      "/branchen/Kaufhaeuser \t\tKaufhäuser\n",
      "/branchen/Konsumgueter \t\tKonsumgüter\n",
      "/branchen/Kunststoffe \t\tKunststoffe\n",
      "/branchen/LifeScience \t\tLifeScience\n",
      "/branchen/Logistik \t\tLogistik\n",
      "/branchen/Luft_und_Raumfahrt \t\tLuft- und Raumfahrt\n",
      "/branchen/Luxusgueter \t\tLuxusgüter\n",
      "/branchen/Medien__Entertainment \t\tMedien / Entertainment\n",
      "/branchen/Medizinische_Produkte__Medizintechnik \t\tMedizinische Produkte / Medizintechnik\n",
      "/branchen/Moebel__Einrichtung__Haushaltsgeraete \t\tMöbel / Einrichtung / Haushaltsgeräte\n",
      "/branchen/Mobilkommunikation \t\tMobilkommunikation\n",
      "/branchen/Nahrung__Restaurant \t\tNahrung / Restaurant\n",
      "/branchen/Netzbetreiber_Carrier \t\tNetzbetreiber (Carrier)\n",
      "/branchen/Netzwerkaufbau__ausruester \t\tNetzwerkaufbau / -ausrüster\n",
      "/branchen/Netzwerktechnik_Hardware \t\tNetzwerktechnik (Hardware)\n",
      "/branchen/Nutzfahrzeuge \t\tNutzfahrzeuge\n",
      "/branchen/Oel__Gas_Versorger \t\tÖl / Gas (Versorger)\n",
      "/branchen/Oel_und_Gas \t\tÖl und Gas\n",
      "/branchen/Outsourcing \t\tOutsourcing\n",
      "/branchen/Papier_Kartonindustrie \t\tPapier-/Kartonindustrie\n",
      "/branchen/PCs__Handhelds \t\tPCs / Handhelds\n",
      "/branchen/Personaldienstleister \t\tPersonaldienstleister\n",
      "/branchen/Pharma \t\tPharma\n",
      "/branchen/Pharmahandel \t\tPharmahandel\n",
      "/branchen/Rechte \t\tRechte\n",
      "/branchen/Recycling \t\tRecycling\n",
      "/branchen/Rohstoffe \t\tRohstoffe\n",
      "/branchen/Rohstofffoerderung_Diamanten_Edelmetalle \t\tRohstoffförderung (Diamanten/Edelmetalle)\n",
      "/branchen/Rohstofffoerderung_Metalle_Kohle \t\tRohstoffförderung (Metalle/Kohle)\n",
      "/branchen/Rohstofffoerderung_Oel__Gas \t\tRohstoffförderung (Öl / Gas)\n",
      "/branchen/Rueckversicherungen \t\tRückversicherungen\n",
      "/branchen/Ruestungsindustrie \t\tRüstungsindustrie\n",
      "/branchen/Schiffbau \t\tSchiffbau\n",
      "/branchen/Schifffahrt \t\tSchifffahrt\n",
      "/branchen/Server__Grossrechner_Hardware \t\tServer- / Großrechner (Hardware)\n",
      "/branchen/Server__Grossrechner_Software \t\tServer-/ Großrechner (Software)\n",
      "/branchen/Software \t\tSoftware\n",
      "/branchen/Spezialchemie \t\tSpezialchemie\n",
      "/branchen/Sport__Spiel \t\tSport / Spiel\n",
      "/branchen/Sportartikel \t\tSportartikel\n",
      "/branchen/Stahl__Metallindustrie \t\tStahl- / Metallindustrie\n",
      "/branchen/Standard_Software_PC \t\tStandard-Software (PC)\n",
      "/branchen/Strassen__Schienen \t\tStraßen / Schienen\n",
      "/branchen/Supermaerkte \t\tSupermärkte\n",
      "/branchen/Telekommunikation \t\tTelekommunikation\n",
      "/branchen/Touristik \t\tTouristik\n",
      "/branchen/Umwelt_Dienstleister \t\tUmwelt-Dienstleister\n",
      "/branchen/Umweltschutztechnologie \t\tUmweltschutztechnologie\n",
      "/branchen/Unterhaltungselektronik \t\tUnterhaltungselektronik\n",
      "/branchen/Unternehmensberatung \t\tUnternehmensberatung\n",
      "/branchen/Unternehmensbeteiligungen \t\tUnternehmensbeteiligungen\n",
      "/branchen/Venture_Capital \t\tVenture Capital\n",
      "/branchen/Verpackungsindustrie \t\tVerpackungsindustrie\n",
      "/branchen/Versicherungen \t\tVersicherungen\n",
      "/branchen/Versorger \t\tVersorger\n",
      "/branchen/Werbung__PR__Marketing \t\tWerbung / PR / Marketing\n"
     ]
    }
   ],
   "source": [
    "allLinks=  list(soup.findAll('a'))\n",
    "\n",
    "for i in range(len(allLinks)):\n",
    "    if '/branchen/' in str(allLinks[i]) and '/branchen/\"' not in str(allLinks[i]):\n",
    "        print allLinks[i].get('href'), \"\\t\\t\",allLinks[i].get_text()"
   ]
  },
  {
   "cell_type": "code",
   "execution_count": null,
   "metadata": {
    "collapsed": true
   },
   "outputs": [],
   "source": []
  }
 ],
 "metadata": {
  "kernelspec": {
   "display_name": "Python 2",
   "language": "python",
   "name": "python2"
  },
  "language_info": {
   "codemirror_mode": {
    "name": "ipython",
    "version": 2
   },
   "file_extension": ".py",
   "mimetype": "text/x-python",
   "name": "python",
   "nbconvert_exporter": "python",
   "pygments_lexer": "ipython2",
   "version": "2.7.13"
  }
 },
 "nbformat": 4,
 "nbformat_minor": 0
}
