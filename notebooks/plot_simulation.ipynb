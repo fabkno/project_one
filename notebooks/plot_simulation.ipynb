{
 "cells": [
  {
   "cell_type": "code",
   "execution_count": 104,
   "metadata": {},
   "outputs": [
    {
     "name": "stdout",
     "output_type": "stream",
     "text": [
      "\n"
     ]
    }
   ],
   "source": [
    "import matplotlib.pyplot as plt\n",
    "import numpy as np\n",
    "import pandas as pd\n",
    "%matplotlib inline\n",
    "import datetime as dt\n",
    "import sys\n",
    "from datetime import datetime as dt"
   ]
  },
  {
   "cell_type": "code",
   "execution_count": 5,
   "metadata": {},
   "outputs": [
    {
     "name": "stdout",
     "output_type": "stream",
     "text": [
      "    Labels     Score Duration\n",
      "0   ALV.DE  0.398148        3\n",
      "1   ADS.DE  0.379630        3\n",
      "2   ALV.DE  0.400169        3\n",
      "3   ALV.DE  0.395238        3\n",
      "4   ALV.DE  0.401852        3\n",
      "5   ALV.DE  0.414815        3\n",
      "6   BAS.DE  0.377778        3\n",
      "7  BAYN.DE  0.331481        3\n",
      "8   BEI.DE  0.416667        3\n",
      "9   BMW.DE  0.333333        3\n"
     ]
    }
   ],
   "source": [
    "d = pd.read_pickle('/localscratch/data/project_one/data/predictions/predictions_scan.p')\n",
    "\n",
    "print d[['Labels','Score','Duration']].head(10)"
   ]
  },
  {
   "cell_type": "code",
   "execution_count": 157,
   "metadata": {},
   "outputs": [
    {
     "name": "stdout",
     "output_type": "stream",
     "text": [
      "        Labels LastTrainingsDate PredictionDay ValidationDay  \\\n",
      "10359  BOSS.DE        2018-03-05    2018-03-08    2018-03-13   \n",
      "10360  BOSS.DE        2018-03-06    2018-03-09    2018-03-14   \n",
      "\n",
      "       PrizeAtPrediction  PrizeAtValidation  RelativePrizeChange  \\\n",
      "10359              67.70              70.52                 4.17   \n",
      "10360              67.42                NaN                  NaN   \n",
      "\n",
      "       TrueCategory PredictedCategory  \\\n",
      "10359            10                 7   \n",
      "10360            11                 7   \n",
      "\n",
      "                                  PredictedProbabilities  PredictedUpperPrize  \\\n",
      "10359  [3.0, 3.0, 2.0, 6.0, 7.0, 9.0, 16.0, 24.0, 17....                69.05   \n",
      "10360  [3.0, 1.0, 2.0, 7.0, 7.0, 1.0, 19.0, 26.0, 20....                68.77   \n",
      "\n",
      "       PredictedLowerPrize ModelType  \\\n",
      "10359                68.38       RFC   \n",
      "10360                68.09       RFC   \n",
      "\n",
      "                                     ModelParameters         Timestamp  \\\n",
      "10359  {u'max_features': u'auto', u'max_depth': 200}  2018-03-15 18:31   \n",
      "10360  {u'max_features': u'auto', u'max_depth': 200}  2018-03-15 18:31   \n",
      "\n",
      "      Duration  \n",
      "10359        3  \n",
      "10360        3  \n"
     ]
    },
    {
     "data": {
      "image/png": "[encoded data removed]",
      "text/plain": [
       "<matplotlib.figure.Figure at 0x7f1c8e311a90>"
      ]
     },
     "metadata": {},
     "output_type": "display_data"
    },
    {
     "name": "stdout",
     "output_type": "stream",
     "text": [
      "0.270408163265\n",
      "+NN 0.658163265306\n",
      "     Labels LastTrainingsDate PredictionDay ValidationDay  PrizeAtPrediction  \\\n",
      "195  BEI.DE        2018-03-06    2018-03-09    2018-03-14              89.78   \n",
      "\n",
      "     PrizeAtValidation  RelativePrizeChange  TrueCategory PredictedCategory  \\\n",
      "195                NaN                  NaN             2                 4   \n",
      "\n",
      "                                PredictedProbabilities  PredictedUpperPrize  \\\n",
      "195  [2.0, 2.0, 1.0, 3.0, 34.0, 14.0, 20.0, 8.0, 7....                88.88   \n",
      "\n",
      "     PredictedLowerPrize ModelType  \\\n",
      "195                87.98       RFC   \n",
      "\n",
      "                                  ModelParameters         Timestamp Duration  \n",
      "195  {u'max_features': u'auto', u'max_depth': 75}  2018-03-15 15:53        3   196\n"
     ]
    }
   ],
   "source": [
    "\n",
    "data = pd.read_pickle('/localscratch/data/project_one/data/predictions/stocks/full_predictions_3BT.p')\n",
    "print data.tail(2)\n",
    "data = data.loc[(data['Labels'] == 'BEI.DE') & (data['ModelType'] == 'RFC')]\n",
    "\n",
    "plt.hist(data['PredictedCategory'])\n",
    "plt.show()\n",
    "print np.sum((data['TrueCategory'] == data['PredictedCategory'])*1.0)/len(data)\n",
    "print \"+NN\",np.sum((np.abs(data['TrueCategory']- data['PredictedCategory']) <=1)*1.0)/len(data)\n",
    "\n",
    "\n",
    "\n",
    "data.reset_index(drop=True,inplace=True)\n",
    "print data.tail(1),len(data)"
   ]
  },
  {
   "cell_type": "code",
   "execution_count": 155,
   "metadata": {},
   "outputs": [
    {
     "data": {
      "image/png": "[encoded data removed]",
      "text/plain": [
       "<matplotlib.figure.Figure at 0x7f1c8db25ed0>"
      ]
     },
     "metadata": {},
     "output_type": "display_data"
    }
   ],
   "source": [
    "plt.figure(figsize=(15,4))\n",
    "for k in range(len(data)):\n",
    "    if k == len(data)-1:\n",
    "        x,y=data['ValidationDay'].values[k],data['TrueCategory'].values[k]\n",
    "        \n",
    "        plt.bar(x,height=y+1,bottom=-1,width=0.25,edgecolor='k',label=r'True',facecolor='k')\n",
    "        y2=data['PredictedCategory'].values[k]\n",
    "        plt.bar(x,height=y2+1,bottom=-1,width=0.25,edgecolor='r',alpha=0.5,label=r'Prediction',facecolor='r')\n",
    "\n",
    "    else:\n",
    "        x,y=data['ValidationDay'].values[k],data['TrueCategory'].values[k]\n",
    "        plt.bar(x,height=y+1,bottom=-1,width=0.25,edgecolor='k',facecolor='k')\n",
    "        y2=data['PredictedCategory'].values[k]\n",
    "        plt.bar(x,height=y2+1,bottom=-1,width=0.25,edgecolor='r',facecolor='r',alpha=0.5)\n",
    "    \n",
    "        \n",
    "plt.xlim(data['ValidationDay'].values[0],data['ValidationDay'].values[k])\n",
    "plt.xlim(dt(2017,6,1),dt(2017,10,1))\n",
    "plt.ylabel(r'Category')\n",
    "plt.ylim(-1,11)\n",
    "plt.legend(loc='upper right',frameon=False)\n",
    "#plt.plot(data['ValidationDay'],data['TrueCategory'])\n",
    "\n",
    "plt.show()"
   ]
  },
  {
   "cell_type": "code",
   "execution_count": 156,
   "metadata": {},
   "outputs": [
    {
     "name": "stdout",
     "output_type": "stream",
     "text": [
      "12 12\n"
     ]
    },
    {
     "ename": "SystemExit",
     "evalue": "",
     "output_type": "error",
     "traceback": [
      "An exception has occurred, use %tb to see the full traceback.\n",
      "\u001b[0;31mSystemExit\u001b[0m\n"
     ]
    },
    {
     "data": {
      "image/png": "[encoded data removed]",
      "text/plain": [
       "<matplotlib.figure.Figure at 0x7f1c9181b750>"
      ]
     },
     "metadata": {},
     "output_type": "display_data"
    }
   ],
   "source": [
    "fig,ax= plt.subplots(2,1,figsize=(15,7))\n",
    "lower =np.array([-50,-5,-2.5,0,2.5,5])*0.01\n",
    "upper = np.array([-5,-2.5,0,2.5,5,100])*0.01\n",
    "\n",
    "lower = np.array([-50,-5,-4,-3,-2,-1,0,1,2,3,4,5])*0.01\n",
    "upper = np.array([-5,-4,-3,-2,1,0,1,2,3,4,5,100])*0.01\n",
    "print len(lower),len(upper)\n",
    "tmp = data['PrizeAtPrediction'].values\n",
    "cat = np.array(data['PredictedCategory'].values,dtype=int)\n",
    "true_prize = data['PrizeAtValidation']\n",
    "true_cat = data['TrueCategory']\n",
    "pred_cat = data['PredictedCategory']\n",
    "\n",
    "\n",
    "#print tmp[0],tmp[0]*(1+lower[cat[0]]),tmp[0]*(1+upper[cat[0]]), \n",
    "\n",
    "\n",
    "upp = (tmp*(1.+upper[cat]))\n",
    "low = (tmp*(1.+lower[cat]))\n",
    "\n",
    "dates = data['ValidationDay'].values\n",
    "ax[0].plot_date(dates,true_prize.values,'o',color='gray',markeredgecolor=\"none\",markersize=4,label=r'True price')\n",
    "\n",
    "ax[0].plot_date(dates[true_cat == pred_cat],true_prize[true_cat == pred_cat],'ro',markersize=4,markeredgecolor=\"none\")\n",
    "ax[0].plot_date(dates[np.abs(true_cat-pred_cat) == 1.0],true_prize[np.abs(true_cat-pred_cat) == 1.0],'o',color='r',markersize=4,markeredgecolor=\"none\")\n",
    "\n",
    "sys.exit()\n",
    "\n",
    "for i in range(len(data)):\n",
    "    if (true_prize[i]) > low[i] and (true_prize[i]<upp[i]):\n",
    "        ax[0].bar(dates[i],height=upp[i]-low[i],bottom=low[i],width=0.4,color='r',edgecolor=\"r\",alpha=0.5)\n",
    "        \n",
    "    elif np.abs(true_cat[i] - pred_cat[i]) == 1:\n",
    "        ax[0].bar(dates[i],height=upp[i]-low[i],bottom=low[i],width=0.4,color='royalblue',edgecolor=\"royalblue\",alpha=0.5)\n",
    "    else:\n",
    "        ax[0].bar(dates[i],height=upp[i]-low[i],bottom=low[i],width=0.4,color='gray',edgecolor=\"gray\")\n",
    "\n",
    "        \n",
    "ax[0].legend(loc='lower right',frameon=False,numpoints=1)\n",
    "ax[0].set_ylabel(r'Closing price')\n",
    "\n",
    "\n",
    "prob = data['PredictedProbabilities']\n",
    "\n",
    "pmax = [np.max(p) for p in prob]\n",
    "ax[1].axhline(50,color='k',ls='--')\n",
    "\n",
    "for i in range(len(data)):\n",
    "    if (true_prize.values[i]) > low[i] and (true_prize.values[i]<upp[i]):\n",
    "        ax[1].bar(data['ValidationDay'][i],pmax[i],width=0.25,color='r',edgecolor='r')\n",
    "        \n",
    "    elif np.abs(true_cat[i] - pred_cat[i]) == 1:\n",
    "        ax[1].bar(data['ValidationDay'].values[i],pmax[i],width=0.25,color='royalblue',edgecolor='royalblue')\n",
    "    else:\n",
    "        ax[1].bar(data['ValidationDay'].values[i],pmax[i],width=0.25,color='gray',edgecolor='gray')\n",
    "\n",
    "\n",
    "ax[1].set_ylabel(r'Model probability')\n",
    "ax[0].set_ylim(75,90)\n",
    "ax[1].set_ylim(0,50)\n",
    "\n",
    "ax[0].set_xlim(dt(2017,6,1),dt(2018,1,1))\n",
    "ax[1].set_xlim(dt(2017,6,1),dt(2018,1,1))\n",
    "ax[0].get_xaxis().set_visible(False)\n",
    "\n",
    "fig.subplots_adjust(hspace=0.02)\n",
    "\n",
    "#plt.savefig('/localscratch/data/project_one/figs/ALV.pdf')\n",
    "plt.show()\n",
    "\n"
   ]
  },
  {
   "cell_type": "code",
   "execution_count": null,
   "metadata": {},
   "outputs": [],
   "source": []
  },
  {
   "cell_type": "code",
   "execution_count": 27,
   "metadata": {},
   "outputs": [
    {
     "name": "stdout",
     "output_type": "stream",
     "text": [
      "880      True\n",
      "881     False\n",
      "882      True\n",
      "883     False\n",
      "884     False\n",
      "885      True\n",
      "886      True\n",
      "887      True\n",
      "888      True\n",
      "889      True\n",
      "890     False\n",
      "891     False\n",
      "892     False\n",
      "893      True\n",
      "894     False\n",
      "895     False\n",
      "896     False\n",
      "897     False\n",
      "898     False\n",
      "899      True\n",
      "900     False\n",
      "901     False\n",
      "902      True\n",
      "903     False\n",
      "904     False\n",
      "905     False\n",
      "906      True\n",
      "907      True\n",
      "908      True\n",
      "909      True\n",
      "        ...  \n",
      "1026    False\n",
      "1027    False\n",
      "1028    False\n",
      "1029     True\n",
      "1030     True\n",
      "1031    False\n",
      "1032    False\n",
      "1033    False\n",
      "1034     True\n",
      "1035    False\n",
      "1036    False\n",
      "1037    False\n",
      "1038    False\n",
      "1039     True\n",
      "1040     True\n",
      "1041    False\n",
      "1042    False\n",
      "1043    False\n",
      "1044     True\n",
      "1045     True\n",
      "1046     True\n",
      "1047     True\n",
      "1048    False\n",
      "1049    False\n",
      "1050     True\n",
      "1051    False\n",
      "1052    False\n",
      "1053    False\n",
      "1054     True\n",
      "1055     True\n",
      "Name: PrizeAtValidation, Length: 176, dtype: bool\n"
     ]
    },
    {
     "ename": "KeyError",
     "evalue": "u'None of [[  0   1   2   3   4   5   6   7   8   9  10  11  12  13  14  15  16  17\\n  18  19  20  21  22  23  24  25  26  27  28  29  30  31  32  33  34  35\\n  36  37  38  39  40  41  42  43  44  45  46  47  48  49  50  51  52  53\\n  54  55  56  57  58  59  60  61  62  63  64  65  66  67  68  69  70  71\\n  72  73  74  75  76  77  78  79  80  81  82  83  84  85  86  87  88  89\\n  90  91  92  93  94  95  96  97  98  99 100 101 102 103 104 105 106 107\\n 108 109 110 111 112 113 114 115 116 117 118 119 120 121 122 123 124 125\\n 126 127 128 129 130 131 132 133 134 135 136 137 138 139 140 141 142 143\\n 144 145 146 147 148 149 150 151 152 153 154 155 156 157 158 159 160 161\\n 162 163 164 165 166 167 168 169 170 171 172 173 174 175]] are in the [index]'",
     "output_type": "error",
     "traceback": [
      "\u001b[0;31m---------------------------------------------------------------------------\u001b[0m",
      "\u001b[0;31mKeyError\u001b[0m                                  Traceback (most recent call last)",
      "\u001b[0;32m<ipython-input-27-767657bfa902>\u001b[0m in \u001b[0;36m<module>\u001b[0;34m()\u001b[0m\n\u001b[1;32m     10\u001b[0m     \u001b[0m_prob\u001b[0m \u001b[0;34m=\u001b[0m \u001b[0mnp\u001b[0m\u001b[0;34m.\u001b[0m\u001b[0mwhere\u001b[0m\u001b[0;34m(\u001b[0m\u001b[0mnp\u001b[0m\u001b[0;34m.\u001b[0m\u001b[0marray\u001b[0m\u001b[0;34m(\u001b[0m\u001b[0mpmax\u001b[0m\u001b[0;34m)\u001b[0m\u001b[0;34m>\u001b[0m\u001b[0mn\u001b[0m\u001b[0;34m)\u001b[0m\u001b[0;34m[\u001b[0m\u001b[0;36m0\u001b[0m\u001b[0;34m]\u001b[0m\u001b[0;34m\u001b[0m\u001b[0m\n\u001b[1;32m     11\u001b[0m     \u001b[0mcorrect\u001b[0m\u001b[0;34m[\u001b[0m\u001b[0mk\u001b[0m\u001b[0;34m,\u001b[0m\u001b[0;36m0\u001b[0m\u001b[0;34m]\u001b[0m \u001b[0;34m=\u001b[0m \u001b[0mn\u001b[0m\u001b[0;34m*\u001b[0m\u001b[0;36m100.\u001b[0m\u001b[0;34m\u001b[0m\u001b[0m\n\u001b[0;32m---> 12\u001b[0;31m     \u001b[0mcorrect\u001b[0m\u001b[0;34m[\u001b[0m\u001b[0mk\u001b[0m\u001b[0;34m,\u001b[0m\u001b[0;36m1\u001b[0m\u001b[0;34m]\u001b[0m \u001b[0;34m=\u001b[0m \u001b[0mnp\u001b[0m\u001b[0;34m.\u001b[0m\u001b[0msum\u001b[0m\u001b[0;34m(\u001b[0m\u001b[0m_true\u001b[0m\u001b[0;34m[\u001b[0m\u001b[0m_prob\u001b[0m\u001b[0;34m]\u001b[0m\u001b[0;34m*\u001b[0m\u001b[0;36m1.0\u001b[0m\u001b[0;34m)\u001b[0m\u001b[0;34m/\u001b[0m\u001b[0mlen\u001b[0m\u001b[0;34m(\u001b[0m\u001b[0m_prob\u001b[0m\u001b[0;34m)\u001b[0m\u001b[0;34m*\u001b[0m\u001b[0;36m100.00\u001b[0m\u001b[0;34m\u001b[0m\u001b[0m\n\u001b[0m\u001b[1;32m     13\u001b[0m     \u001b[0mcorrect\u001b[0m\u001b[0;34m[\u001b[0m\u001b[0mk\u001b[0m\u001b[0;34m,\u001b[0m\u001b[0;36m2\u001b[0m\u001b[0;34m]\u001b[0m \u001b[0;34m=\u001b[0m \u001b[0mlen\u001b[0m\u001b[0;34m(\u001b[0m\u001b[0m_prob\u001b[0m\u001b[0;34m)\u001b[0m\u001b[0;34m\u001b[0m\u001b[0m\n\u001b[1;32m     14\u001b[0m \u001b[0;34m\u001b[0m\u001b[0m\n",
      "\u001b[0;32m/fs01/ma08/homes/fknoch/anaconda/lib/python2.7/site-packages/pandas/core/series.pyc\u001b[0m in \u001b[0;36m__getitem__\u001b[0;34m(self, key)\u001b[0m\n\u001b[1;32m    662\u001b[0m             \u001b[0mkey\u001b[0m \u001b[0;34m=\u001b[0m \u001b[0mcheck_bool_indexer\u001b[0m\u001b[0;34m(\u001b[0m\u001b[0mself\u001b[0m\u001b[0;34m.\u001b[0m\u001b[0mindex\u001b[0m\u001b[0;34m,\u001b[0m \u001b[0mkey\u001b[0m\u001b[0;34m)\u001b[0m\u001b[0;34m\u001b[0m\u001b[0m\n\u001b[1;32m    663\u001b[0m \u001b[0;34m\u001b[0m\u001b[0m\n\u001b[0;32m--> 664\u001b[0;31m         \u001b[0;32mreturn\u001b[0m \u001b[0mself\u001b[0m\u001b[0;34m.\u001b[0m\u001b[0m_get_with\u001b[0m\u001b[0;34m(\u001b[0m\u001b[0mkey\u001b[0m\u001b[0;34m)\u001b[0m\u001b[0;34m\u001b[0m\u001b[0m\n\u001b[0m\u001b[1;32m    665\u001b[0m \u001b[0;34m\u001b[0m\u001b[0m\n\u001b[1;32m    666\u001b[0m     \u001b[0;32mdef\u001b[0m \u001b[0m_get_with\u001b[0m\u001b[0;34m(\u001b[0m\u001b[0mself\u001b[0m\u001b[0;34m,\u001b[0m \u001b[0mkey\u001b[0m\u001b[0;34m)\u001b[0m\u001b[0;34m:\u001b[0m\u001b[0;34m\u001b[0m\u001b[0m\n",
      "\u001b[0;32m/fs01/ma08/homes/fknoch/anaconda/lib/python2.7/site-packages/pandas/core/series.pyc\u001b[0m in \u001b[0;36m_get_with\u001b[0;34m(self, key)\u001b[0m\n\u001b[1;32m    694\u001b[0m             \u001b[0;32mif\u001b[0m \u001b[0mkey_type\u001b[0m \u001b[0;34m==\u001b[0m \u001b[0;34m'integer'\u001b[0m\u001b[0;34m:\u001b[0m\u001b[0;34m\u001b[0m\u001b[0m\n\u001b[1;32m    695\u001b[0m                 \u001b[0;32mif\u001b[0m \u001b[0mself\u001b[0m\u001b[0;34m.\u001b[0m\u001b[0mindex\u001b[0m\u001b[0;34m.\u001b[0m\u001b[0mis_integer\u001b[0m\u001b[0;34m(\u001b[0m\u001b[0;34m)\u001b[0m \u001b[0;32mor\u001b[0m \u001b[0mself\u001b[0m\u001b[0;34m.\u001b[0m\u001b[0mindex\u001b[0m\u001b[0;34m.\u001b[0m\u001b[0mis_floating\u001b[0m\u001b[0;34m(\u001b[0m\u001b[0;34m)\u001b[0m\u001b[0;34m:\u001b[0m\u001b[0;34m\u001b[0m\u001b[0m\n\u001b[0;32m--> 696\u001b[0;31m                     \u001b[0;32mreturn\u001b[0m \u001b[0mself\u001b[0m\u001b[0;34m.\u001b[0m\u001b[0mloc\u001b[0m\u001b[0;34m[\u001b[0m\u001b[0mkey\u001b[0m\u001b[0;34m]\u001b[0m\u001b[0;34m\u001b[0m\u001b[0m\n\u001b[0m\u001b[1;32m    697\u001b[0m                 \u001b[0;32melse\u001b[0m\u001b[0;34m:\u001b[0m\u001b[0;34m\u001b[0m\u001b[0m\n\u001b[1;32m    698\u001b[0m                     \u001b[0;32mreturn\u001b[0m \u001b[0mself\u001b[0m\u001b[0;34m.\u001b[0m\u001b[0m_get_values\u001b[0m\u001b[0;34m(\u001b[0m\u001b[0mkey\u001b[0m\u001b[0;34m)\u001b[0m\u001b[0;34m\u001b[0m\u001b[0m\n",
      "\u001b[0;32m/fs01/ma08/homes/fknoch/anaconda/lib/python2.7/site-packages/pandas/core/indexing.pyc\u001b[0m in \u001b[0;36m__getitem__\u001b[0;34m(self, key)\u001b[0m\n\u001b[1;32m   1371\u001b[0m \u001b[0;34m\u001b[0m\u001b[0m\n\u001b[1;32m   1372\u001b[0m             \u001b[0mmaybe_callable\u001b[0m \u001b[0;34m=\u001b[0m \u001b[0mcom\u001b[0m\u001b[0;34m.\u001b[0m\u001b[0m_apply_if_callable\u001b[0m\u001b[0;34m(\u001b[0m\u001b[0mkey\u001b[0m\u001b[0;34m,\u001b[0m \u001b[0mself\u001b[0m\u001b[0;34m.\u001b[0m\u001b[0mobj\u001b[0m\u001b[0;34m)\u001b[0m\u001b[0;34m\u001b[0m\u001b[0m\n\u001b[0;32m-> 1373\u001b[0;31m             \u001b[0;32mreturn\u001b[0m \u001b[0mself\u001b[0m\u001b[0;34m.\u001b[0m\u001b[0m_getitem_axis\u001b[0m\u001b[0;34m(\u001b[0m\u001b[0mmaybe_callable\u001b[0m\u001b[0;34m,\u001b[0m \u001b[0maxis\u001b[0m\u001b[0;34m=\u001b[0m\u001b[0maxis\u001b[0m\u001b[0;34m)\u001b[0m\u001b[0;34m\u001b[0m\u001b[0m\n\u001b[0m\u001b[1;32m   1374\u001b[0m \u001b[0;34m\u001b[0m\u001b[0m\n\u001b[1;32m   1375\u001b[0m     \u001b[0;32mdef\u001b[0m \u001b[0m_is_scalar_access\u001b[0m\u001b[0;34m(\u001b[0m\u001b[0mself\u001b[0m\u001b[0;34m,\u001b[0m \u001b[0mkey\u001b[0m\u001b[0;34m)\u001b[0m\u001b[0;34m:\u001b[0m\u001b[0;34m\u001b[0m\u001b[0m\n",
      "\u001b[0;32m/fs01/ma08/homes/fknoch/anaconda/lib/python2.7/site-packages/pandas/core/indexing.pyc\u001b[0m in \u001b[0;36m_getitem_axis\u001b[0;34m(self, key, axis)\u001b[0m\n\u001b[1;32m   1614\u001b[0m                     \u001b[0;32mraise\u001b[0m \u001b[0mValueError\u001b[0m\u001b[0;34m(\u001b[0m\u001b[0;34m'Cannot index with multidimensional key'\u001b[0m\u001b[0;34m)\u001b[0m\u001b[0;34m\u001b[0m\u001b[0m\n\u001b[1;32m   1615\u001b[0m \u001b[0;34m\u001b[0m\u001b[0m\n\u001b[0;32m-> 1616\u001b[0;31m                 \u001b[0;32mreturn\u001b[0m \u001b[0mself\u001b[0m\u001b[0;34m.\u001b[0m\u001b[0m_getitem_iterable\u001b[0m\u001b[0;34m(\u001b[0m\u001b[0mkey\u001b[0m\u001b[0;34m,\u001b[0m \u001b[0maxis\u001b[0m\u001b[0;34m=\u001b[0m\u001b[0maxis\u001b[0m\u001b[0;34m)\u001b[0m\u001b[0;34m\u001b[0m\u001b[0m\n\u001b[0m\u001b[1;32m   1617\u001b[0m \u001b[0;34m\u001b[0m\u001b[0m\n\u001b[1;32m   1618\u001b[0m             \u001b[0;31m# nested tuple slicing\u001b[0m\u001b[0;34m\u001b[0m\u001b[0;34m\u001b[0m\u001b[0m\n",
      "\u001b[0;32m/fs01/ma08/homes/fknoch/anaconda/lib/python2.7/site-packages/pandas/core/indexing.pyc\u001b[0m in \u001b[0;36m_getitem_iterable\u001b[0;34m(self, key, axis)\u001b[0m\n\u001b[1;32m   1113\u001b[0m \u001b[0;34m\u001b[0m\u001b[0m\n\u001b[1;32m   1114\u001b[0m         \u001b[0;32mif\u001b[0m \u001b[0mself\u001b[0m\u001b[0;34m.\u001b[0m\u001b[0m_should_validate_iterable\u001b[0m\u001b[0;34m(\u001b[0m\u001b[0maxis\u001b[0m\u001b[0;34m)\u001b[0m\u001b[0;34m:\u001b[0m\u001b[0;34m\u001b[0m\u001b[0m\n\u001b[0;32m-> 1115\u001b[0;31m             \u001b[0mself\u001b[0m\u001b[0;34m.\u001b[0m\u001b[0m_has_valid_type\u001b[0m\u001b[0;34m(\u001b[0m\u001b[0mkey\u001b[0m\u001b[0;34m,\u001b[0m \u001b[0maxis\u001b[0m\u001b[0;34m)\u001b[0m\u001b[0;34m\u001b[0m\u001b[0m\n\u001b[0m\u001b[1;32m   1116\u001b[0m \u001b[0;34m\u001b[0m\u001b[0m\n\u001b[1;32m   1117\u001b[0m         \u001b[0mlabels\u001b[0m \u001b[0;34m=\u001b[0m \u001b[0mself\u001b[0m\u001b[0;34m.\u001b[0m\u001b[0mobj\u001b[0m\u001b[0;34m.\u001b[0m\u001b[0m_get_axis\u001b[0m\u001b[0;34m(\u001b[0m\u001b[0maxis\u001b[0m\u001b[0;34m)\u001b[0m\u001b[0;34m\u001b[0m\u001b[0m\n",
      "\u001b[0;32m/fs01/ma08/homes/fknoch/anaconda/lib/python2.7/site-packages/pandas/core/indexing.pyc\u001b[0m in \u001b[0;36m_has_valid_type\u001b[0;34m(self, key, axis)\u001b[0m\n\u001b[1;32m   1470\u001b[0m                         raise KeyError(\n\u001b[1;32m   1471\u001b[0m                             u\"None of [{key}] are in the [{axis}]\".format(\n\u001b[0;32m-> 1472\u001b[0;31m                                 key=key, axis=self.obj._get_axis_name(axis)))\n\u001b[0m\u001b[1;32m   1473\u001b[0m                     \u001b[0;32melse\u001b[0m\u001b[0;34m:\u001b[0m\u001b[0;34m\u001b[0m\u001b[0m\n\u001b[1;32m   1474\u001b[0m \u001b[0;34m\u001b[0m\u001b[0m\n",
      "\u001b[0;31mKeyError\u001b[0m: u'None of [[  0   1   2   3   4   5   6   7   8   9  10  11  12  13  14  15  16  17\\n  18  19  20  21  22  23  24  25  26  27  28  29  30  31  32  33  34  35\\n  36  37  38  39  40  41  42  43  44  45  46  47  48  49  50  51  52  53\\n  54  55  56  57  58  59  60  61  62  63  64  65  66  67  68  69  70  71\\n  72  73  74  75  76  77  78  79  80  81  82  83  84  85  86  87  88  89\\n  90  91  92  93  94  95  96  97  98  99 100 101 102 103 104 105 106 107\\n 108 109 110 111 112 113 114 115 116 117 118 119 120 121 122 123 124 125\\n 126 127 128 129 130 131 132 133 134 135 136 137 138 139 140 141 142 143\\n 144 145 146 147 148 149 150 151 152 153 154 155 156 157 158 159 160 161\\n 162 163 164 165 166 167 168 169 170 171 172 173 174 175]] are in the [index]'"
     ]
    }
   ],
   "source": [
    "_true = np.bitwise_and(true_prize.values>low,true_prize<upp)\n",
    "\n",
    "\n",
    "N = np.arange(0.4,0.9,0.1)\n",
    "\n",
    "correct = np.zeros([len(N),3])\n",
    "\n",
    "for k,n in enumerate(N):\n",
    "    \n",
    "    _prob = np.where(np.array(pmax)>n)[0]\n",
    "    correct[k,0] = n*100.\n",
    "    correct[k,1] = np.sum(_true[_prob]*1.0)/len(_prob)*100.00\n",
    "    correct[k,2] = len(_prob)\n",
    "\n",
    "plt.bar(correct[:,0]-3,height=correct[:,1],width=6,edgecolor=\"white\",facecolor='r',alpha=0.5)\n",
    "\n",
    "plt.xlim(35,85)\n",
    "plt.ylim(50,90)\n",
    "plt.ylabel(r'Probability for correct prediction (%)')\n",
    "plt.xlabel(r'Model prediction > x%')\n",
    "\n",
    "plt.draw()\n",
    "#plt.savefig('/localscratch/data/project_one/figs/ALV_prob.pdf')\n",
    "\n",
    "plt.show()\n",
    "\n",
    "print correct"
   ]
  },
  {
   "cell_type": "code",
   "execution_count": 4,
   "metadata": {},
   "outputs": [
    {
     "name": "stdout",
     "output_type": "stream",
     "text": [
      "171.449997 171.449997 175.736246925"
     ]
    },
    {
     "data": {
      "image/png": "[encoded data removed]",
      "text/plain": [
       "<matplotlib.figure.Figure at 0x7f456551d810>"
      ]
     },
     "metadata": {},
     "output_type": "display_data"
    },
    {
     "name": "stdout",
     "output_type": "stream",
     "text": [
      "\n"
     ]
    }
   ],
   "source": [
    "fig,ax= plt.subplots(2,1,figsize=(15,7))\n",
    "lower =np.array([-50,-5,-2.5,0,2.5,5])*0.01\n",
    "upper = np.array([-5,-2.5,0,2.5,5,100])*0.01\n",
    "\n",
    "tmp = data['PrizeAtPrediction'].values\n",
    "cat = np.array(data['PredictedCategory'].values,dtype=int)\n",
    "true_prize = data['PrizeAtValidaion']\n",
    "print tmp[0],tmp[0]*(1+lower[cat[0]]),tmp[0]*(1+upper[cat[0]]), \n",
    "\n",
    "\n",
    "upp = (tmp*(1.+upper[cat]))\n",
    "low = (tmp*(1.+lower[cat]))\n",
    "dates = data['ValidationDay'].values\n",
    "ax[0].plot_date(dates,true_prize.values,'ro',markeredgecolor=\"none\",markersize=4,label=r'True price')\n",
    "for i in range(len(data)):\n",
    "    if (true_prize.values[i]) > low[i] and (true_prize.values[i]<upp[i]):\n",
    "        ax[0].bar(dates[i],height=upp[i]-low[i],bottom=low[i],width=0.4,color='r',edgecolor=\"r\",alpha=0.5)\n",
    "    else:\n",
    "        ax[0].bar(dates[i],height=upp[i]-low[i],bottom=low[i],width=0.4,color='gray',edgecolor=\"gray\")\n",
    "\n",
    "        \n",
    "ax[0].legend(loc='lower right',frameon=False,numpoints=1)\n",
    "ax[0].set_ylabel(r'Closing price')\n",
    "prob = data['PredictedProbabilities']\n",
    "\n",
    "pmax = [np.max(p) for p in prob]\n",
    "ax[1].axhline(50,color='k',ls='--')\n",
    "\n",
    "for i in range(len(data)):\n",
    "    if (true_prize.values[i]) > low[i] and (true_prize.values[i]<upp[i]):\n",
    "        ax[1].bar(data['ValidationDay'].values[i],pmax[i]*100,width=0.25,color='r',edgecolor='r')\n",
    "    else:\n",
    "        ax[1].bar(data['ValidationDay'].values[i],pmax[i]*100,width=0.25,color='gray',edgecolor='gray')\n",
    "\n",
    "\n",
    "ax[1].set_ylabel(r'Model probability')\n",
    "ax[0].set_ylim(170,210)\n",
    "ax[1].set_ylim(0,99)\n",
    "\n",
    "ax[0].set_xlim(dt.datetime(2017,7,1),dt.datetime(2018,2,1))\n",
    "ax[1].set_xlim(dt.datetime(2017,7,1),dt.datetime(2018,2,1))\n",
    "ax[0].get_xaxis().set_visible(False)\n",
    "\n",
    "fig.subplots_adjust(hspace=0.02)\n",
    "\n",
    "#plt.savefig('/localscratch/data/project_one/figs/ALV.pdf')\n",
    "plt.show()"
   ]
  },
  {
   "cell_type": "code",
   "execution_count": 20,
   "metadata": {},
   "outputs": [
    {
     "ename": "KeyError",
     "evalue": "u'None of [[  0   1   2   3   4   5   6   7   8   9  10  11  12  13  14  15  16  17\\n  18  19  20  21  22  23  24  25  26  27  28  29  30  31  32  33  34  35\\n  36  37  38  39  40  41  42  43  44  45  46  47  48  49  50  51  52  53\\n  54  55  56  57  58  59  60  61  62  63  64  65  66  67  68  69  70  71\\n  72  73  74  75  76  77  78  79  80  81  82  83  84  85  86  87  88  89\\n  90  91  92  93  94  95  96  97  98  99 100 101 102 103 104 105 106 107\\n 108 109 110 111 112 113 114 115 116 117 118 119 120 121 122 123 124 125\\n 126 127 128 129 130 131 132 133 134 135 136 137 138 139 140 141 142 143\\n 144 145 146 147 148 149 150 151 152 153 154 155 156 157 158 159 160 161\\n 162 163 164 165 166 167 168 169 170 171 172 173 174 175]] are in the [index]'",
     "output_type": "error",
     "traceback": [
      "\u001b[0;31m---------------------------------------------------------------------------\u001b[0m",
      "\u001b[0;31mKeyError\u001b[0m                                  Traceback (most recent call last)",
      "\u001b[0;32m<ipython-input-20-2c34ffe4c5e3>\u001b[0m in \u001b[0;36m<module>\u001b[0;34m()\u001b[0m\n\u001b[1;32m      9\u001b[0m     \u001b[0m_prob\u001b[0m \u001b[0;34m=\u001b[0m \u001b[0mnp\u001b[0m\u001b[0;34m.\u001b[0m\u001b[0mwhere\u001b[0m\u001b[0;34m(\u001b[0m\u001b[0mnp\u001b[0m\u001b[0;34m.\u001b[0m\u001b[0marray\u001b[0m\u001b[0;34m(\u001b[0m\u001b[0mpmax\u001b[0m\u001b[0;34m)\u001b[0m\u001b[0;34m>\u001b[0m\u001b[0mn\u001b[0m\u001b[0;34m)\u001b[0m\u001b[0;34m[\u001b[0m\u001b[0;36m0\u001b[0m\u001b[0;34m]\u001b[0m\u001b[0;34m\u001b[0m\u001b[0m\n\u001b[1;32m     10\u001b[0m     \u001b[0mcorrect\u001b[0m\u001b[0;34m[\u001b[0m\u001b[0mk\u001b[0m\u001b[0;34m,\u001b[0m\u001b[0;36m0\u001b[0m\u001b[0;34m]\u001b[0m \u001b[0;34m=\u001b[0m \u001b[0mn\u001b[0m\u001b[0;34m*\u001b[0m\u001b[0;36m100.\u001b[0m\u001b[0;34m\u001b[0m\u001b[0m\n\u001b[0;32m---> 11\u001b[0;31m     \u001b[0mcorrect\u001b[0m\u001b[0;34m[\u001b[0m\u001b[0mk\u001b[0m\u001b[0;34m,\u001b[0m\u001b[0;36m1\u001b[0m\u001b[0;34m]\u001b[0m \u001b[0;34m=\u001b[0m \u001b[0mnp\u001b[0m\u001b[0;34m.\u001b[0m\u001b[0msum\u001b[0m\u001b[0;34m(\u001b[0m\u001b[0m_true\u001b[0m\u001b[0;34m[\u001b[0m\u001b[0m_prob\u001b[0m\u001b[0;34m]\u001b[0m\u001b[0;34m*\u001b[0m\u001b[0;36m1.0\u001b[0m\u001b[0;34m)\u001b[0m\u001b[0;34m/\u001b[0m\u001b[0mlen\u001b[0m\u001b[0;34m(\u001b[0m\u001b[0m_prob\u001b[0m\u001b[0;34m)\u001b[0m\u001b[0;34m*\u001b[0m\u001b[0;36m100.00\u001b[0m\u001b[0;34m\u001b[0m\u001b[0m\n\u001b[0m\u001b[1;32m     12\u001b[0m     \u001b[0mcorrect\u001b[0m\u001b[0;34m[\u001b[0m\u001b[0mk\u001b[0m\u001b[0;34m,\u001b[0m\u001b[0;36m2\u001b[0m\u001b[0;34m]\u001b[0m \u001b[0;34m=\u001b[0m \u001b[0mlen\u001b[0m\u001b[0;34m(\u001b[0m\u001b[0m_prob\u001b[0m\u001b[0;34m)\u001b[0m\u001b[0;34m\u001b[0m\u001b[0m\n\u001b[1;32m     13\u001b[0m \u001b[0;34m\u001b[0m\u001b[0m\n",
      "\u001b[0;32m/fs01/ma08/homes/fknoch/anaconda/lib/python2.7/site-packages/pandas/core/series.pyc\u001b[0m in \u001b[0;36m__getitem__\u001b[0;34m(self, key)\u001b[0m\n\u001b[1;32m    662\u001b[0m             \u001b[0mkey\u001b[0m \u001b[0;34m=\u001b[0m \u001b[0mcheck_bool_indexer\u001b[0m\u001b[0;34m(\u001b[0m\u001b[0mself\u001b[0m\u001b[0;34m.\u001b[0m\u001b[0mindex\u001b[0m\u001b[0;34m,\u001b[0m \u001b[0mkey\u001b[0m\u001b[0;34m)\u001b[0m\u001b[0;34m\u001b[0m\u001b[0m\n\u001b[1;32m    663\u001b[0m \u001b[0;34m\u001b[0m\u001b[0m\n\u001b[0;32m--> 664\u001b[0;31m         \u001b[0;32mreturn\u001b[0m \u001b[0mself\u001b[0m\u001b[0;34m.\u001b[0m\u001b[0m_get_with\u001b[0m\u001b[0;34m(\u001b[0m\u001b[0mkey\u001b[0m\u001b[0;34m)\u001b[0m\u001b[0;34m\u001b[0m\u001b[0m\n\u001b[0m\u001b[1;32m    665\u001b[0m \u001b[0;34m\u001b[0m\u001b[0m\n\u001b[1;32m    666\u001b[0m     \u001b[0;32mdef\u001b[0m \u001b[0m_get_with\u001b[0m\u001b[0;34m(\u001b[0m\u001b[0mself\u001b[0m\u001b[0;34m,\u001b[0m \u001b[0mkey\u001b[0m\u001b[0;34m)\u001b[0m\u001b[0;34m:\u001b[0m\u001b[0;34m\u001b[0m\u001b[0m\n",
      "\u001b[0;32m/fs01/ma08/homes/fknoch/anaconda/lib/python2.7/site-packages/pandas/core/series.pyc\u001b[0m in \u001b[0;36m_get_with\u001b[0;34m(self, key)\u001b[0m\n\u001b[1;32m    694\u001b[0m             \u001b[0;32mif\u001b[0m \u001b[0mkey_type\u001b[0m \u001b[0;34m==\u001b[0m \u001b[0;34m'integer'\u001b[0m\u001b[0;34m:\u001b[0m\u001b[0;34m\u001b[0m\u001b[0m\n\u001b[1;32m    695\u001b[0m                 \u001b[0;32mif\u001b[0m \u001b[0mself\u001b[0m\u001b[0;34m.\u001b[0m\u001b[0mindex\u001b[0m\u001b[0;34m.\u001b[0m\u001b[0mis_integer\u001b[0m\u001b[0;34m(\u001b[0m\u001b[0;34m)\u001b[0m \u001b[0;32mor\u001b[0m \u001b[0mself\u001b[0m\u001b[0;34m.\u001b[0m\u001b[0mindex\u001b[0m\u001b[0;34m.\u001b[0m\u001b[0mis_floating\u001b[0m\u001b[0;34m(\u001b[0m\u001b[0;34m)\u001b[0m\u001b[0;34m:\u001b[0m\u001b[0;34m\u001b[0m\u001b[0m\n\u001b[0;32m--> 696\u001b[0;31m                     \u001b[0;32mreturn\u001b[0m \u001b[0mself\u001b[0m\u001b[0;34m.\u001b[0m\u001b[0mloc\u001b[0m\u001b[0;34m[\u001b[0m\u001b[0mkey\u001b[0m\u001b[0;34m]\u001b[0m\u001b[0;34m\u001b[0m\u001b[0m\n\u001b[0m\u001b[1;32m    697\u001b[0m                 \u001b[0;32melse\u001b[0m\u001b[0;34m:\u001b[0m\u001b[0;34m\u001b[0m\u001b[0m\n\u001b[1;32m    698\u001b[0m                     \u001b[0;32mreturn\u001b[0m \u001b[0mself\u001b[0m\u001b[0;34m.\u001b[0m\u001b[0m_get_values\u001b[0m\u001b[0;34m(\u001b[0m\u001b[0mkey\u001b[0m\u001b[0;34m)\u001b[0m\u001b[0;34m\u001b[0m\u001b[0m\n",
      "\u001b[0;32m/fs01/ma08/homes/fknoch/anaconda/lib/python2.7/site-packages/pandas/core/indexing.pyc\u001b[0m in \u001b[0;36m__getitem__\u001b[0;34m(self, key)\u001b[0m\n\u001b[1;32m   1371\u001b[0m \u001b[0;34m\u001b[0m\u001b[0m\n\u001b[1;32m   1372\u001b[0m             \u001b[0mmaybe_callable\u001b[0m \u001b[0;34m=\u001b[0m \u001b[0mcom\u001b[0m\u001b[0;34m.\u001b[0m\u001b[0m_apply_if_callable\u001b[0m\u001b[0;34m(\u001b[0m\u001b[0mkey\u001b[0m\u001b[0;34m,\u001b[0m \u001b[0mself\u001b[0m\u001b[0;34m.\u001b[0m\u001b[0mobj\u001b[0m\u001b[0;34m)\u001b[0m\u001b[0;34m\u001b[0m\u001b[0m\n\u001b[0;32m-> 1373\u001b[0;31m             \u001b[0;32mreturn\u001b[0m \u001b[0mself\u001b[0m\u001b[0;34m.\u001b[0m\u001b[0m_getitem_axis\u001b[0m\u001b[0;34m(\u001b[0m\u001b[0mmaybe_callable\u001b[0m\u001b[0;34m,\u001b[0m \u001b[0maxis\u001b[0m\u001b[0;34m=\u001b[0m\u001b[0maxis\u001b[0m\u001b[0;34m)\u001b[0m\u001b[0;34m\u001b[0m\u001b[0m\n\u001b[0m\u001b[1;32m   1374\u001b[0m \u001b[0;34m\u001b[0m\u001b[0m\n\u001b[1;32m   1375\u001b[0m     \u001b[0;32mdef\u001b[0m \u001b[0m_is_scalar_access\u001b[0m\u001b[0;34m(\u001b[0m\u001b[0mself\u001b[0m\u001b[0;34m,\u001b[0m \u001b[0mkey\u001b[0m\u001b[0;34m)\u001b[0m\u001b[0;34m:\u001b[0m\u001b[0;34m\u001b[0m\u001b[0m\n",
      "\u001b[0;32m/fs01/ma08/homes/fknoch/anaconda/lib/python2.7/site-packages/pandas/core/indexing.pyc\u001b[0m in \u001b[0;36m_getitem_axis\u001b[0;34m(self, key, axis)\u001b[0m\n\u001b[1;32m   1614\u001b[0m                     \u001b[0;32mraise\u001b[0m \u001b[0mValueError\u001b[0m\u001b[0;34m(\u001b[0m\u001b[0;34m'Cannot index with multidimensional key'\u001b[0m\u001b[0;34m)\u001b[0m\u001b[0;34m\u001b[0m\u001b[0m\n\u001b[1;32m   1615\u001b[0m \u001b[0;34m\u001b[0m\u001b[0m\n\u001b[0;32m-> 1616\u001b[0;31m                 \u001b[0;32mreturn\u001b[0m \u001b[0mself\u001b[0m\u001b[0;34m.\u001b[0m\u001b[0m_getitem_iterable\u001b[0m\u001b[0;34m(\u001b[0m\u001b[0mkey\u001b[0m\u001b[0;34m,\u001b[0m \u001b[0maxis\u001b[0m\u001b[0;34m=\u001b[0m\u001b[0maxis\u001b[0m\u001b[0;34m)\u001b[0m\u001b[0;34m\u001b[0m\u001b[0m\n\u001b[0m\u001b[1;32m   1617\u001b[0m \u001b[0;34m\u001b[0m\u001b[0m\n\u001b[1;32m   1618\u001b[0m             \u001b[0;31m# nested tuple slicing\u001b[0m\u001b[0;34m\u001b[0m\u001b[0;34m\u001b[0m\u001b[0m\n",
      "\u001b[0;32m/fs01/ma08/homes/fknoch/anaconda/lib/python2.7/site-packages/pandas/core/indexing.pyc\u001b[0m in \u001b[0;36m_getitem_iterable\u001b[0;34m(self, key, axis)\u001b[0m\n\u001b[1;32m   1113\u001b[0m \u001b[0;34m\u001b[0m\u001b[0m\n\u001b[1;32m   1114\u001b[0m         \u001b[0;32mif\u001b[0m \u001b[0mself\u001b[0m\u001b[0;34m.\u001b[0m\u001b[0m_should_validate_iterable\u001b[0m\u001b[0;34m(\u001b[0m\u001b[0maxis\u001b[0m\u001b[0;34m)\u001b[0m\u001b[0;34m:\u001b[0m\u001b[0;34m\u001b[0m\u001b[0m\n\u001b[0;32m-> 1115\u001b[0;31m             \u001b[0mself\u001b[0m\u001b[0;34m.\u001b[0m\u001b[0m_has_valid_type\u001b[0m\u001b[0;34m(\u001b[0m\u001b[0mkey\u001b[0m\u001b[0;34m,\u001b[0m \u001b[0maxis\u001b[0m\u001b[0;34m)\u001b[0m\u001b[0;34m\u001b[0m\u001b[0m\n\u001b[0m\u001b[1;32m   1116\u001b[0m \u001b[0;34m\u001b[0m\u001b[0m\n\u001b[1;32m   1117\u001b[0m         \u001b[0mlabels\u001b[0m \u001b[0;34m=\u001b[0m \u001b[0mself\u001b[0m\u001b[0;34m.\u001b[0m\u001b[0mobj\u001b[0m\u001b[0;34m.\u001b[0m\u001b[0m_get_axis\u001b[0m\u001b[0;34m(\u001b[0m\u001b[0maxis\u001b[0m\u001b[0;34m)\u001b[0m\u001b[0;34m\u001b[0m\u001b[0m\n",
      "\u001b[0;32m/fs01/ma08/homes/fknoch/anaconda/lib/python2.7/site-packages/pandas/core/indexing.pyc\u001b[0m in \u001b[0;36m_has_valid_type\u001b[0;34m(self, key, axis)\u001b[0m\n\u001b[1;32m   1470\u001b[0m                         raise KeyError(\n\u001b[1;32m   1471\u001b[0m                             u\"None of [{key}] are in the [{axis}]\".format(\n\u001b[0;32m-> 1472\u001b[0;31m                                 key=key, axis=self.obj._get_axis_name(axis)))\n\u001b[0m\u001b[1;32m   1473\u001b[0m                     \u001b[0;32melse\u001b[0m\u001b[0;34m:\u001b[0m\u001b[0;34m\u001b[0m\u001b[0m\n\u001b[1;32m   1474\u001b[0m \u001b[0;34m\u001b[0m\u001b[0m\n",
      "\u001b[0;31mKeyError\u001b[0m: u'None of [[  0   1   2   3   4   5   6   7   8   9  10  11  12  13  14  15  16  17\\n  18  19  20  21  22  23  24  25  26  27  28  29  30  31  32  33  34  35\\n  36  37  38  39  40  41  42  43  44  45  46  47  48  49  50  51  52  53\\n  54  55  56  57  58  59  60  61  62  63  64  65  66  67  68  69  70  71\\n  72  73  74  75  76  77  78  79  80  81  82  83  84  85  86  87  88  89\\n  90  91  92  93  94  95  96  97  98  99 100 101 102 103 104 105 106 107\\n 108 109 110 111 112 113 114 115 116 117 118 119 120 121 122 123 124 125\\n 126 127 128 129 130 131 132 133 134 135 136 137 138 139 140 141 142 143\\n 144 145 146 147 148 149 150 151 152 153 154 155 156 157 158 159 160 161\\n 162 163 164 165 166 167 168 169 170 171 172 173 174 175]] are in the [index]'"
     ]
    }
   ],
   "source": [
    "_true = np.bitwise_and(true_prize.values>low,true_prize<upp)\n",
    "\n",
    "N = np.arange(0.4,0.9,0.1)\n",
    "\n",
    "correct = np.zeros([len(N),3])\n",
    "\n",
    "for k,n in enumerate(N):\n",
    "    \n",
    "    _prob = np.where(np.array(pmax)>n)[0]\n",
    "    correct[k,0] = n*100.\n",
    "    correct[k,1] = np.sum(_true[_prob]*1.0)/len(_prob)*100.00\n",
    "    correct[k,2] = len(_prob)\n",
    "\n",
    "plt.bar(correct[:,0]-3,height=correct[:,1],width=6,edgecolor=\"white\",facecolor='r',alpha=0.5)\n",
    "\n",
    "plt.xlim(35,85)\n",
    "plt.ylim(50,90)\n",
    "plt.ylabel(r'Probability for correct prediction (%)')\n",
    "plt.xlabel(r'Model prediction > x%')\n",
    "\n",
    "plt.draw()\n",
    "#plt.savefig('/localscratch/data/project_one/figs/ALV_prob.pdf')\n",
    "\n",
    "plt.show()\n",
    "\n",
    "print correct"
   ]
  },
  {
   "cell_type": "code",
   "execution_count": null,
   "metadata": {},
   "outputs": [],
   "source": []
  }
 ],
 "metadata": {
  "kernelspec": {
   "display_name": "Python 2",
   "language": "python",
   "name": "python2"
  },
  "language_info": {
   "codemirror_mode": {
    "name": "ipython",
    "version": 2
   },
   "file_extension": ".py",
   "mimetype": "text/x-python",
   "name": "python",
   "nbconvert_exporter": "python",
   "pygments_lexer": "ipython2",
   "version": "2.7.12"
  }
 },
 "nbformat": 4,
 "nbformat_minor": 2
}
