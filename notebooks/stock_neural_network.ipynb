{
 "cells": [
  {
   "cell_type": "code",
   "execution_count": 1,
   "metadata": {},
   "outputs": [],
   "source": [
    "import numpy as np\n",
    "import pandas as pd\n",
    "import tensorflow as tf\n",
    "import sys\n",
    "%matplotlib inline\n",
    "from sklearn.model_selection import train_test_split,ShuffleSplit\n",
    "sys.path.append('/localscratch/data/project_one/update/')\n",
    "import util\n",
    "%load_ext autoreload\n",
    "%autoreload 2"
   ]
  },
  {
   "cell_type": "code",
   "execution_count": 31,
   "metadata": {},
   "outputs": [
    {
     "name": "stdout",
     "output_type": "stream",
     "text": [
      "(4337, 50) (4337, 6)\n"
     ]
    }
   ],
   "source": [
    "_input = pd.read_pickle('/localscratch/data/project_one/data/chart/stocks/ALV.DE.p')\n",
    "_classification = pd.read_pickle('/localscratch/data/project_one/data/classification/stocks/ALV.DE.p')\n",
    "\n",
    "\n",
    "common_dates =util.find_common_notnull_dates(_input,_classification)\n",
    "\n",
    "_input  = _input.loc[_input['Date'].isin(common_dates)]\n",
    "Xfull  = _input.loc[:,_input.columns.isin(['Date','Close']) == False].values\n",
    "\n",
    "_classification = _classification.loc[_classification['Date'].isin(common_dates)]\n",
    "Yfull = _classification.loc[:,_classification.columns.isin(['Date']) == False].values*1.0\n",
    "\n",
    "\n",
    "\n",
    "Xfull -= np.mean(Xfull,axis=0)\n",
    "Xfull /= np.std(Xfull,axis=0)\n",
    "\n",
    "\n",
    "print Xfull.shape,Yfull.shape"
   ]
  },
  {
   "cell_type": "code",
   "execution_count": 32,
   "metadata": {},
   "outputs": [
    {
     "name": "stdout",
     "output_type": "stream",
     "text": [
      "(3903, 50) (434, 50) (3903, 6) (434, 6)\n",
      "-0.74817673439\n"
     ]
    },
    {
     "data": {
      "image/png": "[encoded data removed]",
      "text/plain": [
       "<matplotlib.figure.Figure at 0x7f7e03e60610>"
      ]
     },
     "metadata": {},
     "output_type": "display_data"
    }
   ],
   "source": [
    "xtrain,xtest,ytrain,ytest = train_test_split(Xfull,Yfull,test_size=0.1)\n",
    "print xtrain.shape,xtest.shape,ytrain.shape,ytest.shape\n",
    "print xtrain[0,0]\n",
    "\n",
    "alphas = np.linspace(2,10,100)\n",
    "\n",
    "plt.plot(alphas,xtrain.shape[0]/(alphas*(xtrain.shape[1] * ytrain.shape[1])))\n",
    "plt.show()"
   ]
  },
  {
   "cell_type": "code",
   "execution_count": 33,
   "metadata": {},
   "outputs": [],
   "source": [
    "n_nodes_hl1=200\n",
    "n_nodes_hl2=150\n",
    "n_nodes_hl3=100\n",
    "n_nodes_hl4=100\n",
    "n_nodes_hl5=100\n",
    "\n",
    "lr = 1e-6\n",
    "n_classes=6\n",
    "\n",
    "x = tf.placeholder('float',[None,xtrain.shape[1]])\n",
    "y = tf.placeholder('float')\n",
    "\n",
    "def nn_model(data):\n",
    "    h1_layer = {'weights':tf.Variable(tf.random_normal([xtrain.shape[1],n_nodes_hl1])),\n",
    "                'biases':tf.Variable(tf.random_normal([n_nodes_hl1]))}\n",
    "    \n",
    "    h2_layer = {'weights':tf.Variable(tf.random_normal([n_nodes_hl1,n_nodes_hl2])),\n",
    "                'biases':tf.Variable(tf.random_normal([n_nodes_hl2]))}\n",
    "    \n",
    "    h3_layer = {'weights':tf.Variable(tf.random_normal([n_nodes_hl2,n_nodes_hl3])),\n",
    "                'biases':tf.Variable(tf.random_normal([n_nodes_hl3]))}\n",
    "    \n",
    "    #h4_layer = {'weights':tf.Variable(tf.random_normal([n_nodes_hl3,n_nodes_hl4])),\n",
    "    #            'biases':tf.Variable(tf.random_normal([n_nodes_hl4]))}\n",
    "    \n",
    "    #h5_layer = {'weights':tf.Variable(tf.random_normal([n_nodes_hl4,n_nodes_hl5])),\n",
    "     #           'biases':tf.Variable(tf.random_normal([n_nodes_hl5]))}\n",
    "    \n",
    "    out_layer = {'weights':tf.Variable(tf.random_normal([n_nodes_hl3,n_classes])),\n",
    "                'biases':tf.Variable(tf.random_normal([n_classes]))}\n",
    "    \n",
    "    l1 = tf.add(tf.matmul(data,h1_layer['weights']), h1_layer['biases'])\n",
    "    l1 = tf.nn.sigmoid(l1)\n",
    "    \n",
    "    l2 = tf.add(tf.matmul(l1,h2_layer['weights']), h2_layer['biases'])\n",
    "    l2 = tf.nn.sigmoid(l2)\n",
    "    \n",
    "    l3 = tf.add(tf.matmul(l2,h3_layer['weights']), h3_layer['biases'])\n",
    "    l3 = tf.nn.sigmoid(l3)\n",
    "    \n",
    "#    l4 = tf.add(tf.matmul(l3,h4_layer['weights']), h3_layer['biases'])\n",
    " #   l4 = tf.nn.sigmoid(l4)\n",
    "    \n",
    "  #  l5= tf.add(tf.matmul(l4,h5_layer['weights']), h4_layer['biases'])\n",
    "  #  l5= tf.nn.sigmoid(l5)\n",
    "    \n",
    "    \n",
    "    output = tf.matmul(l3,out_layer['weights']) + out_layer['biases']\n",
    "    \n",
    "    return output\n",
    "\n",
    "def train_nn(x):\n",
    "    prediction = nn_model(x)\n",
    "    \n",
    "    cost = tf.reduce_mean(tf.nn.softmax_cross_entropy_with_logits(logits=prediction,labels=y))\n",
    "    \n",
    "    optimizer = tf.train.AdamOptimizer().minimize(cost)\n",
    "    \n",
    "    hm_epochs = 3000\n",
    "    \n",
    "    acc = np.zeros([hm_epochs/10,3])\n",
    "    k =0 \n",
    "    print xtrain.shape,ytrain.shape\n",
    "    #training\n",
    "    with tf.Session() as sess:\n",
    "        sess.run(tf.global_variables_initializer())\n",
    "        for epoch in range(hm_epochs):\n",
    "        \n",
    "            c= sess.run([optimizer,cost],feed_dict={x:xtrain,y:ytrain})\n",
    "\n",
    "            if np.mod(epoch,10) == 0:    \n",
    "                acc[k,0] = epoch\n",
    "                acc[k,1] = c[1]\n",
    "                correct = tf.equal(tf.argmax(prediction,1),tf.argmax(y,1))\n",
    "                accuracy =tf.cast(correct,'float')\n",
    "                acc[k,2] = np.mean(accuracy.eval({x:xtest,y:ytest}))\n",
    "                k+=1\n",
    "            if np.mod(epoch,500) == 0:\n",
    "                print'Epoch',epoch,'completed out of',hm_epochs,'loss:',c[1]\n",
    "                #print tf.cast(y,'float')\n",
    "                correct = tf.equal(tf.argmax(prediction,1),tf.argmax(y,1))\n",
    "           \n",
    "                accuracy =tf.cast(correct,'float')\n",
    "                print \"accuracy: \", np.mean(accuracy.eval({x:xtest,y:ytest}))\n",
    "        return acc"
   ]
  },
  {
   "cell_type": "code",
   "execution_count": 34,
   "metadata": {},
   "outputs": [
    {
     "name": "stdout",
     "output_type": "stream",
     "text": [
      "(3903, 50) (3903, 6)\n",
      "Epoch 0 completed out of 3000 loss: 7.06454\n",
      "accuracy:  0.135945\n",
      "Epoch 500 completed out of 3000 loss: 0.634006\n",
      "accuracy:  0.391705\n",
      "Epoch 1000 completed out of 3000 loss: 0.224262\n",
      "accuracy:  0.417051\n",
      "Epoch 1500 completed out of 3000 loss: 0.0800059\n",
      "accuracy:  0.421659\n",
      "Epoch 2000 completed out of 3000 loss: 0.0337461\n",
      "accuracy:  0.40553\n",
      "Epoch 2500 completed out of 3000 loss: 0.01679\n",
      "accuracy:  0.423963\n"
     ]
    }
   ],
   "source": [
    "acc = train_nn(x)"
   ]
  },
  {
   "cell_type": "code",
   "execution_count": 36,
   "metadata": {},
   "outputs": [
    {
     "data": {
      "image/png": "[encoded data removed]",
      "text/plain": [
       "<matplotlib.figure.Figure at 0x7f7e03ebfdd0>"
      ]
     },
     "metadata": {},
     "output_type": "display_data"
    }
   ],
   "source": [
    "fig,ax = plt.subplots(1,2,figsize=(12,4))\n",
    "ax[0].semilogy(acc[:,0],acc[:,1])\n",
    "\n",
    "ax[1].plot(acc[:,0],acc[:,2])\n",
    "plt.show()"
   ]
  },
  {
   "cell_type": "code",
   "execution_count": null,
   "metadata": {},
   "outputs": [],
   "source": []
  }
 ],
 "metadata": {
  "kernelspec": {
   "display_name": "Python 2",
   "language": "python",
   "name": "python2"
  },
  "language_info": {
   "codemirror_mode": {
    "name": "ipython",
    "version": 2
   },
   "file_extension": ".py",
   "mimetype": "text/x-python",
   "name": "python",
   "nbconvert_exporter": "python",
   "pygments_lexer": "ipython2",
   "version": "2.7.12"
  }
 },
 "nbformat": 4,
 "nbformat_minor": 1
}
