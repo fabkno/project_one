{
 "cells": [
  {
   "cell_type": "code",
   "execution_count": 2,
   "metadata": {},
   "outputs": [],
   "source": [
    "import pandas as pd\n",
    "import numpy as np\n",
    "from datetime import datetime as dt\n",
    "import datetime\n",
    "import sys\n",
    "import pandas_datareader as pdr\n",
    "sys.path.append('/localscratch/data/project_one/update/')\n",
    "\n",
    "from singleStockScan import ModelPrediction\n",
    "from updater import StockUpdater\n",
    "%load_ext autoreload\n",
    "%autoreload 2\n",
    "import sqlite3 as sql"
   ]
  },
  {
   "cell_type": "code",
   "execution_count": 130,
   "metadata": {},
   "outputs": [],
   "source": [
    "db = sql.connect('/localscratch/data/project_one/data/predictions/stocks/predictions_test.db')\n",
    "\n",
    "db.cursor().execute(''' CREATE TABLE stockinfo(id INTEGER PRIMARY KEY, Name TEXT, Label TEXT, ISIN TEXT, WKN TEXT, Index1 TEXT, Index2 TEXT, Index3 TEXT,Index4 TEXT)''')\n",
    "db.commit()\n",
    "\n",
    "db.close()"
   ]
  },
  {
   "cell_type": "code",
   "execution_count": 131,
   "metadata": {},
   "outputs": [
    {
     "name": "stdout",
     "output_type": "stream",
     "text": [
      "         Name                                              URL          ISIN  \\\n",
      "0      adidas      http://www.finanzen.net/aktien/adidas-Aktie  DE000A1EWWW0   \n",
      "1     Allianz     http://www.finanzen.net/aktien/Allianz-Aktie  DE0008404005   \n",
      "2        BASF        http://www.finanzen.net/aktien/BASF-Aktie  DE000BASF111   \n",
      "3       Bayer       http://www.finanzen.net/aktien/Bayer-Aktie  DE000BAY0017   \n",
      "4  Beiersdorf  http://www.finanzen.net/aktien/Beiersdorf-Aktie  DE0005200000   \n",
      "\n",
      "      WKN SymbolFinanzen.net      Country Yahoo Ticker  Yahoo online  \\\n",
      "0  A1EWWW                ADS  Deutschland       ADS.DE          True   \n",
      "1  840400                ALV  Deutschland       ALV.DE          True   \n",
      "2  BASF11                BAS  Deutschland       BAS.DE          True   \n",
      "3  BAY001               BAYN  Deutschland      BAYN.DE          True   \n",
      "4  520000                BEI  Deutschland       BEI.DE          True   \n",
      "\n",
      "                                       ListedIndizes  \n",
      "0  [u'DAX 30', u' EURO STOXX 50', u' Prime All Sh...  \n",
      "1  [u'DAX 30', u' Stoxx Europe 50', u' EURO STOXX...  \n",
      "2  [u'DAX 30', u' Stoxx Europe 50', u' EURO STOXX...  \n",
      "3  [u'DAX 30', u' Stoxx Europe 50', u' EURO STOXX...  \n",
      "4  [u'DAX 30', u' Prime All Share', u' Late DAX',...  \n"
     ]
    }
   ],
   "source": [
    "l = pd.read_csv('/localscratch/data/project_one/data/company_lists/full_list_w_indices.csv',index_col=0)\n",
    "print l.head(5)"
   ]
  },
  {
   "cell_type": "code",
   "execution_count": 132,
   "metadata": {},
   "outputs": [],
   "source": [
    "def get_tuple(data):\n",
    "    new = [single for single in data['ListedIndizes'].split('\\'') if single[0] not in [\"[\",\"u\",\",\",\"]\"]]\n",
    "    stock_indices = [new[0]] + [_str[1:] for _str in new[1:]]\n",
    "   \n",
    "    return tuple([unicode(data.values[0].decode('UTF-8')),data.values[6],data.values[2],data.values[3]]) +tuple(stock_indices[0:4])\n",
    "    #[stock_indices[i] for i in range(4)]\n"
   ]
  },
  {
   "cell_type": "code",
   "execution_count": 133,
   "metadata": {},
   "outputs": [],
   "source": [
    "db = sql.connect('/localscratch/data/project_one/data/predictions/stocks/predictions_test.db')\n",
    "for i in range(len(l)):\n",
    "    datatuple= get_tuple(l.loc[i])\n",
    "    if len(datatuple) <8 :\n",
    "        datatuple = datatuple + tuple([None for i in range(8-len(datatuple))])\n",
    "        \n",
    "    db.cursor().execute('''INSERT INTO stockinfo(Name,Label,ISIN,WKN,Index1,Index2,Index3,Index4) VALUES(?,?,?,?,?,?,?,?)''', datatuple)\n",
    "    \n",
    "db.commit()\n",
    "db.close()\n",
    "#[get_tuple(l.loc[i] for i in range(len(l)))]"
   ]
  },
  {
   "cell_type": "code",
   "execution_count": 139,
   "metadata": {},
   "outputs": [
    {
     "name": "stdout",
     "output_type": "stream",
     "text": [
      "(51, u'DAI.DE', u'2017-03-06', u'2017-03-17', u'2017-03-31', 71.16, 69.2, -2.754356379988749, 1, 2, 71.16, 69.38, 16.0, 6.0, 34.0, 27.0, 8.5, 8.5, u'2018-02-26 11:33')\n"
     ]
    }
   ],
   "source": [
    "db = sql.connect('/localscratch/data/project_one/data/predictions/stocks/predictions.db')\n",
    "\n",
    "x= db.execute('Select * FROM prediction10BT')\n",
    "print x.fetchall()[50]\n",
    "\n",
    "db.close()\n",
    "\n"
   ]
  },
  {
   "cell_type": "code",
   "execution_count": 91,
   "metadata": {
    "scrolled": true
   },
   "outputs": [
    {
     "name": "stdout",
     "output_type": "stream",
     "text": [
      "Finished stock simulation for stock: DAI.DE from 2017-06-01 00:00:00 until 2018-02-09 with modeltype: RFC\n"
     ]
    }
   ],
   "source": [
    "\n",
    "#2017-05-18 effective LastTrainingsDate"
   ]
  },
  {
   "cell_type": "code",
   "execution_count": 16,
   "metadata": {},
   "outputs": [
    {
     "name": "stdout",
     "output_type": "stream",
     "text": [
      "Here\n",
      "List of Predictions added to data base complete\n"
     ]
    }
   ],
   "source": []
  },
  {
   "cell_type": "code",
   "execution_count": 43,
   "metadata": {},
   "outputs": [
    {
     "name": "stdout",
     "output_type": "stream",
     "text": [
      "      Labels LastTrainingsDate PredictionDay ValidationDay  PrizeAtPrediction  \\\n",
      "312   SAP.DE        2018-02-09    2018-02-23    2018-03-09              84.52   \n",
      "313   SIE.DE        2018-02-09    2018-02-23    2018-03-09             110.72   \n",
      "314   TKA.DE        2018-02-09    2018-02-23    2018-03-09              22.68   \n",
      "315  VOW3.DE        2018-02-09    2018-02-23    2018-03-09             162.60   \n",
      "316   VNA.DE        2018-02-09    2018-02-23    2018-03-09              38.10   \n",
      "\n",
      "     PrizeAtValidation  RelativePrizeChange  TrueCategory  PredictedCategory  \\\n",
      "312                NaN                  NaN           NaN                  4   \n",
      "313                NaN                  NaN           NaN                  3   \n",
      "314                NaN                  NaN           NaN                  2   \n",
      "315                NaN                  NaN           NaN                  0   \n",
      "316                NaN                  NaN           NaN                  2   \n",
      "\n",
      "                  PredictedProbabilities  PredictedUpperPrize  \\\n",
      "312  [3.5, 10.0, 24.0, 22.0, 25.0, 15.5]                88.75   \n",
      "313   [13.5, 8.0, 16.0, 29.5, 29.5, 3.5]               113.49   \n",
      "314  [17.5, 16.5, 26.5, 19.5, 12.0, 8.0]                22.68   \n",
      "315    [54.5, 7.0, 7.7, 12.2, 14.3, 4.3]               154.47   \n",
      "316   [4.9, 16.0, 35.6, 23.2, 13.4, 6.9]                38.10   \n",
      "\n",
      "     PredictedLowerPrize ModelType  \\\n",
      "312                86.63       RFC   \n",
      "313               110.72       RFC   \n",
      "314                22.11       RFC   \n",
      "315                81.30       SVM   \n",
      "316                37.15       SVM   \n",
      "\n",
      "                                    ModelParameters         Timestamp  \n",
      "312    {u'max_features': u'auto', u'max_depth': 50}  2018-02-26 17:13  \n",
      "313   {u'max_features': u'auto', u'max_depth': 100}  2018-02-26 17:13  \n",
      "314   {u'max_features': u'auto', u'max_depth': 100}  2018-02-26 17:13  \n",
      "315  {u'kernel': u'rbf', u'C': 10.0, u'gamma': 0.1}  2018-02-26 17:13  \n",
      "316     {u'kernel': u'rbf', u'C': 5, u'gamma': 0.1}  2018-02-26 17:13  \n"
     ]
    }
   ],
   "source": []
  },
  {
   "cell_type": "code",
   "execution_count": 9,
   "metadata": {},
   "outputs": [
    {
     "name": "stdout",
     "output_type": "stream",
     "text": [
      "[0 1 2 3 4] [5 6 7 8 9]\n"
     ]
    }
   ],
   "source": [
    "x = np.arange(10)\n",
    "print x[:-5],x[-5:]"
   ]
  },
  {
   "cell_type": "code",
   "execution_count": 9,
   "metadata": {},
   "outputs": [
    {
     "name": "stdout",
     "output_type": "stream",
     "text": [
      "  LastTrainingsDate PredictionDay ValidationDay  PrizeAtPrediction  \\\n",
      "0        2018-01-31    2018-02-01    2018-02-15              72.14   \n",
      "1        2018-02-01    2018-02-02    2018-02-16              71.17   \n",
      "2        2018-02-02    2018-02-05    2018-02-19              70.70   \n",
      "3        2018-02-05    2018-02-06    2018-02-20              69.45   \n",
      "4        2018-02-06    2018-02-07    2018-02-21              70.65   \n",
      "5        2018-02-07    2018-02-08    2018-02-22              70.33   \n",
      "6        2018-02-08    2018-02-09    2018-02-23              70.13   \n",
      "\n",
      "   PrizeAtValidation  RelativePrizeChange TrueCategory PredictedCategory  \\\n",
      "0              71.93                -0.29            2                 2   \n",
      "1              72.50                 1.87            3                 2   \n",
      "2              71.01                 0.44            3                 2   \n",
      "3              70.62                 1.68            3                 3   \n",
      "4              70.34                -0.44            2                 3   \n",
      "5              70.04                -0.41            2                 2   \n",
      "6              70.41                 0.40            3                 2   \n",
      "\n",
      "                 PredictedProbabilities  PredictedUpperPrize  \\\n",
      "0  [0.14, 0.28, 0.32, 0.11, 0.12, 0.03]                72.14   \n",
      "1      [0.1, 0.11, 0.49, 0.1, 0.1, 0.1]                71.17   \n",
      "2   [0.06, 0.06, 0.43, 0.3, 0.06, 0.09]                70.70   \n",
      "3  [0.04, 0.04, 0.29, 0.37, 0.21, 0.05]                71.19   \n",
      "4  [0.17, 0.03, 0.14, 0.38, 0.24, 0.04]                72.42   \n",
      "5   [0.06, 0.02, 0.44, 0.3, 0.17, 0.01]                70.33   \n",
      "6  [0.07, 0.04, 0.55, 0.17, 0.16, 0.01]                70.13   \n",
      "\n",
      "   PredictedLowerPrize ModelType  \\\n",
      "0                70.34       RFC   \n",
      "1                69.39       RFC   \n",
      "2                68.93       RFC   \n",
      "3                69.45       RFC   \n",
      "4                70.65       RFC   \n",
      "5                68.57       RFC   \n",
      "6                68.38       RFC   \n",
      "\n",
      "                                 ModelParameters                  Timestamp  \n",
      "0  {u'max_features': u'auto', u'max_depth': 200} 2018-02-24 20:11:03.989258  \n",
      "1  {u'max_features': u'auto', u'max_depth': 200} 2018-02-24 20:11:05.393881  \n",
      "2  {u'max_features': u'auto', u'max_depth': 200} 2018-02-24 20:11:06.675636  \n",
      "3  {u'max_features': u'auto', u'max_depth': 200} 2018-02-24 20:11:08.129550  \n",
      "4  {u'max_features': u'auto', u'max_depth': 200} 2018-02-24 20:11:09.432086  \n",
      "5  {u'max_features': u'auto', u'max_depth': 200} 2018-02-24 20:11:10.730314  \n",
      "6  {u'max_features': u'auto', u'max_depth': 200} 2018-02-24 20:11:11.996236  \n"
     ]
    }
   ],
   "source": [
    "\n"
   ]
  },
  {
   "cell_type": "code",
   "execution_count": 4,
   "metadata": {},
   "outputs": [],
   "source": []
  },
  {
   "cell_type": "code",
   "execution_count": 13,
   "metadata": {},
   "outputs": [
    {
     "name": "stdout",
     "output_type": "stream",
     "text": [
      "Index([u'Labels', u'LastTrainingsDate', u'PredictionDay', u'ValidationDay',\n",
      "       u'PrizeAtPrediction', u'PrizeAtValidation', u'RelativePrizeChange',\n",
      "       u'TrueCategory', u'PredictedCategory', u'PredictedProbabilities',\n",
      "       u'PredictedUpperPrize', u'PredictedLowerPrize', u'ModelType',\n",
      "       u'ModelParameters'],\n",
      "      dtype='object')\n"
     ]
    }
   ],
   "source": []
  },
  {
   "cell_type": "code",
   "execution_count": 14,
   "metadata": {
    "collapsed": true
   },
   "outputs": [],
   "source": []
  },
  {
   "cell_type": "code",
   "execution_count": 33,
   "metadata": {},
   "outputs": [],
   "source": []
  },
  {
   "cell_type": "code",
   "execution_count": 35,
   "metadata": {},
   "outputs": [
    {
     "name": "stdout",
     "output_type": "stream",
     "text": [
      "   Labels LastTrainingsDate PredictionDay ValidationDay  PrizeAtPrediction  \\\n",
      "0  ADS.DE        2018-02-09    2018-02-23    2018-03-09              181.8   \n",
      "1  ALV.DE        2018-02-09    2018-02-23    2018-03-09              191.5   \n",
      "\n",
      "   PrizeAtValidation  RelativePrizeChange  TrueCategory  PredictedCategory  \\\n",
      "0                NaN                  NaN           NaN                  2   \n",
      "1                NaN                  NaN           NaN                  4   \n",
      "\n",
      "                     PredictedProbabilities  PredictedUpperPrize  \\\n",
      "0  [0.15, 0.165, 0.285, 0.165, 0.065, 0.17]               181.80   \n",
      "1   [0.175, 0.105, 0.1, 0.115, 0.37, 0.135]               201.08   \n",
      "\n",
      "   PredictedLowerPrize ModelType  \\\n",
      "0               177.26       RFC   \n",
      "1               196.29       RFC   \n",
      "\n",
      "                                 ModelParameters  \n",
      "0  {u'max_features': u'auto', u'max_depth': 300}  \n",
      "1  {u'max_features': u'auto', u'max_depth': 100}  \n"
     ]
    }
   ],
   "source": []
  },
  {
   "cell_type": "code",
   "execution_count": 32,
   "metadata": {},
   "outputs": [
    {
     "name": "stdout",
     "output_type": "stream",
     "text": [
      "           Date        Open        High         Low       Close   Adj Close  \\\n",
      "4569 2018-02-12  179.899994  181.300003  177.899994  178.149994  178.149994   \n",
      "4570 2018-02-13  177.100006  177.550003  175.300003  175.800003  175.800003   \n",
      "4571 2018-02-14  177.550003  177.899994  173.149994  177.000000  177.000000   \n",
      "4572 2018-02-15  178.100006  179.199997  176.250000  177.300003  177.300003   \n",
      "4573 2018-02-16  177.899994  181.050003  177.500000  180.250000  180.250000   \n",
      "\n",
      "        Volume  \n",
      "4569  953287.0  \n",
      "4570  750007.0  \n",
      "4571  883584.0  \n",
      "4572  619375.0  \n",
      "4573  991451.0  \n",
      "2018-02-16 00:00:00\n"
     ]
    }
   ],
   "source": []
  },
  {
   "cell_type": "code",
   "execution_count": 192,
   "metadata": {
    "collapsed": true
   },
   "outputs": [],
   "source": []
  },
  {
   "cell_type": "code",
   "execution_count": 220,
   "metadata": {},
   "outputs": [
    {
     "name": "stdout",
     "output_type": "stream",
     "text": [
      "[4]\n",
      "4\n"
     ]
    }
   ],
   "source": []
  },
  {
   "cell_type": "code",
   "execution_count": null,
   "metadata": {
    "collapsed": true
   },
   "outputs": [],
   "source": []
  }
 ],
 "metadata": {
  "kernelspec": {
   "display_name": "Python 2",
   "language": "python",
   "name": "python2"
  },
  "language_info": {
   "codemirror_mode": {
    "name": "ipython",
    "version": 2
   },
   "file_extension": ".py",
   "mimetype": "text/x-python",
   "name": "python",
   "nbconvert_exporter": "python",
   "pygments_lexer": "ipython2",
   "version": "2.7.12"
  }
 },
 "nbformat": 4,
 "nbformat_minor": 1
}
