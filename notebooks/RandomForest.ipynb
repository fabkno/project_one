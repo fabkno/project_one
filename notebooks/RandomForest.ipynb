{
 "cells": [
  {
   "cell_type": "code",
   "execution_count": 3,
   "metadata": {
    "collapsed": false
   },
   "outputs": [],
   "source": [
    "import matplotlib.pyplot as plt\n",
    "%matplotlib inline\n",
    "import pandas as pd\n",
    "from sklearn.ensemble import RandomForestClassifier\n",
    "import sys\n",
    "sys.path.append('/home/fabian/project_one/update/')\n",
    "from sklearn import datasets\n",
    "from sklearn.model_selection import cross_val_score\n",
    "from sklearn.model_selection import train_test_split,ShuffleSplit,GridSearchCV\n",
    "import datetime\n",
    "import util\n",
    "import numpy as np\n",
    "from singleStockScan import ScanModel\n",
    "from updater import StockUpdater"
   ]
  },
  {
   "cell_type": "code",
   "execution_count": 8,
   "metadata": {
    "collapsed": false
   },
   "outputs": [],
   "source": [
    "ob  = StockUpdater(FileNameListOfCompanies='DAX.csv',PathData='/home/fabian/project_one/data/')\n",
    "#ob.update_chart_markers()\n",
    "#ob.update_stock_classification()\n",
    "#shorts = pd.read_pickle('/home/fabian/project_one/data/shorts/list.p')\n",
    "\n",
    "#short = shorts[['Date','EVT.DE']]\n",
    "#print short"
   ]
  },
  {
   "cell_type": "code",
   "execution_count": 13,
   "metadata": {
    "collapsed": false
   },
   "outputs": [
    {
     "name": "stdout",
     "output_type": "stream",
     "text": [
      "           Date       Close     Volume      GD200     GD200X     GD100  \\\n",
      "4319 2018-01-12  202.000000  1231006.0  184.37160  184.05810  193.0897   \n",
      "4320 2018-01-15  202.100006   923834.0  184.52435  184.21315  193.2977   \n",
      "\n",
      "        GD100X        GD50    GD50X        GD38    ...        MACDH    MACDHX  \\\n",
      "4319  192.7242  198.110400  198.035  197.349211    ...     0.846290  0.628487   \n",
      "4320  192.9092  198.087401  198.063  197.482106    ...     0.860215  0.741864   \n",
      "\n",
      "      MAX20     MAX65    MAX130    MAX260     MIN20     MIN65    MIN130  \\\n",
      "4319    0.0 -0.009318 -0.009318 -0.009318  0.054830  0.054830  0.144476   \n",
      "4320    0.0 -0.008828 -0.008828 -0.008828  0.055353  0.055353  0.145043   \n",
      "\n",
      "        MIN260  \n",
      "4319  0.301127  \n",
      "4320  0.301771  \n",
      "\n",
      "[2 rows x 40 columns]\n",
      "        Date       Close    Volume       GD200      GD200X       GD100  \\\n",
      "0 2000-12-18  379.899994  524016.0  389.806451  389.683341  388.801502   \n",
      "1 2000-12-19  381.049988  621441.0  389.951201  389.751701  388.572102   \n",
      "\n",
      "       GD100X        GD50       GD50X        GD38    ...        MACDH  \\\n",
      "0  388.765702  390.484001  389.874802  395.743160    ...    -3.311765   \n",
      "1  388.778622  390.814001  390.206202  396.033949    ...    -2.763682   \n",
      "\n",
      "     MACDHX     MAX20     MAX65    MAX130    MAX260     MIN20     MIN65  \\\n",
      "0 -2.976911 -0.069785 -0.085019 -0.085812 -0.138861  0.026757  0.071801   \n",
      "1 -3.110204 -0.066969 -0.082250 -0.083045 -0.136254  0.029865  0.075046   \n",
      "\n",
      "     MIN130    MIN260  \n",
      "0  0.071801  0.202215  \n",
      "1  0.075046  0.205854  \n",
      "\n",
      "[2 rows x 40 columns]\n",
      "(4321, 38) (4321,)\n"
     ]
    }
   ],
   "source": [
    "_input = pd.read_pickle('/home/fabian/project_one/data/chart/stocks/ALV.DE.p')\n",
    "\n",
    "_classification = pd.read_pickle('/home/fabian/project_one/data/classification/stocks/ALV.DE.p')\n",
    "common_dates =util.find_common_notnull_dates(_input,_classification)\n",
    "\n",
    "_input  = _input.loc[_input['Date'].isin(common_dates)]\n",
    "\n",
    "#c2 = util.find_common_notnull_dates(_input,short)\n",
    "\n",
    "#_input = _input.loc[_input['Date'].isin(c2)]\n",
    "_input.reset_index(drop=True,inplace=True)\n",
    "#short = short.loc[short['Date'].isin(c2)]\n",
    "#short.reset_index(drop=True,inplace=True)\n",
    "\n",
    "#print short.tail(5)\n",
    "#_input['short'] = pd.Series(short['EVT.DE'],index=_input.index)\n",
    "\n",
    "print _input.tail(2)\n",
    "print _input.head(2)\n",
    "Xfull  = _input.loc[:,_input.columns.isin(['Date','Close']) == False].values\n",
    "\n",
    "_classification = _classification.loc[_classification['Date'].isin(common_dates)]\n",
    "Yfull = np.argmax(_classification.loc[:,_classification.columns.isin(['Date']) == False].values,axis=1)\n",
    "\n",
    "\n",
    "print Xfull.shape,Yfull.shape"
   ]
  },
  {
   "cell_type": "code",
   "execution_count": 15,
   "metadata": {
    "collapsed": false
   },
   "outputs": [],
   "source": [
    "#scan = ScanModel(ModelType='RFC')\n",
    "#print scan.StockGridModeling(['ALV.DE'],scaled=False)"
   ]
  },
  {
   "cell_type": "code",
   "execution_count": 18,
   "metadata": {
    "collapsed": false
   },
   "outputs": [
    {
     "name": "stdout",
     "output_type": "stream",
     "text": [
      "[{'max_features': ['auto', 'log2'], 'max_depth': [10, 15, 20, 50, 70, 100, 150, 200]}]\n",
      "[0.5369515  0.53579677 0.60023095 0.60854503 0.61385681 0.61524249\n",
      " 0.62471132 0.61939954 0.61639723 0.61939954 0.61755196 0.61986143\n",
      " 0.61547344 0.62009238 0.62263279 0.62309469]\n",
      "{'max_features': 'auto', 'max_depth': 50}\n",
      "0.6247113163972287\n"
     ]
    }
   ],
   "source": [
    "RFC = RandomForestClassifier(n_estimators=100)\n",
    "\n",
    "cv= ShuffleSplit(n_splits=10,test_size=0.1,random_state=12312)\n",
    "\n",
    "\n",
    "param_grid = [{'max_depth':[10,15,20,50,70,100,150,200],'max_features':['auto','log2']}]\n",
    "#param_grid = [{'max_depth':[10,100],'max_features':['auto']}]\n",
    "print param_grid\n",
    "grids = GridSearchCV(RFC,param_grid,cv=cv,n_jobs=-3)\n",
    "grids.fit(Xfull,Yfull)\n",
    "\n",
    "\n",
    "print grids.cv_results_['mean_test_score']\n",
    "\n",
    "print grids.best_params_\n",
    "print grids.best_score_"
   ]
  },
  {
   "cell_type": "code",
   "execution_count": 17,
   "metadata": {
    "collapsed": false
   },
   "outputs": [
    {
     "name": "stdout",
     "output_type": "stream",
     "text": [
      "     Labels ModelType                                 SearchedParameters  \\\n",
      "8    ALV.DE       RFC  [{u'max_features': [u'auto', u'log2'], u'max_d...   \n",
      "132  ALV.DE       RFC  [{u'max_features': [u'auto', u'log2'], u'max_d...   \n",
      "453  ALV.DE       SVM  [{u'kernel': [u'rbf'], u'C': [10.0], u'gamma':...   \n",
      "455  ALV.DE       SVM  [{u'kernel': [u'rbf'], u'C': [0.1, 1, 5, 10.0,...   \n",
      "\n",
      "                BestParameters BestParameterValues     Score   Input  \\\n",
      "8    [max_features, max_depth]         [log2, 200]  0.557843  Single   \n",
      "132  [max_features, max_depth]          [log2, 20]  0.549020  Single   \n",
      "453         [kernel, C, gamma]      [rbf, 10.0, 1]  0.575610  Single   \n",
      "455         [kernel, C, gamma]      [rbf, 10.0, 1]  0.592195  Single   \n",
      "\n",
      "                                        ListOfFeatures        Date  \\\n",
      "8    [Close, Volume, GD200, GD100, GD50, GD38, Lowe...  2018-01-29   \n",
      "132  [Volume, GD200, GD100, GD50, GD38, Lower_BB_20...  2018-01-31   \n",
      "453  [Volume, GD200, GD100, GD50, GD38, Lower_BB_20...  2018-02-02   \n",
      "455  [Volume, GD200, GD100, GD50, GD38, Lower_BB_20...  2018-02-02   \n",
      "\n",
      "    StartingDate  \n",
      "8     2010-01-01  \n",
      "132   2010-01-01  \n",
      "453   2010-01-01  \n",
      "455   2010-01-01  \n"
     ]
    }
   ],
   "source": [
    "x = pd.read_pickle('/home/fabian/project_one/data/predictions/predictions_scan.p')\n",
    "print x.loc[x['Labels'] == 'ALV.DE']"
   ]
  },
  {
   "cell_type": "code",
   "execution_count": 106,
   "metadata": {
    "collapsed": false
   },
   "outputs": [],
   "source": [
    "Xtrain,Xval,Ytrain,Yval = train_test_split(Xfull[-1000:,:],Yfull[-1000:],test_size=0.1,random_state=10)"
   ]
  },
  {
   "cell_type": "code",
   "execution_count": 108,
   "metadata": {
    "collapsed": false,
    "scrolled": true
   },
   "outputs": [
    {
     "name": "stdout",
     "output_type": "stream",
     "text": [
      "0.6377777777777778\n",
      "trainings set: 0.6377777777777778 predicition set: 0.57\n",
      "\n",
      "\n",
      "[0.0473772  0.06983596 0.0628173  0.04862748 0.04710216 0.05381395\n",
      " 0.04933949 0.04386843 0.05430057 0.05883562 0.04058368 0.03888068\n",
      " 0.04338671 0.04819497 0.04812818 0.06092246 0.05704322 0.07208508\n",
      " 0.05485684]\n"
     ]
    }
   ],
   "source": [
    "ob =RandomForestClassifier(n_estimators=150,oob_score=True,max_depth=150)\n",
    "\n",
    "ob.fit(Xtrain,Ytrain)\n",
    "print ob.oob_score_\n",
    "print \"trainings set:\", ob.oob_score_, \"predicition set:\", ob.score(Xval,Yval)\n",
    "print \"\\n\"\n",
    "print ob.feature_importances_\n",
    "\n"
   ]
  },
  {
   "cell_type": "code",
   "execution_count": 75,
   "metadata": {
    "collapsed": false
   },
   "outputs": [
    {
     "data": {
      "image/png": "[encoded data removed]",
      "text/plain": [
       "<matplotlib.figure.Figure at 0x7f16d40f58d0>"
      ]
     },
     "metadata": {},
     "output_type": "display_data"
    }
   ],
   "source": []
  },
  {
   "cell_type": "code",
   "execution_count": 59,
   "metadata": {
    "collapsed": false
   },
   "outputs": [
    {
     "name": "stdout",
     "output_type": "stream",
     "text": [
      "trainings set: 1.0 predicition set: 1.0\n",
      "\n",
      "\n",
      "[0. 0. 0. 0. 0. 0. 0. 0. 0. 0. 0. 0. 0. 0. 0. 0. 0. 0.]\n"
     ]
    }
   ],
   "source": [
    "ob =RandomForestClassifier(n_estimators=300,oob_score=True,max_depth=20,max_features='log2')\n",
    "ob.fit(Xtrain,Ytrain)\n"
   ]
  },
  {
   "cell_type": "code",
   "execution_count": 25,
   "metadata": {
    "collapsed": false
   },
   "outputs": [],
   "source": [
    "InputData = pd.read_csv('/localscratch/data/project_one/data/chart/Germany/DAX/ADS.DE_input.csv',index_col='Unnamed: 0')\n",
    "OutputData= pd.read_csv('/localscratch/data/project_one/data/chart/Germany/DAX/ADS.DE_output.csv',index_col='Unnamed: 0')"
   ]
  },
  {
   "cell_type": "code",
   "execution_count": 9,
   "metadata": {
    "collapsed": false
   },
   "outputs": [],
   "source": [
    "import sys\n",
    "sys.path.append('/localscratch/data/project_one/update/')\n",
    "from singleStockScan import ScanModel\n",
    "from sklearn.model_selection import ShuffleSplit\n",
    "%load_ext autoreload\n",
    "%autoreload 2"
   ]
  },
  {
   "cell_type": "code",
   "execution_count": 10,
   "metadata": {
    "collapsed": false
   },
   "outputs": [
    {
     "ename": "AttributeError",
     "evalue": "'str' object has no attribute 'isin'",
     "output_type": "error",
     "traceback": [
      "\u001b[1;31m---------------------------------------------------------------------------\u001b[0m\n\u001b[1;31mAttributeError\u001b[0m                            Traceback (most recent call last)",
      "\u001b[1;32m<ipython-input-10-b969c96a4bd5>\u001b[0m in \u001b[0;36m<module>\u001b[1;34m()\u001b[0m\n\u001b[0;32m      1\u001b[0m \u001b[0mx\u001b[0m \u001b[1;33m=\u001b[0m \u001b[1;34m'RFC'\u001b[0m\u001b[1;33m\u001b[0m\u001b[0m\n\u001b[1;32m----> 2\u001b[1;33m \u001b[1;32mprint\u001b[0m \u001b[0mx\u001b[0m\u001b[1;33m.\u001b[0m\u001b[0misin\u001b[0m\u001b[1;33m(\u001b[0m\u001b[1;33m[\u001b[0m\u001b[1;34m'RFC'\u001b[0m\u001b[1;33m]\u001b[0m\u001b[1;33m)\u001b[0m\u001b[1;33m\u001b[0m\u001b[0m\n\u001b[0m",
      "\u001b[1;31mAttributeError\u001b[0m: 'str' object has no attribute 'isin'"
     ]
    }
   ],
   "source": [
    "x = 'RFC'\n",
    "print x.isin(['RFC'])"
   ]
  },
  {
   "cell_type": "code",
   "execution_count": 71,
   "metadata": {
    "collapsed": false
   },
   "outputs": [],
   "source": []
  },
  {
   "cell_type": "code",
   "execution_count": 11,
   "metadata": {
    "collapsed": false
   },
   "outputs": [
    {
     "ename": "NameError",
     "evalue": "name 'ob' is not defined",
     "output_type": "error",
     "traceback": [
      "\u001b[1;31m---------------------------------------------------------------------------\u001b[0m\n\u001b[1;31mNameError\u001b[0m                                 Traceback (most recent call last)",
      "\u001b[1;32m<ipython-input-11-ca5bf32d99aa>\u001b[0m in \u001b[0;36m<module>\u001b[1;34m()\u001b[0m\n\u001b[1;32m----> 1\u001b[1;33m \u001b[1;32mprint\u001b[0m \u001b[0mob\u001b[0m\u001b[1;33m.\u001b[0m\u001b[0mParamGridRFC\u001b[0m\u001b[1;33m\u001b[0m\u001b[0m\n\u001b[0m\u001b[0;32m      2\u001b[0m \u001b[1;33m\u001b[0m\u001b[0m\n\u001b[0;32m      3\u001b[0m \u001b[0mXfull\u001b[0m \u001b[1;33m=\u001b[0m \u001b[0mInputData\u001b[0m\u001b[1;33m.\u001b[0m\u001b[0mloc\u001b[0m\u001b[1;33m[\u001b[0m\u001b[1;33m:\u001b[0m\u001b[1;33m,\u001b[0m\u001b[0mInputData\u001b[0m\u001b[1;33m.\u001b[0m\u001b[0mcolumns\u001b[0m\u001b[1;33m.\u001b[0m\u001b[0misin\u001b[0m\u001b[1;33m(\u001b[0m\u001b[1;33m[\u001b[0m\u001b[1;34m'Date'\u001b[0m\u001b[1;33m]\u001b[0m\u001b[1;33m)\u001b[0m \u001b[1;33m==\u001b[0m \u001b[0mFalse\u001b[0m\u001b[1;33m]\u001b[0m\u001b[1;33m.\u001b[0m\u001b[0mvalues\u001b[0m\u001b[1;33m\u001b[0m\u001b[0m\n\u001b[0;32m      4\u001b[0m \u001b[0mYfull\u001b[0m \u001b[1;33m=\u001b[0m \u001b[0mnp\u001b[0m\u001b[1;33m.\u001b[0m\u001b[0margmax\u001b[0m\u001b[1;33m(\u001b[0m\u001b[0mOutputData\u001b[0m\u001b[1;33m.\u001b[0m\u001b[0mloc\u001b[0m\u001b[1;33m[\u001b[0m\u001b[1;33m:\u001b[0m\u001b[1;33m,\u001b[0m\u001b[0mOutputData\u001b[0m\u001b[1;33m.\u001b[0m\u001b[0mcolumns\u001b[0m\u001b[1;33m.\u001b[0m\u001b[0misin\u001b[0m\u001b[1;33m(\u001b[0m\u001b[1;33m[\u001b[0m\u001b[1;34m'Date'\u001b[0m\u001b[1;33m]\u001b[0m\u001b[1;33m)\u001b[0m \u001b[1;33m==\u001b[0m \u001b[0mFalse\u001b[0m\u001b[1;33m]\u001b[0m\u001b[1;33m.\u001b[0m\u001b[0mvalues\u001b[0m\u001b[1;33m,\u001b[0m\u001b[0maxis\u001b[0m\u001b[1;33m=\u001b[0m\u001b[1;36m1\u001b[0m\u001b[1;33m)\u001b[0m\u001b[1;33m\u001b[0m\u001b[0m\n\u001b[0;32m      5\u001b[0m \u001b[1;33m\u001b[0m\u001b[0m\n",
      "\u001b[1;31mNameError\u001b[0m: name 'ob' is not defined"
     ]
    }
   ],
   "source": [
    "print ob.ParamGridRFC\n",
    "\n",
    "Xfull = InputData.loc[:,InputData.columns.isin(['Date']) == False].values\n",
    "Yfull = np.argmax(OutputData.loc[:,OutputData.columns.isin(['Date']) == False].values,axis=1)\n",
    "\n",
    "# set random_state np.random.randint(1,1e6)\n",
    "#Xtrain,Xval,Ytrain,Yval = train_test_split(Xfull,Yfull,self.test_size,random_state=1)\n",
    "cv = ShuffleSplit(n_splits=10,test_size = 0.1,random_state=True)\n",
    "\n",
    "out_ =  ob.gridSearchRFC(Xfull,Yfull,cv)\n"
   ]
  },
  {
   "cell_type": "code",
   "execution_count": 148,
   "metadata": {
    "collapsed": false
   },
   "outputs": [
    {
     "name": "stdout",
     "output_type": "stream",
     "text": [
      "(0.5436893203883495, {'max_features': 'auto', 'max_depth': 100})\n"
     ]
    }
   ],
   "source": [
    "print out_"
   ]
  },
  {
   "cell_type": "code",
   "execution_count": 151,
   "metadata": {
    "collapsed": false
   },
   "outputs": [
    {
     "data": {
      "text/plain": [
       "True"
      ]
     },
     "execution_count": 151,
     "metadata": {},
     "output_type": "execute_result"
    }
   ],
   "source": [
    "cv = ShuffleSplit(n_splits=10,test_size = 0.1,random_state=True)\n"
   ]
  },
  {
   "cell_type": "code",
   "execution_count": 155,
   "metadata": {
    "collapsed": false
   },
   "outputs": [],
   "source": [
    "test = pd.DataFrame(columns=['Labels','ModelType','parameter','values','score','Input','ListOfFeature'])\n",
    "s = ['DAI.DE','RFC','max_depth',out_[1]['max_depth'],out_[0]]\n",
    "\n",
    "test = test.append({'Labels':'DAI.DE','ModelType':'RFC','parameter':out_[1].keys(),'values':out_[1].values(),'score':out_[0],'Input':'Single','ListOfFeature':'default'},ignore_index=True)"
   ]
  },
  {
   "cell_type": "code",
   "execution_count": 159,
   "metadata": {
    "collapsed": false
   },
   "outputs": [
    {
     "name": "stdout",
     "output_type": "stream",
     "text": [
      "   Labels ModelType  parameter  values  score   Input ListOfFeature\n",
      "0  DAI.DE       RFC        0.5     0.2    1.0  Single       default\n"
     ]
    }
   ],
   "source": [
    "tmp= test.loc[(test['Labels'] == 'DAI.DE') &\n",
    "               (test['ModelType'] == 'RFC') &\n",
    "               (test['ModelType'] == 'RFC') ]\n",
    "test.loc[tmp.index.tolist(),['parameter','values','score']] = [0.5,0.2,1.]\n",
    "print test\n",
    "#print test.loc[test[['Labels','ModelType']] ==['DAI.DE','RFC']]"
   ]
  },
  {
   "cell_type": "code",
   "execution_count": 13,
   "metadata": {
    "collapsed": false
   },
   "outputs": [
    {
     "name": "stdout",
     "output_type": "stream",
     "text": [
      "Label:  HEI.DE prediction done\n",
      "Label:  MUV2.DE prediction done\n",
      "Label:  DB1.DE prediction done\n",
      "Label:  TKA.DE prediction done\n",
      "Label:  SIE.DE prediction done\n",
      "Label:  VNA.DE prediction done\n",
      "Label:  PSM.DE prediction done\n",
      "Label:  DTE.DE prediction done\n",
      "Label:  IFX.DE prediction done\n",
      "Label:  RWE.DE prediction done\n",
      "Label:  ADS.DE prediction done\n",
      "Label:  BMW.DE prediction done\n",
      "Label:  DPW.DE prediction done\n",
      "Label:  BEI.DE prediction done\n",
      "Label:  DAI.DE prediction done\n",
      "Label:  LIN.DE prediction done\n",
      "Label:  BAS.DE prediction done\n",
      "Label:  EOAN.DE prediction done\n",
      "Label:  SAP.DE prediction done\n",
      "Label:  LHA.DE prediction done\n",
      "Label:  ALV.DE prediction done\n",
      "Label:  HEN3.DE prediction done\n",
      "Label:  CBK.DE prediction done\n",
      "Label:  FME.DE prediction done\n",
      "Label:  CON.DE prediction done\n",
      "Label:  FRE.DE prediction done\n",
      "Label:  VOW3.DE prediction done\n",
      "Label:  MRK.DE prediction done\n",
      "Label:  BAYN.DE prediction done\n",
      "Label:  DBK.DE prediction done\n",
      "     Labels ModelType                     Parameters ParameterValues  \\\n",
      "0    HEI.DE       RFC  ['max_features', 'max_depth']   ['log2', 100]   \n",
      "1   MUV2.DE       RFC  ['max_features', 'max_depth']    ['auto', 70]   \n",
      "2    DB1.DE       RFC  ['max_features', 'max_depth']   ['log2', 200]   \n",
      "3    TKA.DE       RFC  ['max_features', 'max_depth']    ['log2', 20]   \n",
      "4    SIE.DE       RFC  ['max_features', 'max_depth']    ['log2', 20]   \n",
      "5    VNA.DE       RFC  ['max_features', 'max_depth']    ['auto', 50]   \n",
      "6    PSM.DE       RFC  ['max_features', 'max_depth']   ['auto', 200]   \n",
      "7    DTE.DE       RFC  ['max_features', 'max_depth']    ['log2', 70]   \n",
      "8    IFX.DE       RFC  ['max_features', 'max_depth']    ['auto', 70]   \n",
      "9    RWE.DE       RFC  ['max_features', 'max_depth']    ['auto', 70]   \n",
      "10   ADS.DE       RFC  ['max_features', 'max_depth']   ['auto', 150]   \n",
      "11   BMW.DE       RFC  ['max_features', 'max_depth']   ['log2', 200]   \n",
      "12   DPW.DE       RFC  ['max_features', 'max_depth']   ['auto', 150]   \n",
      "13   BEI.DE       RFC  ['max_features', 'max_depth']    ['log2', 50]   \n",
      "14   DAI.DE       RFC  ['max_features', 'max_depth']    ['auto', 70]   \n",
      "15   LIN.DE       RFC  ['max_features', 'max_depth']   ['log2', 100]   \n",
      "16   BAS.DE       RFC  ['max_features', 'max_depth']    ['log2', 20]   \n",
      "17  EOAN.DE       RFC  ['max_features', 'max_depth']    ['log2', 20]   \n",
      "18   SAP.DE       RFC  ['max_features', 'max_depth']   ['auto', 100]   \n",
      "19   LHA.DE       RFC  ['max_features', 'max_depth']    ['auto', 20]   \n",
      "20   ALV.DE       RFC  ['max_features', 'max_depth']   ['log2', 200]   \n",
      "21  HEN3.DE       RFC  ['max_features', 'max_depth']    ['log2', 50]   \n",
      "22   CBK.DE       RFC  ['max_features', 'max_depth']    ['log2', 50]   \n",
      "23   FME.DE       RFC  ['max_features', 'max_depth']    ['log2', 20]   \n",
      "24   CON.DE       RFC  ['max_features', 'max_depth']    ['log2', 20]   \n",
      "25   FRE.DE       RFC  ['max_features', 'max_depth']   ['log2', 100]   \n",
      "26  VOW3.DE       RFC  ['max_features', 'max_depth']   ['auto', 200]   \n",
      "27   MRK.DE       RFC  ['max_features', 'max_depth']   ['auto', 100]   \n",
      "28  BAYN.DE       RFC  ['max_features', 'max_depth']    ['log2', 50]   \n",
      "29   DBK.DE       RFC  ['max_features', 'max_depth']    ['auto', 50]   \n",
      "\n",
      "       Score   Input ListOfFeatures        Date  \n",
      "0   0.528641  Single        default  2018-01-22  \n",
      "1   0.584951  Single        default  2018-01-22  \n",
      "2   0.552913  Single        default  2018-01-22  \n",
      "3   0.566505  Single        default  2018-01-22  \n",
      "4   0.538350  Single        default  2018-01-22  \n",
      "5   0.613187  Single        default  2018-01-22  \n",
      "6   0.528804  Single        default  2018-01-22  \n",
      "7   0.562621  Single        default  2018-01-22  \n",
      "8   0.538835  Single        default  2018-01-22  \n",
      "9   0.600485  Single        default  2018-01-22  \n",
      "10  0.550485  Single        default  2018-01-22  \n",
      "11  0.548544  Single        default  2018-01-22  \n",
      "12  0.565534  Single        default  2018-01-22  \n",
      "13  0.546117  Single        default  2018-01-22  \n",
      "14  0.544660  Single        default  2018-01-22  \n",
      "15  0.529126  Single        default  2018-01-22  \n",
      "16  0.539888  Single        default  2018-01-22  \n",
      "17  0.554369  Single        default  2018-01-22  \n",
      "18  0.572330  Single        default  2018-01-22  \n",
      "19  0.572330  Single        default  2018-01-22  \n",
      "20  0.561165  Single        default  2018-01-22  \n",
      "21  0.533981  Single        default  2018-01-22  \n",
      "22  0.609709  Single        default  2018-01-22  \n",
      "23  0.561650  Single        default  2018-01-22  \n",
      "24  0.557554  Single        default  2018-01-22  \n",
      "25  0.544175  Single        default  2018-01-22  \n",
      "26  0.561650  Single        default  2018-01-22  \n",
      "27  0.545146  Single        default  2018-01-22  \n",
      "28  0.500971  Single        default  2018-01-22  \n",
      "29  0.579612  Single        default  2018-01-22  \n"
     ]
    }
   ],
   "source": [
    "ob = ScanModel(ModelType='RFC',\n",
    "               ListOfIndices={'Germany':['DAX']},\n",
    "               PathData = '/localscratch/data/project_one/data/',n_jobs=-2)\n",
    "ob.StockGridModeling()"
   ]
  },
  {
   "cell_type": "code",
   "execution_count": 108,
   "metadata": {
    "collapsed": false
   },
   "outputs": [
    {
     "name": "stdout",
     "output_type": "stream",
     "text": [
      "True\n"
     ]
    }
   ],
   "source": [
    "print np.any(test.values != np.nan)"
   ]
  },
  {
   "cell_type": "code",
   "execution_count": null,
   "metadata": {
    "collapsed": false
   },
   "outputs": [],
   "source": []
  }
 ],
 "metadata": {
  "kernelspec": {
   "display_name": "Python 2",
   "language": "python",
   "name": "python2"
  },
  "language_info": {
   "codemirror_mode": {
    "name": "ipython",
    "version": 2
   },
   "file_extension": ".py",
   "mimetype": "text/x-python",
   "name": "python",
   "nbconvert_exporter": "python",
   "pygments_lexer": "ipython2",
   "version": "2.7.13"
  }
 },
 "nbformat": 4,
 "nbformat_minor": 0
}
