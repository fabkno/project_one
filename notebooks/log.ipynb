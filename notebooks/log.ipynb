{
 "metadata": {
  "name": "",
  "signature": "sha256:6b8b3c6b1591d4a70b5fb9df6e33a4be2ad57a4ce2dd5c63d6dda23def789873"
 },
 "nbformat": 3,
 "nbformat_minor": 0,
 "worksheets": [
  {
   "cells": [
    {
     "cell_type": "code",
     "collapsed": false,
     "input": [
      "import numpy as np\n",
      "import inspect\n",
      "import sys\n",
      "sys.path.append('/localscratch/data/project_one/update/')\n",
      "\n",
      "from logger import Log\n",
      "\n",
      "%load_ext autoreload\n",
      "%autoreload 2"
     ],
     "language": "python",
     "metadata": {},
     "outputs": [
      {
       "output_type": "stream",
       "stream": "stdout",
       "text": [
        "The autoreload extension is already loaded. To reload it, use:\n",
        "  %reload_ext autoreload\n"
       ]
      }
     ],
     "prompt_number": 19
    },
    {
     "cell_type": "code",
     "collapsed": false,
     "input": [
      "class LOG(object):\n",
      "    \n",
      "    def __init__(self):\n",
      "        \n",
      "        self.filename = 'aa.txt'\n",
      "    def logging(self,text):\n",
      "        \n",
      "        stack = inspect.stack()\n",
      "        print \"here\"\n",
      "        print stack[1][0].f_code.co_name\n",
      "        print stack[2]\n",
      "        print self.__class__.__name__\n",
      "class A(Log):\n",
      "    def __init__(self):\n",
      "        Log.__init__(self,LogFileName=\"test\",PathData='/localscratch/data/project_one/data/')\n",
      "    \n",
      "    def blubb(self):\n",
      "        \n",
      "        self.logging(\"new stuff\")"
     ],
     "language": "python",
     "metadata": {},
     "outputs": [],
     "prompt_number": 25
    },
    {
     "cell_type": "code",
     "collapsed": false,
     "input": [
      "ob = A()\n",
      "ob.blubb()"
     ],
     "language": "python",
     "metadata": {},
     "outputs": [],
     "prompt_number": 26
    },
    {
     "cell_type": "code",
     "collapsed": false,
     "input": [],
     "language": "python",
     "metadata": {},
     "outputs": []
    }
   ],
   "metadata": {}
  }
 ]
}