{
 "cells": [
  {
   "cell_type": "code",
   "execution_count": 1,
   "metadata": {
    "collapsed": true
   },
   "outputs": [],
   "source": [
    "import numpy as np \n",
    "import inspect\n",
    "import traceback\n",
    "import sys\n",
    "import time\n",
    "import datetime"
   ]
  },
  {
   "cell_type": "code",
   "execution_count": 82,
   "metadata": {
    "collapsed": false
   },
   "outputs": [],
   "source": [
    "class A(object):\n",
    "    \n",
    "    def __init__(self):\n",
    "        \n",
    "        self.ob = LOG()\n",
    "    \n",
    "    def bla(self):\n",
    "        print self.__class__.__name__\n",
    "        self.ob.write()\n",
    "        \n",
    "\n",
    "class LOG(object):\n",
    "    #def __init__(self):       \n",
    "\n",
    "    def write(self):\n",
    "        #print time.strftime(\"%d %b %Y %H:%M:%S\",time.localtime()),\"from class:\",self.__class__.__name__, \"method:\",inspect.currentframe().f_code.co_name\n",
    "        #print inspect.getframeinfo(inspect.currentframe())\n",
    "        #print inspect.currentframe().f_code.co_name\n",
    "        #print 'caller name:', inspect.getclasstree()\n",
    "        #print inspect.stack()[1]\n",
    "        #print inspect.stack()[0]\n",
    "        stack = inspect.stack()[1][0]\n",
    "        #print self.__class__\n",
    "        print stack.f_code.co_name\n",
    "        \n",
    "        #print stack._class__.__name__\n",
    "        \n",
    "        #print stack[1][0].f_code.co_name\n",
    "        #the_class = stack[1][0].f_locals[\"self\"].__class__\n",
    "        #the_method = stack[1][0].f_code.co_name\n",
    "        #print \"here\""
   ]
  },
  {
   "cell_type": "code",
   "execution_count": 83,
   "metadata": {
    "collapsed": false
   },
   "outputs": [
    {
     "name": "stdout",
     "output_type": "stream",
     "text": [
      "A\n",
      "bla\n"
     ]
    }
   ],
   "source": [
    "a =A()\n",
    "\n",
    "a.bla()\n",
    "#ob = LOG()\n",
    "#ob.test()\n",
    "#today = datetime.datetime.today().date()\n",
    "#print str(today.year)+'_'+str(today.month)+'_'+str(today.day)"
   ]
  },
  {
   "cell_type": "code",
   "execution_count": 81,
   "metadata": {
    "collapsed": false
   },
   "outputs": [
    {
     "name": "stdout",
     "output_type": "stream",
     "text": [
      "[]\n"
     ]
    }
   ],
   "source": [
    "f = open('123.txt','a+')\n",
    "print f.readlines()\n",
    "f.close()    "
   ]
  },
  {
   "cell_type": "code",
   "execution_count": 110,
   "metadata": {
    "collapsed": false
   },
   "outputs": [
    {
     "name": "stdout",
     "output_type": "stream",
     "text": [
      "A\n",
      "('04 Feb 2018 19:30:13', 'from class:', 'A', 'method:', 'bla')\n"
     ]
    },
    {
     "ename": "AttributeError",
     "evalue": "Log instance has no attribute 'f'",
     "output_type": "error",
     "traceback": [
      "\u001b[1;31m---------------------------------------------------------------------------\u001b[0m",
      "\u001b[1;31mAttributeError\u001b[0m                            Traceback (most recent call last)",
      "\u001b[1;32m<ipython-input-110-a0b069922f2c>\u001b[0m in \u001b[0;36m<module>\u001b[1;34m()\u001b[0m\n\u001b[0;32m     34\u001b[0m \u001b[1;33m\u001b[0m\u001b[0m\n\u001b[0;32m     35\u001b[0m \u001b[0mx\u001b[0m \u001b[1;33m=\u001b[0m \u001b[0mA\u001b[0m\u001b[1;33m(\u001b[0m\u001b[1;33m)\u001b[0m\u001b[1;33m\u001b[0m\u001b[0m\n\u001b[1;32m---> 36\u001b[1;33m \u001b[0mx\u001b[0m\u001b[1;33m.\u001b[0m\u001b[0mbla\u001b[0m\u001b[1;33m(\u001b[0m\u001b[1;33m)\u001b[0m\u001b[1;33m\u001b[0m\u001b[0m\n\u001b[0m\u001b[0;32m     37\u001b[0m \u001b[1;31m#with Log() as logfile:\u001b[0m\u001b[1;33m\u001b[0m\u001b[1;33m\u001b[0m\u001b[0m\n\u001b[0;32m     38\u001b[0m \u001b[1;31m#    print(\"Main\")\u001b[0m\u001b[1;33m\u001b[0m\u001b[1;33m\u001b[0m\u001b[0m\n",
      "\u001b[1;32m<ipython-input-110-a0b069922f2c>\u001b[0m in \u001b[0;36mbla\u001b[1;34m(self)\u001b[0m\n\u001b[0;32m     31\u001b[0m     \u001b[1;32mdef\u001b[0m \u001b[0mbla\u001b[0m\u001b[1;33m(\u001b[0m\u001b[0mself\u001b[0m\u001b[1;33m)\u001b[0m\u001b[1;33m:\u001b[0m\u001b[1;33m\u001b[0m\u001b[0m\n\u001b[0;32m     32\u001b[0m         \u001b[1;32mprint\u001b[0m \u001b[0mself\u001b[0m\u001b[1;33m.\u001b[0m\u001b[0m__class__\u001b[0m\u001b[1;33m.\u001b[0m\u001b[0m__name__\u001b[0m\u001b[1;33m\u001b[0m\u001b[0m\n\u001b[1;32m---> 33\u001b[1;33m         \u001b[0mself\u001b[0m\u001b[1;33m.\u001b[0m\u001b[0mob\u001b[0m\u001b[1;33m.\u001b[0m\u001b[0mlogging\u001b[0m\u001b[1;33m(\u001b[0m\u001b[1;34m'TEST'\u001b[0m\u001b[1;33m,\u001b[0m\u001b[0mself\u001b[0m\u001b[1;33m.\u001b[0m\u001b[0m__class__\u001b[0m\u001b[1;33m.\u001b[0m\u001b[0m__name__\u001b[0m\u001b[1;33m)\u001b[0m\u001b[1;33m\u001b[0m\u001b[0m\n\u001b[0m\u001b[0;32m     34\u001b[0m \u001b[1;33m\u001b[0m\u001b[0m\n\u001b[0;32m     35\u001b[0m \u001b[0mx\u001b[0m \u001b[1;33m=\u001b[0m \u001b[0mA\u001b[0m\u001b[1;33m(\u001b[0m\u001b[1;33m)\u001b[0m\u001b[1;33m\u001b[0m\u001b[0m\n",
      "\u001b[1;32m<ipython-input-110-a0b069922f2c>\u001b[0m in \u001b[0;36mlogging\u001b[1;34m(self, text, className)\u001b[0m\n\u001b[0;32m     12\u001b[0m \u001b[1;33m\u001b[0m\u001b[0m\n\u001b[0;32m     13\u001b[0m \u001b[1;33m\u001b[0m\u001b[0m\n\u001b[1;32m---> 14\u001b[1;33m         \u001b[0mself\u001b[0m\u001b[1;33m.\u001b[0m\u001b[0mf\u001b[0m\u001b[1;33m.\u001b[0m\u001b[0mwrite\u001b[0m\u001b[1;33m(\u001b[0m\u001b[0mtext\u001b[0m\u001b[1;33m)\u001b[0m\u001b[1;33m\u001b[0m\u001b[0m\n\u001b[0m\u001b[0;32m     15\u001b[0m \u001b[1;33m\u001b[0m\u001b[0m\n\u001b[0;32m     16\u001b[0m         \u001b[0mself\u001b[0m\u001b[1;33m.\u001b[0m\u001b[0mf\u001b[0m\u001b[1;33m.\u001b[0m\u001b[0mclose\u001b[0m\u001b[1;33m(\u001b[0m\u001b[1;33m)\u001b[0m\u001b[1;33m\u001b[0m\u001b[0m\n",
      "\u001b[1;31mAttributeError\u001b[0m: Log instance has no attribute 'f'"
     ]
    }
   ],
   "source": [
    "class Log:\n",
    "    def __init__(self):\n",
    "        self.filename=\"aaa.txt\"\n",
    " \n",
    "        \n",
    "    def logging(self,text,className):\n",
    "        with open(self.filename,'a+') as f:\n",
    "                string = time.strftime(\"%d %b %Y %H:%M:%S\",time.localtime()),\"from class:\",className, \"method:\",inspect.stack()[1][0].f_code.co_name\n",
    "                print string\n",
    "                \n",
    "        \n",
    "        \n",
    "        \n",
    "   \n",
    "        #print string+'\\t'+text+'\\n'\n",
    "        print text,className\n",
    "\n",
    "   \n",
    "    def __exit__(self, exc_type, exc_val, exc_tb):\n",
    "        print \"here\"\n",
    "        self.f.close()\n",
    "\t\n",
    "class A(object):\n",
    "    \n",
    "    def __init__(self):\n",
    "        \n",
    "        self.ob = Log()\n",
    "    \n",
    "    def bla(self):\n",
    "        print self.__class__.__name__\n",
    "        self.ob.logging('TEST',self.__class__.__name__)\n",
    "        \n",
    "x = A()\n",
    "x.bla()\n",
    "#with Log() as logfile:\n",
    "#    print(\"Main\")\n",
    " #   logfile.logging(\"Test1\")\n",
    "  #  logfile.logging(\"Test2\")"
   ]
  },
  {
   "cell_type": "code",
   "execution_count": null,
   "metadata": {
    "collapsed": true
   },
   "outputs": [],
   "source": []
  }
 ],
 "metadata": {
  "kernelspec": {
   "display_name": "Python 2",
   "language": "python",
   "name": "python2"
  },
  "language_info": {
   "codemirror_mode": {
    "name": "ipython",
    "version": 2
   },
   "file_extension": ".py",
   "mimetype": "text/x-python",
   "name": "python",
   "nbconvert_exporter": "python",
   "pygments_lexer": "ipython2",
   "version": "2.7.13"
  }
 },
 "nbformat": 4,
 "nbformat_minor": 0
}
