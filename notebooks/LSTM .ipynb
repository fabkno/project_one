{
 "cells": [
  {
   "cell_type": "code",
   "execution_count": 56,
   "metadata": {},
   "outputs": [
    {
     "name": "stdout",
     "output_type": "stream",
     "text": [
      "The autoreload extension is already loaded. To reload it, use:\n",
      "  %reload_ext autoreload\n"
     ]
    }
   ],
   "source": [
    "from keras.preprocessing import sequence\n",
    "from keras.models import Sequential\n",
    "from keras.layers import Dense, Embedding\n",
    "from keras.layers import LSTM\n",
    "from keras.utils import np_utils\n",
    "import pandas as pd\n",
    "import numpy as np\n",
    "import sys\n",
    "sys.path.append('/localscratch/data/project_one/update/')\n",
    "import util\n",
    "%load_ext autoreload\n",
    "%autoreload 2"
   ]
  },
  {
   "cell_type": "code",
   "execution_count": 92,
   "metadata": {},
   "outputs": [
    {
     "name": "stdout",
     "output_type": "stream",
     "text": [
      "Index([u'Date', u'Close', u'Volume', u'GD200', u'GD200X', u'GD100', u'GD100X',\n",
      "       u'GD50', u'GD50X', u'GD38', u'GD38X', u'Lower_BB_20_2',\n",
      "       u'Upper_BB_20_2', u'Middle_BB_20_2', u'RSI7', u'RSI7X', u'RSI14',\n",
      "       u'RSI14X', u'RSI25', u'RSI25X', u'WR14', u'WR14X', u'CCI20', u'CCI20X',\n",
      "       u'PDI14R', u'NDI14R', u'PDI14RX', u'NDI14RX', u'MACD', u'MACDX',\n",
      "       u'MACDH', u'MACDHX', u'MAX20', u'MAX65', u'MAX130', u'MAX260', u'MIN20',\n",
      "       u'MIN65', u'MIN130', u'MIN260', u'PVOH', u'PVOHX', u'TRIX', u'TRIXH',\n",
      "       u'TRIXHX', u'RSV14', u'RSVH14', u'RSVH14X'],\n",
      "      dtype='object')\n",
      "(4361, 29) (4361, 12)\n",
      "          Date  Close    Volume     GD200    GD200X     GD100    GD100X  \\\n",
      "243 2001-01-04  388.0  803823.0 -0.008911  0.006155  0.002595  0.016066   \n",
      "\n",
      "         GD50   GD50X      GD38    ...       MIN130    MIN260     PVOH  \\\n",
      "243 -0.013788  0.0018 -0.018173    ...     0.094654  0.227848  1.31334   \n",
      "\n",
      "        PVOHX      TRIX     TRIXH   TRIXHX      RSV14    RSVH14   RSVH14X  \n",
      "243 -6.713409 -0.071591  0.000263 -0.02257  55.643931 -7.566037  0.877155  \n",
      "\n",
      "[1 rows x 48 columns]\n"
     ]
    }
   ],
   "source": [
    "_input = pd.read_pickle('/localscratch/data/project_one/data/chart/stocks/ALV.DE.p')\n",
    "_classification = pd.read_pickle('/localscratch/data/project_one/data/classification/stocks/duration_3/ALV.DE.p')\n",
    "\n",
    "print _input.columns\n",
    "noFeatures =['Date','Close'] +  [X for X in _input.columns if X[-1] == 'X'] \n",
    "\n",
    "common_dates =util.find_common_notnull_dates(_input,_classification)\n",
    "\n",
    "_input  = _input.loc[_input['Date'].isin(common_dates)]\n",
    "Xfull  = _input.loc[:,_input.columns.isin(noFeatures) == False].values\n",
    "\n",
    "_classification = _classification.loc[_classification['Date'].isin(common_dates)]\n",
    "Yfull = _classification.loc[:,_classification.columns.isin(['Date']) == False].values*1.0\n",
    "\n",
    "\n",
    "\n",
    "Xfull -= np.mean(Xfull,axis=0)\n",
    "Xfull /= np.std(Xfull,axis=0)\n",
    "\n",
    "\n",
    "print Xfull.shape,Yfull.shape\n",
    "print _input[10:11]"
   ]
  },
  {
   "cell_type": "code",
   "execution_count": 93,
   "metadata": {},
   "outputs": [
    {
     "name": "stdout",
     "output_type": "stream",
     "text": [
      "(4351, 12)\n"
     ]
    }
   ],
   "source": [
    "def convert_to_squence(N_seq,X,Y):\n",
    "    \n",
    "    X -=np.mean(X)\n",
    "    X /=np.std(X)\n",
    "    \n",
    "    Y_new = np.zeros(len(X)-N_seq)\n",
    "    Y_new = [Y[N_seq+i] for i in range(len(Y_new))]\n",
    "    \n",
    "    X_new = [X[i:(i+N_seq),:] for i in range(len(Y_new))]\n",
    "    \n",
    "    return np.array(X_new),np.array(Y_new)\n",
    "    \n",
    "Xnew,Ynew = convert_to_squence(10,Xfull,Yfull)\n",
    "\n",
    "\n",
    "print Ynew.shape"
   ]
  },
  {
   "cell_type": "code",
   "execution_count": 94,
   "metadata": {},
   "outputs": [
    {
     "name": "stdout",
     "output_type": "stream",
     "text": [
      "(4151, 10, 29) (200, 10, 29)\n"
     ]
    }
   ],
   "source": [
    "Xtrain = Xnew[0:-200,:,:]\n",
    "Ytrain = Ynew[0:-200,:]\n",
    "\n",
    "Xtest = Xnew[-200:,:,:]\n",
    "Ytest = Ynew[-200:,:]\n",
    "\n",
    "print Xtrain.shape,Xtest.shape"
   ]
  },
  {
   "cell_type": "code",
   "execution_count": 62,
   "metadata": {},
   "outputs": [],
   "source": [
    "S = np_utils.to_categorical(np.argmax(Ytest,axis=1),num_classes=12)"
   ]
  },
  {
   "cell_type": "code",
   "execution_count": 67,
   "metadata": {},
   "outputs": [
    {
     "name": "stdout",
     "output_type": "stream",
     "text": [
      "[ 0.  0.  0.  0.  0.  0.  0.  1.  0.  0.  0.  0.]\n",
      "[ 0.  0.  0.  0.  0.  0.  0.  1.  0.  0.  0.  0.]\n"
     ]
    }
   ],
   "source": [
    "print S[2,:]\n",
    "print Ytest[2,:]"
   ]
  },
  {
   "cell_type": "code",
   "execution_count": 69,
   "metadata": {},
   "outputs": [
    {
     "name": "stdout",
     "output_type": "stream",
     "text": [
      "(10, 29)\n"
     ]
    }
   ],
   "source": [
    "print Xtrain.shape[1:]"
   ]
  },
  {
   "cell_type": "code",
   "execution_count": null,
   "metadata": {},
   "outputs": [
    {
     "name": "stdout",
     "output_type": "stream",
     "text": [
      "_________________________________________________________________\n",
      "Layer (type)                 Output Shape              Param #   \n",
      "=================================================================\n",
      "lstm_20 (LSTM)               (None, 100)               52000     \n",
      "_________________________________________________________________\n",
      "dense_39 (Dense)             (None, 50)                5050      \n",
      "_________________________________________________________________\n",
      "dense_40 (Dense)             (None, 12)                612       \n",
      "=================================================================\n",
      "Total params: 57,662\n",
      "Trainable params: 57,662\n",
      "Non-trainable params: 0\n",
      "_________________________________________________________________\n",
      "None\n",
      "Train on 4151 samples, validate on 200 samples\n",
      "Epoch 1/200\n",
      " - 10s - loss: 2.3564 - acc: 0.1479 - val_loss: 1.9595 - val_acc: 0.2900\n",
      "Epoch 2/200\n",
      " - 3s - loss: 2.2770 - acc: 0.1843 - val_loss: 1.9555 - val_acc: 0.2500\n",
      "Epoch 3/200\n",
      " - 2s - loss: 2.2649 - acc: 0.1879 - val_loss: 1.9135 - val_acc: 0.2600\n",
      "Epoch 4/200\n",
      " - 2s - loss: 2.2548 - acc: 0.1850 - val_loss: 1.8912 - val_acc: 0.2800\n",
      "Epoch 5/200\n",
      " - 2s - loss: 2.2455 - acc: 0.1828 - val_loss: 1.9068 - val_acc: 0.2650\n",
      "Epoch 6/200\n",
      " - 2s - loss: 2.2366 - acc: 0.1838 - val_loss: 1.9028 - val_acc: 0.2550\n",
      "Epoch 7/200\n",
      " - 3s - loss: 2.2250 - acc: 0.1963 - val_loss: 1.8660 - val_acc: 0.2800\n",
      "Epoch 8/200\n",
      " - 2s - loss: 2.2203 - acc: 0.1947 - val_loss: 1.8908 - val_acc: 0.2550\n",
      "Epoch 9/200\n",
      " - 2s - loss: 2.2083 - acc: 0.2007 - val_loss: 1.8629 - val_acc: 0.2750\n",
      "Epoch 10/200\n",
      " - 3s - loss: 2.1971 - acc: 0.2084 - val_loss: 1.8570 - val_acc: 0.2600\n",
      "Epoch 11/200\n",
      " - 2s - loss: 2.1921 - acc: 0.2065 - val_loss: 1.8434 - val_acc: 0.2700\n",
      "Epoch 12/200\n",
      " - 2s - loss: 2.1842 - acc: 0.2125 - val_loss: 1.8533 - val_acc: 0.1800\n",
      "Epoch 13/200\n",
      " - 3s - loss: 2.1730 - acc: 0.2180 - val_loss: 1.8905 - val_acc: 0.2000\n",
      "Epoch 14/200\n",
      " - 3s - loss: 2.1614 - acc: 0.2084 - val_loss: 1.8681 - val_acc: 0.2200\n",
      "Epoch 15/200\n",
      " - 3s - loss: 2.1545 - acc: 0.2202 - val_loss: 1.8840 - val_acc: 0.2150\n",
      "Epoch 16/200\n",
      " - 2s - loss: 2.1359 - acc: 0.2371 - val_loss: 1.8835 - val_acc: 0.1950\n",
      "Epoch 17/200\n",
      " - 2s - loss: 2.1351 - acc: 0.2308 - val_loss: 1.8979 - val_acc: 0.2100\n",
      "Epoch 18/200\n",
      " - 3s - loss: 2.1199 - acc: 0.2322 - val_loss: 1.8730 - val_acc: 0.2250\n",
      "Epoch 19/200\n",
      " - 3s - loss: 2.1055 - acc: 0.2411 - val_loss: 1.9041 - val_acc: 0.2300\n",
      "Epoch 20/200\n",
      " - 3s - loss: 2.0972 - acc: 0.2501 - val_loss: 1.8950 - val_acc: 0.1850\n",
      "Epoch 21/200\n",
      " - 2s - loss: 2.0882 - acc: 0.2460 - val_loss: 1.8773 - val_acc: 0.2400\n",
      "Epoch 22/200\n",
      " - 1s - loss: 2.0772 - acc: 0.2544 - val_loss: 1.8748 - val_acc: 0.1950\n",
      "Epoch 23/200\n",
      " - 1s - loss: 2.0654 - acc: 0.2573 - val_loss: 1.9110 - val_acc: 0.2150\n",
      "Epoch 24/200\n",
      " - 2s - loss: 2.0551 - acc: 0.2542 - val_loss: 1.9012 - val_acc: 0.2200\n",
      "Epoch 25/200\n",
      " - 3s - loss: 2.0396 - acc: 0.2633 - val_loss: 1.8582 - val_acc: 0.2200\n",
      "Epoch 26/200\n",
      " - 3s - loss: 2.0323 - acc: 0.2729 - val_loss: 1.8682 - val_acc: 0.2450\n",
      "Epoch 27/200\n",
      " - 3s - loss: 2.0223 - acc: 0.2717 - val_loss: 1.8911 - val_acc: 0.2500\n",
      "Epoch 28/200\n",
      " - 3s - loss: 1.9998 - acc: 0.2768 - val_loss: 1.9239 - val_acc: 0.2100\n",
      "Epoch 29/200\n",
      " - 2s - loss: 1.9965 - acc: 0.2874 - val_loss: 1.9662 - val_acc: 0.2500\n",
      "Epoch 30/200\n",
      " - 3s - loss: 1.9927 - acc: 0.2795 - val_loss: 1.9281 - val_acc: 0.2350\n",
      "Epoch 31/200\n",
      " - 3s - loss: 1.9814 - acc: 0.2881 - val_loss: 1.9487 - val_acc: 0.2100\n",
      "Epoch 32/200\n",
      " - 3s - loss: 1.9550 - acc: 0.3028 - val_loss: 1.9608 - val_acc: 0.2050\n",
      "Epoch 33/200\n",
      " - 2s - loss: 1.9364 - acc: 0.3057 - val_loss: 1.9915 - val_acc: 0.2250\n",
      "Epoch 34/200\n",
      " - 2s - loss: 1.9472 - acc: 0.2910 - val_loss: 1.9909 - val_acc: 0.2200\n",
      "Epoch 35/200\n",
      " - 3s - loss: 1.9233 - acc: 0.3081 - val_loss: 2.0036 - val_acc: 0.1900\n",
      "Epoch 36/200\n",
      " - 3s - loss: 1.9033 - acc: 0.3351 - val_loss: 2.0108 - val_acc: 0.2150\n",
      "Epoch 37/200\n",
      " - 3s - loss: 1.9026 - acc: 0.3223 - val_loss: 1.9786 - val_acc: 0.2250\n",
      "Epoch 38/200\n",
      " - 2s - loss: 1.9012 - acc: 0.3178 - val_loss: 2.0103 - val_acc: 0.2350\n",
      "Epoch 39/200\n",
      " - 2s - loss: 1.8778 - acc: 0.3259 - val_loss: 2.0546 - val_acc: 0.2400\n",
      "Epoch 40/200\n",
      " - 3s - loss: 1.8644 - acc: 0.3375 - val_loss: 2.0447 - val_acc: 0.2000\n",
      "Epoch 41/200\n",
      " - 3s - loss: 1.8704 - acc: 0.3211 - val_loss: 2.0599 - val_acc: 0.2000\n",
      "Epoch 42/200\n",
      " - 3s - loss: 1.8405 - acc: 0.3365 - val_loss: 2.0509 - val_acc: 0.1900\n",
      "Epoch 43/200\n",
      " - 2s - loss: 1.8414 - acc: 0.3394 - val_loss: 2.0194 - val_acc: 0.1950\n",
      "Epoch 44/200\n",
      " - 2s - loss: 1.8257 - acc: 0.3435 - val_loss: 2.0372 - val_acc: 0.2100\n",
      "Epoch 45/200\n",
      " - 3s - loss: 1.8325 - acc: 0.3435 - val_loss: 2.0404 - val_acc: 0.2150\n",
      "Epoch 46/200\n",
      " - 3s - loss: 1.8072 - acc: 0.3471 - val_loss: 2.0383 - val_acc: 0.2100\n",
      "Epoch 47/200\n",
      " - 3s - loss: 1.8071 - acc: 0.3471 - val_loss: 2.0399 - val_acc: 0.2500\n",
      "Epoch 48/200\n",
      " - 2s - loss: 1.7902 - acc: 0.3479 - val_loss: 2.0942 - val_acc: 0.2050\n",
      "Epoch 49/200\n",
      " - 1s - loss: 1.7776 - acc: 0.3633 - val_loss: 2.1252 - val_acc: 0.2050\n",
      "Epoch 50/200\n",
      " - 1s - loss: 1.7728 - acc: 0.3662 - val_loss: 2.1101 - val_acc: 0.2150\n",
      "Epoch 51/200\n",
      " - 1s - loss: 1.7623 - acc: 0.3691 - val_loss: 2.1434 - val_acc: 0.2250\n",
      "Epoch 52/200\n",
      " - 3s - loss: 1.7674 - acc: 0.3577 - val_loss: 2.1546 - val_acc: 0.2150\n",
      "Epoch 53/200\n"
     ]
    }
   ],
   "source": [
    "model = Sequential()\n",
    "model.add(LSTM(100,dropout=0.2,recurrent_dropout=0.2,input_shape=(None,29)))\n",
    "model.add(Dense(50,activation='sigmoid'))\n",
    "model.add(Dense(12,activation='sigmoid'))\n",
    "model.compile(loss='categorical_crossentropy', optimizer='adam',metrics=['accuracy'])\n",
    "#monitor = EarlyStopping(monitor='val_loss', min_delta=1e-3, patience=5, verbose=1, mode='auto')\n",
    "print(model.summary())\n",
    "model.fit(Xtrain,Ytrain,validation_data=(Xtest,Ytest),verbose=2,epochs=200)"
   ]
  },
  {
   "cell_type": "code",
   "execution_count": 104,
   "metadata": {},
   "outputs": [
    {
     "name": "stdout",
     "output_type": "stream",
     "text": [
      "200/200 [==============================] - 0s 2ms/step\n",
      "0.262516791821\n",
      "0.912083296776\n",
      "200/200 [==============================] - 2s 8ms/step\n"
     ]
    }
   ],
   "source": [
    "score,acc = model.evaluate(Xtest,Ytest)\n",
    "\n",
    "print score\n",
    "print acc\n",
    "\n",
    "p_test = model.predict_proba(Xtest)"
   ]
  },
  {
   "cell_type": "code",
   "execution_count": 105,
   "metadata": {},
   "outputs": [
    {
     "name": "stdout",
     "output_type": "stream",
     "text": [
      "0.26\n"
     ]
    }
   ],
   "source": [
    "pred =  np.argmax(p_test,axis=1)\n",
    "true= np.argmax(Ytest,axis=1)\n",
    "print np.sum((pred == true) *1.0)/len(true)"
   ]
  },
  {
   "cell_type": "code",
   "execution_count": null,
   "metadata": {},
   "outputs": [],
   "source": []
  }
 ],
 "metadata": {
  "kernelspec": {
   "display_name": "Python 2",
   "language": "python",
   "name": "python2"
  },
  "language_info": {
   "codemirror_mode": {
    "name": "ipython",
    "version": 2
   },
   "file_extension": ".py",
   "mimetype": "text/x-python",
   "name": "python",
   "nbconvert_exporter": "python",
   "pygments_lexer": "ipython2",
   "version": "2.7.12"
  }
 },
 "nbformat": 4,
 "nbformat_minor": 2
}
